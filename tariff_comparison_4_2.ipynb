{
 "cells": [
  {
   "cell_type": "markdown",
   "metadata": {},
   "source": [
    "# Определение перспективного тарифа для телеком-компании\n",
    "\n",
    "Вы аналитик компании «Мегалайн» — федерального оператора сотовой связи. Клиентам предлагают два тарифных плана: «Смарт» и «Ультра». Чтобы скорректировать рекламный бюджет, коммерческий департамент хочет понять, какой тариф приносит больше денег.\n",
    "Вам предстоит сделать предварительный анализ тарифов на небольшой выборке клиентов. В вашем распоряжении данные 500 пользователей «Мегалайна»: кто они, откуда, каким тарифом пользуются, сколько звонков и сообщений каждый отправил за 2018 год. Нужно проанализировать поведение клиентов и сделать вывод — какой тариф лучше."
   ]
  },
  {
   "cell_type": "markdown",
   "metadata": {},
   "source": [
    "## Описание тарифов \n",
    "   \n",
    "**Тариф «Смарт»**   \n",
    "1. Ежемесячная плата: 550 рублей   \n",
    "2. Включено 500 минут разговора, 50 сообщений и 15 Гб интернет-трафика  \n",
    "3. Стоимость услуг сверх тарифного пакета:   \n",
    " - минута разговора: 3 рубля   \n",
    " - сообщение: 3 рубля   \n",
    " - 1 Гб интернет-трафика: 200 рублей   \n",
    "   \n",
    "**Тариф «Ультра»**   \n",
    "1. Ежемесячная плата: 1950 рублей   \n",
    "2. Включено 3000 минут разговора, 1000 сообщений и 30 Гб интернет-трафика  \n",
    "3. Стоимость услуг сверх тарифного пакета:   \n",
    " - минута разговора: 1 рубль   \n",
    " - сообщение: 1 рубль   \n",
    " - 1 Гб интернет-трафика: 150 рублей   \n",
    "    \n",
    "**Примечание**    \n",
    "«Мегалайн» всегда округляет секунды до минут, а мегабайты — до гигабайт. Каждый звонок округляется отдельно: даже если он длился всего 1 секунду, будет засчитан как 1 минута.\n",
    "Для веб-трафика отдельные сессии не считаются. Вместо этого общая сумма за месяц округляется в бо́льшую сторону. Если абонент использует 1025 мегабайт в этом месяце, с него возьмут плату за 2 гигабайта. Примите, что неиспользованные за предыдущий месяц звонки, смс, интернет на следующий месяц не переносятся."
   ]
  },
  {
   "cell_type": "markdown",
   "metadata": {},
   "source": [
    "## Описание данных    \n",
    "    \n",
    "Таблица `users` (информация о пользователях):    \n",
    "- *user_id* — уникальный идентификатор пользователя   \n",
    "- *first_name* — имя пользователя   \n",
    "- *last_name* — фамилия пользователя  \n",
    "- *age* — возраст пользователя (годы)   \n",
    "- *reg_date* — дата подключения тарифа (день, месяц, год)  \n",
    "- *churn_date* — дата прекращения пользования тарифом (если значение пропущено, то тариф ещё действовал на момент выгрузки данных)  \n",
    "- *city* — город проживания пользователя  \n",
    "- *tariff* — название тарифного плана     \n",
    "  \n",
    "Таблица `calls` (информация о звонках):   \n",
    "- *id* — уникальный номер звонка  \n",
    "- *call_date* — дата звонка  \n",
    "- *duration* — длительность звонка в минутах  \n",
    "- *user_id* — идентификатор пользователя, сделавшего звонок  \n",
    "  \n",
    "Таблица `messages` (информация о сообщениях):  \n",
    "- *id* — уникальный номер сообщения  \n",
    "- *message_date* — дата сообщения  \n",
    "- *user_id* — идентификатор пользователя, отправившего сообщение  \n",
    "  \n",
    "Таблица `internet` (информация об интернет-сессиях):  \n",
    "- *id* — уникальный номер сессии   \n",
    "- *mb_used* — объём потраченного за сессию интернет-трафика (в мегабайтах)  \n",
    "- *session_date* — дата интернет-сессии  \n",
    "- *user_id* — идентификатор пользователя  \n",
    "  \n",
    "Таблица `tariffs` (информация о тарифах):  \n",
    "- *tariff_name* — название тарифа  \n",
    "- *rub_monthly_fee* — ежемесячная абонентская плата в рублях  \n",
    "- *minutes_included* — количество минут разговора в месяц, включённых в абонентскую плату  \n",
    "- *messages_included* — количество сообщений в месяц, включённых в абонентскую плату  \n",
    "- *mb_per_month_included* — объём интернет-трафика, включённого в абонентскую плату (в мегабайтах)  \n",
    "- *rub_per_minute* — стоимость минуты разговора сверх тарифного пакета (например, если в тарифе 100 минут разговора в месяц, то со 101 минуты будет взиматься плата)  \n",
    "- *rub_per_message* — стоимость отправки сообщения сверх тарифного пакета  \n",
    "- *rub_per_gb* — стоимость дополнительного гигабайта интернет-трафика сверх тарифного пакета (1 гигабайт = 1024 мегабайта)  "
   ]
  },
  {
   "cell_type": "markdown",
   "metadata": {},
   "source": [
    "## Изучение данных из файла "
   ]
  },
  {
   "cell_type": "code",
   "execution_count": 1,
   "metadata": {},
   "outputs": [],
   "source": [
    "import pandas as pd\n",
    "import numpy as np\n",
    "import matplotlib.pyplot as plt\n",
    "from scipy import stats as st"
   ]
  },
  {
   "cell_type": "code",
   "execution_count": 2,
   "metadata": {
    "scrolled": true
   },
   "outputs": [
    {
     "data": {
      "text/html": [
       "<div>\n",
       "<style scoped>\n",
       "    .dataframe tbody tr th:only-of-type {\n",
       "        vertical-align: middle;\n",
       "    }\n",
       "\n",
       "    .dataframe tbody tr th {\n",
       "        vertical-align: top;\n",
       "    }\n",
       "\n",
       "    .dataframe thead th {\n",
       "        text-align: right;\n",
       "    }\n",
       "</style>\n",
       "<table border=\"1\" class=\"dataframe\">\n",
       "  <thead>\n",
       "    <tr style=\"text-align: right;\">\n",
       "      <th></th>\n",
       "      <th>id</th>\n",
       "      <th>call_date</th>\n",
       "      <th>duration</th>\n",
       "      <th>user_id</th>\n",
       "    </tr>\n",
       "  </thead>\n",
       "  <tbody>\n",
       "    <tr>\n",
       "      <td>0</td>\n",
       "      <td>1000_0</td>\n",
       "      <td>2018-07-25</td>\n",
       "      <td>0.00</td>\n",
       "      <td>1000</td>\n",
       "    </tr>\n",
       "    <tr>\n",
       "      <td>1</td>\n",
       "      <td>1000_1</td>\n",
       "      <td>2018-08-17</td>\n",
       "      <td>0.00</td>\n",
       "      <td>1000</td>\n",
       "    </tr>\n",
       "    <tr>\n",
       "      <td>2</td>\n",
       "      <td>1000_2</td>\n",
       "      <td>2018-06-11</td>\n",
       "      <td>2.85</td>\n",
       "      <td>1000</td>\n",
       "    </tr>\n",
       "    <tr>\n",
       "      <td>3</td>\n",
       "      <td>1000_3</td>\n",
       "      <td>2018-09-21</td>\n",
       "      <td>13.80</td>\n",
       "      <td>1000</td>\n",
       "    </tr>\n",
       "    <tr>\n",
       "      <td>4</td>\n",
       "      <td>1000_4</td>\n",
       "      <td>2018-12-15</td>\n",
       "      <td>5.18</td>\n",
       "      <td>1000</td>\n",
       "    </tr>\n",
       "  </tbody>\n",
       "</table>\n",
       "</div>"
      ],
      "text/plain": [
       "       id   call_date  duration  user_id\n",
       "0  1000_0  2018-07-25      0.00     1000\n",
       "1  1000_1  2018-08-17      0.00     1000\n",
       "2  1000_2  2018-06-11      2.85     1000\n",
       "3  1000_3  2018-09-21     13.80     1000\n",
       "4  1000_4  2018-12-15      5.18     1000"
      ]
     },
     "metadata": {},
     "output_type": "display_data"
    },
    {
     "data": {
      "text/html": [
       "<div>\n",
       "<style scoped>\n",
       "    .dataframe tbody tr th:only-of-type {\n",
       "        vertical-align: middle;\n",
       "    }\n",
       "\n",
       "    .dataframe tbody tr th {\n",
       "        vertical-align: top;\n",
       "    }\n",
       "\n",
       "    .dataframe thead th {\n",
       "        text-align: right;\n",
       "    }\n",
       "</style>\n",
       "<table border=\"1\" class=\"dataframe\">\n",
       "  <thead>\n",
       "    <tr style=\"text-align: right;\">\n",
       "      <th></th>\n",
       "      <th>Unnamed: 0</th>\n",
       "      <th>id</th>\n",
       "      <th>mb_used</th>\n",
       "      <th>session_date</th>\n",
       "      <th>user_id</th>\n",
       "    </tr>\n",
       "  </thead>\n",
       "  <tbody>\n",
       "    <tr>\n",
       "      <td>0</td>\n",
       "      <td>0</td>\n",
       "      <td>1000_0</td>\n",
       "      <td>112.95</td>\n",
       "      <td>2018-11-25</td>\n",
       "      <td>1000</td>\n",
       "    </tr>\n",
       "    <tr>\n",
       "      <td>1</td>\n",
       "      <td>1</td>\n",
       "      <td>1000_1</td>\n",
       "      <td>1052.81</td>\n",
       "      <td>2018-09-07</td>\n",
       "      <td>1000</td>\n",
       "    </tr>\n",
       "    <tr>\n",
       "      <td>2</td>\n",
       "      <td>2</td>\n",
       "      <td>1000_2</td>\n",
       "      <td>1197.26</td>\n",
       "      <td>2018-06-25</td>\n",
       "      <td>1000</td>\n",
       "    </tr>\n",
       "    <tr>\n",
       "      <td>3</td>\n",
       "      <td>3</td>\n",
       "      <td>1000_3</td>\n",
       "      <td>550.27</td>\n",
       "      <td>2018-08-22</td>\n",
       "      <td>1000</td>\n",
       "    </tr>\n",
       "    <tr>\n",
       "      <td>4</td>\n",
       "      <td>4</td>\n",
       "      <td>1000_4</td>\n",
       "      <td>302.56</td>\n",
       "      <td>2018-09-24</td>\n",
       "      <td>1000</td>\n",
       "    </tr>\n",
       "  </tbody>\n",
       "</table>\n",
       "</div>"
      ],
      "text/plain": [
       "   Unnamed: 0      id  mb_used session_date  user_id\n",
       "0           0  1000_0   112.95   2018-11-25     1000\n",
       "1           1  1000_1  1052.81   2018-09-07     1000\n",
       "2           2  1000_2  1197.26   2018-06-25     1000\n",
       "3           3  1000_3   550.27   2018-08-22     1000\n",
       "4           4  1000_4   302.56   2018-09-24     1000"
      ]
     },
     "metadata": {},
     "output_type": "display_data"
    },
    {
     "data": {
      "text/html": [
       "<div>\n",
       "<style scoped>\n",
       "    .dataframe tbody tr th:only-of-type {\n",
       "        vertical-align: middle;\n",
       "    }\n",
       "\n",
       "    .dataframe tbody tr th {\n",
       "        vertical-align: top;\n",
       "    }\n",
       "\n",
       "    .dataframe thead th {\n",
       "        text-align: right;\n",
       "    }\n",
       "</style>\n",
       "<table border=\"1\" class=\"dataframe\">\n",
       "  <thead>\n",
       "    <tr style=\"text-align: right;\">\n",
       "      <th></th>\n",
       "      <th>id</th>\n",
       "      <th>message_date</th>\n",
       "      <th>user_id</th>\n",
       "    </tr>\n",
       "  </thead>\n",
       "  <tbody>\n",
       "    <tr>\n",
       "      <td>0</td>\n",
       "      <td>1000_0</td>\n",
       "      <td>2018-06-27</td>\n",
       "      <td>1000</td>\n",
       "    </tr>\n",
       "    <tr>\n",
       "      <td>1</td>\n",
       "      <td>1000_1</td>\n",
       "      <td>2018-10-08</td>\n",
       "      <td>1000</td>\n",
       "    </tr>\n",
       "    <tr>\n",
       "      <td>2</td>\n",
       "      <td>1000_2</td>\n",
       "      <td>2018-08-04</td>\n",
       "      <td>1000</td>\n",
       "    </tr>\n",
       "    <tr>\n",
       "      <td>3</td>\n",
       "      <td>1000_3</td>\n",
       "      <td>2018-06-16</td>\n",
       "      <td>1000</td>\n",
       "    </tr>\n",
       "    <tr>\n",
       "      <td>4</td>\n",
       "      <td>1000_4</td>\n",
       "      <td>2018-12-05</td>\n",
       "      <td>1000</td>\n",
       "    </tr>\n",
       "  </tbody>\n",
       "</table>\n",
       "</div>"
      ],
      "text/plain": [
       "       id message_date  user_id\n",
       "0  1000_0   2018-06-27     1000\n",
       "1  1000_1   2018-10-08     1000\n",
       "2  1000_2   2018-08-04     1000\n",
       "3  1000_3   2018-06-16     1000\n",
       "4  1000_4   2018-12-05     1000"
      ]
     },
     "metadata": {},
     "output_type": "display_data"
    },
    {
     "data": {
      "text/html": [
       "<div>\n",
       "<style scoped>\n",
       "    .dataframe tbody tr th:only-of-type {\n",
       "        vertical-align: middle;\n",
       "    }\n",
       "\n",
       "    .dataframe tbody tr th {\n",
       "        vertical-align: top;\n",
       "    }\n",
       "\n",
       "    .dataframe thead th {\n",
       "        text-align: right;\n",
       "    }\n",
       "</style>\n",
       "<table border=\"1\" class=\"dataframe\">\n",
       "  <thead>\n",
       "    <tr style=\"text-align: right;\">\n",
       "      <th></th>\n",
       "      <th>messages_included</th>\n",
       "      <th>mb_per_month_included</th>\n",
       "      <th>minutes_included</th>\n",
       "      <th>rub_monthly_fee</th>\n",
       "      <th>rub_per_gb</th>\n",
       "      <th>rub_per_message</th>\n",
       "      <th>rub_per_minute</th>\n",
       "      <th>tariff_name</th>\n",
       "    </tr>\n",
       "  </thead>\n",
       "  <tbody>\n",
       "    <tr>\n",
       "      <td>0</td>\n",
       "      <td>50</td>\n",
       "      <td>15360</td>\n",
       "      <td>500</td>\n",
       "      <td>550</td>\n",
       "      <td>200</td>\n",
       "      <td>3</td>\n",
       "      <td>3</td>\n",
       "      <td>smart</td>\n",
       "    </tr>\n",
       "    <tr>\n",
       "      <td>1</td>\n",
       "      <td>1000</td>\n",
       "      <td>30720</td>\n",
       "      <td>3000</td>\n",
       "      <td>1950</td>\n",
       "      <td>150</td>\n",
       "      <td>1</td>\n",
       "      <td>1</td>\n",
       "      <td>ultra</td>\n",
       "    </tr>\n",
       "  </tbody>\n",
       "</table>\n",
       "</div>"
      ],
      "text/plain": [
       "   messages_included  mb_per_month_included  minutes_included  \\\n",
       "0                 50                  15360               500   \n",
       "1               1000                  30720              3000   \n",
       "\n",
       "   rub_monthly_fee  rub_per_gb  rub_per_message  rub_per_minute tariff_name  \n",
       "0              550         200                3               3       smart  \n",
       "1             1950         150                1               1       ultra  "
      ]
     },
     "metadata": {},
     "output_type": "display_data"
    },
    {
     "data": {
      "text/html": [
       "<div>\n",
       "<style scoped>\n",
       "    .dataframe tbody tr th:only-of-type {\n",
       "        vertical-align: middle;\n",
       "    }\n",
       "\n",
       "    .dataframe tbody tr th {\n",
       "        vertical-align: top;\n",
       "    }\n",
       "\n",
       "    .dataframe thead th {\n",
       "        text-align: right;\n",
       "    }\n",
       "</style>\n",
       "<table border=\"1\" class=\"dataframe\">\n",
       "  <thead>\n",
       "    <tr style=\"text-align: right;\">\n",
       "      <th></th>\n",
       "      <th>user_id</th>\n",
       "      <th>age</th>\n",
       "      <th>churn_date</th>\n",
       "      <th>city</th>\n",
       "      <th>first_name</th>\n",
       "      <th>last_name</th>\n",
       "      <th>reg_date</th>\n",
       "      <th>tariff</th>\n",
       "    </tr>\n",
       "  </thead>\n",
       "  <tbody>\n",
       "    <tr>\n",
       "      <td>0</td>\n",
       "      <td>1000</td>\n",
       "      <td>52</td>\n",
       "      <td>NaN</td>\n",
       "      <td>Краснодар</td>\n",
       "      <td>Рафаил</td>\n",
       "      <td>Верещагин</td>\n",
       "      <td>2018-05-25</td>\n",
       "      <td>ultra</td>\n",
       "    </tr>\n",
       "    <tr>\n",
       "      <td>1</td>\n",
       "      <td>1001</td>\n",
       "      <td>41</td>\n",
       "      <td>NaN</td>\n",
       "      <td>Москва</td>\n",
       "      <td>Иван</td>\n",
       "      <td>Ежов</td>\n",
       "      <td>2018-11-01</td>\n",
       "      <td>smart</td>\n",
       "    </tr>\n",
       "    <tr>\n",
       "      <td>2</td>\n",
       "      <td>1002</td>\n",
       "      <td>59</td>\n",
       "      <td>NaN</td>\n",
       "      <td>Стерлитамак</td>\n",
       "      <td>Евгений</td>\n",
       "      <td>Абрамович</td>\n",
       "      <td>2018-06-17</td>\n",
       "      <td>smart</td>\n",
       "    </tr>\n",
       "    <tr>\n",
       "      <td>3</td>\n",
       "      <td>1003</td>\n",
       "      <td>23</td>\n",
       "      <td>NaN</td>\n",
       "      <td>Москва</td>\n",
       "      <td>Белла</td>\n",
       "      <td>Белякова</td>\n",
       "      <td>2018-08-17</td>\n",
       "      <td>ultra</td>\n",
       "    </tr>\n",
       "    <tr>\n",
       "      <td>4</td>\n",
       "      <td>1004</td>\n",
       "      <td>68</td>\n",
       "      <td>NaN</td>\n",
       "      <td>Новокузнецк</td>\n",
       "      <td>Татьяна</td>\n",
       "      <td>Авдеенко</td>\n",
       "      <td>2018-05-14</td>\n",
       "      <td>ultra</td>\n",
       "    </tr>\n",
       "  </tbody>\n",
       "</table>\n",
       "</div>"
      ],
      "text/plain": [
       "   user_id  age churn_date         city first_name  last_name    reg_date  \\\n",
       "0     1000   52        NaN    Краснодар     Рафаил  Верещагин  2018-05-25   \n",
       "1     1001   41        NaN       Москва       Иван       Ежов  2018-11-01   \n",
       "2     1002   59        NaN  Стерлитамак    Евгений  Абрамович  2018-06-17   \n",
       "3     1003   23        NaN       Москва      Белла   Белякова  2018-08-17   \n",
       "4     1004   68        NaN  Новокузнецк    Татьяна   Авдеенко  2018-05-14   \n",
       "\n",
       "  tariff  \n",
       "0  ultra  \n",
       "1  smart  \n",
       "2  smart  \n",
       "3  ultra  \n",
       "4  ultra  "
      ]
     },
     "metadata": {},
     "output_type": "display_data"
    },
    {
     "data": {
      "text/html": [
       "<div>\n",
       "<style scoped>\n",
       "    .dataframe tbody tr th:only-of-type {\n",
       "        vertical-align: middle;\n",
       "    }\n",
       "\n",
       "    .dataframe tbody tr th {\n",
       "        vertical-align: top;\n",
       "    }\n",
       "\n",
       "    .dataframe thead th {\n",
       "        text-align: right;\n",
       "    }\n",
       "</style>\n",
       "<table border=\"1\" class=\"dataframe\">\n",
       "  <thead>\n",
       "    <tr style=\"text-align: right;\">\n",
       "      <th></th>\n",
       "      <th>duration</th>\n",
       "      <th>user_id</th>\n",
       "    </tr>\n",
       "  </thead>\n",
       "  <tbody>\n",
       "    <tr>\n",
       "      <td>count</td>\n",
       "      <td>202607.000000</td>\n",
       "      <td>202607.000000</td>\n",
       "    </tr>\n",
       "    <tr>\n",
       "      <td>mean</td>\n",
       "      <td>6.755887</td>\n",
       "      <td>1253.940619</td>\n",
       "    </tr>\n",
       "    <tr>\n",
       "      <td>std</td>\n",
       "      <td>5.843365</td>\n",
       "      <td>144.722751</td>\n",
       "    </tr>\n",
       "    <tr>\n",
       "      <td>min</td>\n",
       "      <td>0.000000</td>\n",
       "      <td>1000.000000</td>\n",
       "    </tr>\n",
       "    <tr>\n",
       "      <td>25%</td>\n",
       "      <td>1.300000</td>\n",
       "      <td>1126.000000</td>\n",
       "    </tr>\n",
       "    <tr>\n",
       "      <td>50%</td>\n",
       "      <td>6.000000</td>\n",
       "      <td>1260.000000</td>\n",
       "    </tr>\n",
       "    <tr>\n",
       "      <td>75%</td>\n",
       "      <td>10.700000</td>\n",
       "      <td>1379.000000</td>\n",
       "    </tr>\n",
       "    <tr>\n",
       "      <td>max</td>\n",
       "      <td>38.000000</td>\n",
       "      <td>1499.000000</td>\n",
       "    </tr>\n",
       "  </tbody>\n",
       "</table>\n",
       "</div>"
      ],
      "text/plain": [
       "            duration        user_id\n",
       "count  202607.000000  202607.000000\n",
       "mean        6.755887    1253.940619\n",
       "std         5.843365     144.722751\n",
       "min         0.000000    1000.000000\n",
       "25%         1.300000    1126.000000\n",
       "50%         6.000000    1260.000000\n",
       "75%        10.700000    1379.000000\n",
       "max        38.000000    1499.000000"
      ]
     },
     "metadata": {},
     "output_type": "display_data"
    },
    {
     "data": {
      "text/html": [
       "<div>\n",
       "<style scoped>\n",
       "    .dataframe tbody tr th:only-of-type {\n",
       "        vertical-align: middle;\n",
       "    }\n",
       "\n",
       "    .dataframe tbody tr th {\n",
       "        vertical-align: top;\n",
       "    }\n",
       "\n",
       "    .dataframe thead th {\n",
       "        text-align: right;\n",
       "    }\n",
       "</style>\n",
       "<table border=\"1\" class=\"dataframe\">\n",
       "  <thead>\n",
       "    <tr style=\"text-align: right;\">\n",
       "      <th></th>\n",
       "      <th>Unnamed: 0</th>\n",
       "      <th>mb_used</th>\n",
       "      <th>user_id</th>\n",
       "    </tr>\n",
       "  </thead>\n",
       "  <tbody>\n",
       "    <tr>\n",
       "      <td>count</td>\n",
       "      <td>149396.000000</td>\n",
       "      <td>149396.000000</td>\n",
       "      <td>149396.000000</td>\n",
       "    </tr>\n",
       "    <tr>\n",
       "      <td>mean</td>\n",
       "      <td>74697.500000</td>\n",
       "      <td>370.192426</td>\n",
       "      <td>1252.099842</td>\n",
       "    </tr>\n",
       "    <tr>\n",
       "      <td>std</td>\n",
       "      <td>43127.054745</td>\n",
       "      <td>278.300951</td>\n",
       "      <td>144.050823</td>\n",
       "    </tr>\n",
       "    <tr>\n",
       "      <td>min</td>\n",
       "      <td>0.000000</td>\n",
       "      <td>0.000000</td>\n",
       "      <td>1000.000000</td>\n",
       "    </tr>\n",
       "    <tr>\n",
       "      <td>25%</td>\n",
       "      <td>37348.750000</td>\n",
       "      <td>138.187500</td>\n",
       "      <td>1130.000000</td>\n",
       "    </tr>\n",
       "    <tr>\n",
       "      <td>50%</td>\n",
       "      <td>74697.500000</td>\n",
       "      <td>348.015000</td>\n",
       "      <td>1251.000000</td>\n",
       "    </tr>\n",
       "    <tr>\n",
       "      <td>75%</td>\n",
       "      <td>112046.250000</td>\n",
       "      <td>559.552500</td>\n",
       "      <td>1380.000000</td>\n",
       "    </tr>\n",
       "    <tr>\n",
       "      <td>max</td>\n",
       "      <td>149395.000000</td>\n",
       "      <td>1724.830000</td>\n",
       "      <td>1499.000000</td>\n",
       "    </tr>\n",
       "  </tbody>\n",
       "</table>\n",
       "</div>"
      ],
      "text/plain": [
       "          Unnamed: 0        mb_used        user_id\n",
       "count  149396.000000  149396.000000  149396.000000\n",
       "mean    74697.500000     370.192426    1252.099842\n",
       "std     43127.054745     278.300951     144.050823\n",
       "min         0.000000       0.000000    1000.000000\n",
       "25%     37348.750000     138.187500    1130.000000\n",
       "50%     74697.500000     348.015000    1251.000000\n",
       "75%    112046.250000     559.552500    1380.000000\n",
       "max    149395.000000    1724.830000    1499.000000"
      ]
     },
     "metadata": {},
     "output_type": "display_data"
    },
    {
     "data": {
      "text/html": [
       "<div>\n",
       "<style scoped>\n",
       "    .dataframe tbody tr th:only-of-type {\n",
       "        vertical-align: middle;\n",
       "    }\n",
       "\n",
       "    .dataframe tbody tr th {\n",
       "        vertical-align: top;\n",
       "    }\n",
       "\n",
       "    .dataframe thead th {\n",
       "        text-align: right;\n",
       "    }\n",
       "</style>\n",
       "<table border=\"1\" class=\"dataframe\">\n",
       "  <thead>\n",
       "    <tr style=\"text-align: right;\">\n",
       "      <th></th>\n",
       "      <th>user_id</th>\n",
       "    </tr>\n",
       "  </thead>\n",
       "  <tbody>\n",
       "    <tr>\n",
       "      <td>count</td>\n",
       "      <td>123036.000000</td>\n",
       "    </tr>\n",
       "    <tr>\n",
       "      <td>mean</td>\n",
       "      <td>1256.989410</td>\n",
       "    </tr>\n",
       "    <tr>\n",
       "      <td>std</td>\n",
       "      <td>143.523967</td>\n",
       "    </tr>\n",
       "    <tr>\n",
       "      <td>min</td>\n",
       "      <td>1000.000000</td>\n",
       "    </tr>\n",
       "    <tr>\n",
       "      <td>25%</td>\n",
       "      <td>1134.000000</td>\n",
       "    </tr>\n",
       "    <tr>\n",
       "      <td>50%</td>\n",
       "      <td>1271.000000</td>\n",
       "    </tr>\n",
       "    <tr>\n",
       "      <td>75%</td>\n",
       "      <td>1381.000000</td>\n",
       "    </tr>\n",
       "    <tr>\n",
       "      <td>max</td>\n",
       "      <td>1499.000000</td>\n",
       "    </tr>\n",
       "  </tbody>\n",
       "</table>\n",
       "</div>"
      ],
      "text/plain": [
       "             user_id\n",
       "count  123036.000000\n",
       "mean     1256.989410\n",
       "std       143.523967\n",
       "min      1000.000000\n",
       "25%      1134.000000\n",
       "50%      1271.000000\n",
       "75%      1381.000000\n",
       "max      1499.000000"
      ]
     },
     "metadata": {},
     "output_type": "display_data"
    },
    {
     "data": {
      "text/html": [
       "<div>\n",
       "<style scoped>\n",
       "    .dataframe tbody tr th:only-of-type {\n",
       "        vertical-align: middle;\n",
       "    }\n",
       "\n",
       "    .dataframe tbody tr th {\n",
       "        vertical-align: top;\n",
       "    }\n",
       "\n",
       "    .dataframe thead th {\n",
       "        text-align: right;\n",
       "    }\n",
       "</style>\n",
       "<table border=\"1\" class=\"dataframe\">\n",
       "  <thead>\n",
       "    <tr style=\"text-align: right;\">\n",
       "      <th></th>\n",
       "      <th>messages_included</th>\n",
       "      <th>mb_per_month_included</th>\n",
       "      <th>minutes_included</th>\n",
       "      <th>rub_monthly_fee</th>\n",
       "      <th>rub_per_gb</th>\n",
       "      <th>rub_per_message</th>\n",
       "      <th>rub_per_minute</th>\n",
       "    </tr>\n",
       "  </thead>\n",
       "  <tbody>\n",
       "    <tr>\n",
       "      <td>count</td>\n",
       "      <td>2.000000</td>\n",
       "      <td>2.000000</td>\n",
       "      <td>2.000000</td>\n",
       "      <td>2.000000</td>\n",
       "      <td>2.000000</td>\n",
       "      <td>2.000000</td>\n",
       "      <td>2.000000</td>\n",
       "    </tr>\n",
       "    <tr>\n",
       "      <td>mean</td>\n",
       "      <td>525.000000</td>\n",
       "      <td>23040.000000</td>\n",
       "      <td>1750.000000</td>\n",
       "      <td>1250.000000</td>\n",
       "      <td>175.000000</td>\n",
       "      <td>2.000000</td>\n",
       "      <td>2.000000</td>\n",
       "    </tr>\n",
       "    <tr>\n",
       "      <td>std</td>\n",
       "      <td>671.751442</td>\n",
       "      <td>10861.160159</td>\n",
       "      <td>1767.766953</td>\n",
       "      <td>989.949494</td>\n",
       "      <td>35.355339</td>\n",
       "      <td>1.414214</td>\n",
       "      <td>1.414214</td>\n",
       "    </tr>\n",
       "    <tr>\n",
       "      <td>min</td>\n",
       "      <td>50.000000</td>\n",
       "      <td>15360.000000</td>\n",
       "      <td>500.000000</td>\n",
       "      <td>550.000000</td>\n",
       "      <td>150.000000</td>\n",
       "      <td>1.000000</td>\n",
       "      <td>1.000000</td>\n",
       "    </tr>\n",
       "    <tr>\n",
       "      <td>25%</td>\n",
       "      <td>287.500000</td>\n",
       "      <td>19200.000000</td>\n",
       "      <td>1125.000000</td>\n",
       "      <td>900.000000</td>\n",
       "      <td>162.500000</td>\n",
       "      <td>1.500000</td>\n",
       "      <td>1.500000</td>\n",
       "    </tr>\n",
       "    <tr>\n",
       "      <td>50%</td>\n",
       "      <td>525.000000</td>\n",
       "      <td>23040.000000</td>\n",
       "      <td>1750.000000</td>\n",
       "      <td>1250.000000</td>\n",
       "      <td>175.000000</td>\n",
       "      <td>2.000000</td>\n",
       "      <td>2.000000</td>\n",
       "    </tr>\n",
       "    <tr>\n",
       "      <td>75%</td>\n",
       "      <td>762.500000</td>\n",
       "      <td>26880.000000</td>\n",
       "      <td>2375.000000</td>\n",
       "      <td>1600.000000</td>\n",
       "      <td>187.500000</td>\n",
       "      <td>2.500000</td>\n",
       "      <td>2.500000</td>\n",
       "    </tr>\n",
       "    <tr>\n",
       "      <td>max</td>\n",
       "      <td>1000.000000</td>\n",
       "      <td>30720.000000</td>\n",
       "      <td>3000.000000</td>\n",
       "      <td>1950.000000</td>\n",
       "      <td>200.000000</td>\n",
       "      <td>3.000000</td>\n",
       "      <td>3.000000</td>\n",
       "    </tr>\n",
       "  </tbody>\n",
       "</table>\n",
       "</div>"
      ],
      "text/plain": [
       "       messages_included  mb_per_month_included  minutes_included  \\\n",
       "count           2.000000               2.000000          2.000000   \n",
       "mean          525.000000           23040.000000       1750.000000   \n",
       "std           671.751442           10861.160159       1767.766953   \n",
       "min            50.000000           15360.000000        500.000000   \n",
       "25%           287.500000           19200.000000       1125.000000   \n",
       "50%           525.000000           23040.000000       1750.000000   \n",
       "75%           762.500000           26880.000000       2375.000000   \n",
       "max          1000.000000           30720.000000       3000.000000   \n",
       "\n",
       "       rub_monthly_fee  rub_per_gb  rub_per_message  rub_per_minute  \n",
       "count         2.000000    2.000000         2.000000        2.000000  \n",
       "mean       1250.000000  175.000000         2.000000        2.000000  \n",
       "std         989.949494   35.355339         1.414214        1.414214  \n",
       "min         550.000000  150.000000         1.000000        1.000000  \n",
       "25%         900.000000  162.500000         1.500000        1.500000  \n",
       "50%        1250.000000  175.000000         2.000000        2.000000  \n",
       "75%        1600.000000  187.500000         2.500000        2.500000  \n",
       "max        1950.000000  200.000000         3.000000        3.000000  "
      ]
     },
     "metadata": {},
     "output_type": "display_data"
    },
    {
     "data": {
      "text/html": [
       "<div>\n",
       "<style scoped>\n",
       "    .dataframe tbody tr th:only-of-type {\n",
       "        vertical-align: middle;\n",
       "    }\n",
       "\n",
       "    .dataframe tbody tr th {\n",
       "        vertical-align: top;\n",
       "    }\n",
       "\n",
       "    .dataframe thead th {\n",
       "        text-align: right;\n",
       "    }\n",
       "</style>\n",
       "<table border=\"1\" class=\"dataframe\">\n",
       "  <thead>\n",
       "    <tr style=\"text-align: right;\">\n",
       "      <th></th>\n",
       "      <th>user_id</th>\n",
       "      <th>age</th>\n",
       "    </tr>\n",
       "  </thead>\n",
       "  <tbody>\n",
       "    <tr>\n",
       "      <td>count</td>\n",
       "      <td>500.000000</td>\n",
       "      <td>500.00000</td>\n",
       "    </tr>\n",
       "    <tr>\n",
       "      <td>mean</td>\n",
       "      <td>1249.500000</td>\n",
       "      <td>46.58800</td>\n",
       "    </tr>\n",
       "    <tr>\n",
       "      <td>std</td>\n",
       "      <td>144.481833</td>\n",
       "      <td>16.66763</td>\n",
       "    </tr>\n",
       "    <tr>\n",
       "      <td>min</td>\n",
       "      <td>1000.000000</td>\n",
       "      <td>18.00000</td>\n",
       "    </tr>\n",
       "    <tr>\n",
       "      <td>25%</td>\n",
       "      <td>1124.750000</td>\n",
       "      <td>32.00000</td>\n",
       "    </tr>\n",
       "    <tr>\n",
       "      <td>50%</td>\n",
       "      <td>1249.500000</td>\n",
       "      <td>46.00000</td>\n",
       "    </tr>\n",
       "    <tr>\n",
       "      <td>75%</td>\n",
       "      <td>1374.250000</td>\n",
       "      <td>62.00000</td>\n",
       "    </tr>\n",
       "    <tr>\n",
       "      <td>max</td>\n",
       "      <td>1499.000000</td>\n",
       "      <td>75.00000</td>\n",
       "    </tr>\n",
       "  </tbody>\n",
       "</table>\n",
       "</div>"
      ],
      "text/plain": [
       "           user_id        age\n",
       "count   500.000000  500.00000\n",
       "mean   1249.500000   46.58800\n",
       "std     144.481833   16.66763\n",
       "min    1000.000000   18.00000\n",
       "25%    1124.750000   32.00000\n",
       "50%    1249.500000   46.00000\n",
       "75%    1374.250000   62.00000\n",
       "max    1499.000000   75.00000"
      ]
     },
     "metadata": {},
     "output_type": "display_data"
    }
   ],
   "source": [
    "calls = pd.read_csv('/Users/polina_lunyova/Documents/It/projects/final_version/4_Статистический_анализ_данных/calls.csv')\n",
    "internet = pd.read_csv('/Users/polina_lunyova/Documents/It/projects/final_version/4_Статистический_анализ_данных/internet.csv')\n",
    "messages = pd.read_csv('/Users/polina_lunyova/Documents/It/projects/final_version/4_Статистический_анализ_данных/messages.csv')\n",
    "tariffs = pd.read_csv('/Users/polina_lunyova/Documents/It/projects/final_version/4_Статистический_анализ_данных/tariffs.csv')\n",
    "users = pd.read_csv('/Users/polina_lunyova/Documents/It/projects/final_version/4_Статистический_анализ_данных/users.csv')\n",
    "display(calls.head())\n",
    "display(internet.head())\n",
    "display(messages.head())\n",
    "display(tariffs.head())\n",
    "display(users.head())\n",
    "display(calls.describe())\n",
    "display(internet.describe())\n",
    "display(messages.describe())\n",
    "display(tariffs.describe())\n",
    "display(users.describe())"
   ]
  },
  {
   "cell_type": "markdown",
   "metadata": {},
   "source": [
    "**Вывод**\n",
    "\n",
    "В таблицах есть небольшое количество необработанных данных, которые нужно исправить. Также нужно посмотреть на их тип и наличие пропущенных значений."
   ]
  },
  {
   "cell_type": "markdown",
   "metadata": {},
   "source": [
    "## Предобработка данных"
   ]
  },
  {
   "cell_type": "code",
   "execution_count": 3,
   "metadata": {
    "scrolled": true
   },
   "outputs": [
    {
     "data": {
      "text/plain": [
       "id           0\n",
       "call_date    0\n",
       "duration     0\n",
       "user_id      0\n",
       "dtype: int64"
      ]
     },
     "metadata": {},
     "output_type": "display_data"
    },
    {
     "data": {
      "text/plain": [
       "Unnamed: 0      0\n",
       "id              0\n",
       "mb_used         0\n",
       "session_date    0\n",
       "user_id         0\n",
       "dtype: int64"
      ]
     },
     "metadata": {},
     "output_type": "display_data"
    },
    {
     "data": {
      "text/plain": [
       "id              0\n",
       "message_date    0\n",
       "user_id         0\n",
       "dtype: int64"
      ]
     },
     "metadata": {},
     "output_type": "display_data"
    },
    {
     "data": {
      "text/plain": [
       "messages_included        0\n",
       "mb_per_month_included    0\n",
       "minutes_included         0\n",
       "rub_monthly_fee          0\n",
       "rub_per_gb               0\n",
       "rub_per_message          0\n",
       "rub_per_minute           0\n",
       "tariff_name              0\n",
       "dtype: int64"
      ]
     },
     "metadata": {},
     "output_type": "display_data"
    },
    {
     "data": {
      "text/plain": [
       "user_id         0\n",
       "age             0\n",
       "churn_date    462\n",
       "city            0\n",
       "first_name      0\n",
       "last_name       0\n",
       "reg_date        0\n",
       "tariff          0\n",
       "dtype: int64"
      ]
     },
     "metadata": {},
     "output_type": "display_data"
    }
   ],
   "source": [
    "# определяем пропущенные значения\n",
    "display(calls.isna().sum())\n",
    "display(internet.isna().sum())\n",
    "display(messages.isna().sum())\n",
    "display(tariffs.isna().sum())\n",
    "display(users.isna().sum())"
   ]
  },
  {
   "cell_type": "markdown",
   "metadata": {},
   "source": [
    "**Вывод**\n",
    "\n",
    "Обнаружены пропуски только в дате прекращения пользования тарифом \"churn_date\". Значение пропущено т.к. тариф ещё действовал на момент выгрузки данных, поэтому исправлять эти пропуски мы не будем."
   ]
  },
  {
   "cell_type": "code",
   "execution_count": 4,
   "metadata": {
    "scrolled": true
   },
   "outputs": [
    {
     "name": "stdout",
     "output_type": "stream",
     "text": [
      "<class 'pandas.core.frame.DataFrame'>\n",
      "RangeIndex: 202607 entries, 0 to 202606\n",
      "Data columns (total 4 columns):\n",
      "id           202607 non-null object\n",
      "call_date    202607 non-null object\n",
      "duration     202607 non-null float64\n",
      "user_id      202607 non-null int64\n",
      "dtypes: float64(1), int64(1), object(2)\n",
      "memory usage: 6.2+ MB\n"
     ]
    },
    {
     "data": {
      "text/plain": [
       "None"
      ]
     },
     "metadata": {},
     "output_type": "display_data"
    },
    {
     "name": "stdout",
     "output_type": "stream",
     "text": [
      "<class 'pandas.core.frame.DataFrame'>\n",
      "RangeIndex: 149396 entries, 0 to 149395\n",
      "Data columns (total 5 columns):\n",
      "Unnamed: 0      149396 non-null int64\n",
      "id              149396 non-null object\n",
      "mb_used         149396 non-null float64\n",
      "session_date    149396 non-null object\n",
      "user_id         149396 non-null int64\n",
      "dtypes: float64(1), int64(2), object(2)\n",
      "memory usage: 5.7+ MB\n"
     ]
    },
    {
     "data": {
      "text/plain": [
       "None"
      ]
     },
     "metadata": {},
     "output_type": "display_data"
    },
    {
     "name": "stdout",
     "output_type": "stream",
     "text": [
      "<class 'pandas.core.frame.DataFrame'>\n",
      "RangeIndex: 123036 entries, 0 to 123035\n",
      "Data columns (total 3 columns):\n",
      "id              123036 non-null object\n",
      "message_date    123036 non-null object\n",
      "user_id         123036 non-null int64\n",
      "dtypes: int64(1), object(2)\n",
      "memory usage: 2.8+ MB\n"
     ]
    },
    {
     "data": {
      "text/plain": [
       "None"
      ]
     },
     "metadata": {},
     "output_type": "display_data"
    },
    {
     "name": "stdout",
     "output_type": "stream",
     "text": [
      "<class 'pandas.core.frame.DataFrame'>\n",
      "RangeIndex: 2 entries, 0 to 1\n",
      "Data columns (total 8 columns):\n",
      "messages_included        2 non-null int64\n",
      "mb_per_month_included    2 non-null int64\n",
      "minutes_included         2 non-null int64\n",
      "rub_monthly_fee          2 non-null int64\n",
      "rub_per_gb               2 non-null int64\n",
      "rub_per_message          2 non-null int64\n",
      "rub_per_minute           2 non-null int64\n",
      "tariff_name              2 non-null object\n",
      "dtypes: int64(7), object(1)\n",
      "memory usage: 256.0+ bytes\n"
     ]
    },
    {
     "data": {
      "text/plain": [
       "None"
      ]
     },
     "metadata": {},
     "output_type": "display_data"
    },
    {
     "name": "stdout",
     "output_type": "stream",
     "text": [
      "<class 'pandas.core.frame.DataFrame'>\n",
      "RangeIndex: 500 entries, 0 to 499\n",
      "Data columns (total 8 columns):\n",
      "user_id       500 non-null int64\n",
      "age           500 non-null int64\n",
      "churn_date    38 non-null object\n",
      "city          500 non-null object\n",
      "first_name    500 non-null object\n",
      "last_name     500 non-null object\n",
      "reg_date      500 non-null object\n",
      "tariff        500 non-null object\n",
      "dtypes: int64(2), object(6)\n",
      "memory usage: 31.4+ KB\n"
     ]
    },
    {
     "data": {
      "text/plain": [
       "None"
      ]
     },
     "metadata": {},
     "output_type": "display_data"
    }
   ],
   "source": [
    "# определяем тип данных \n",
    "display(calls.info())\n",
    "display(internet.info())\n",
    "display(messages.info())\n",
    "display(tariffs.info())\n",
    "display(users.info())"
   ]
  },
  {
   "cell_type": "code",
   "execution_count": 5,
   "metadata": {},
   "outputs": [],
   "source": [
    "# округляем данные с помощью \"np.ceil()\"\n",
    "calls['duration'] = np.ceil(calls['duration']).astype('int')\n",
    "\n",
    "# переименовываем тариф\n",
    "tariffs = tariffs.rename(columns={'tariff_name' : \"tariff\"})\n",
    "\n",
    "# переводим мегабайты в гигабайты\n",
    "internet['mb_used'] = internet['mb_used'] / 1024\n",
    "internet['mb_used'] = np.ceil(internet['mb_used']).astype('int')\n",
    "\n",
    "# изменяем типы данных\n",
    "calls['call_date'] = pd.to_datetime(calls['call_date'], format = '%Y-%m-%d')\n",
    "calls['call_date'] = calls['call_date'].astype('datetime64[M]')\n",
    "messages['message_date'] = pd.to_datetime(messages['message_date'], format = '%Y-%m-%d')\n",
    "messages['message_date'] = messages['message_date'].astype('datetime64[M]')\n",
    "internet['session_date'] = pd.to_datetime(internet['session_date'], format = '%Y-%m-%d')\n",
    "internet['session_date'] = internet['session_date'].astype('datetime64[M]')\n",
    "users['reg_date'] = pd.to_datetime(users['reg_date'], format = '%Y-%m-%d')\n",
    "users['reg_date'] = users['reg_date'].astype('datetime64[M]')\n",
    "\n",
    "# создаем столбцы с месяцами\n",
    "calls['month'] = calls['call_date'].dt.to_period('M')\n",
    "messages['month'] = messages['message_date'].dt.to_period('M')\n",
    "internet['month'] = internet['session_date'].dt.to_period('M')\n",
    "users['month'] = users['reg_date'].dt.to_period('M')\n"
   ]
  },
  {
   "cell_type": "markdown",
   "metadata": {},
   "source": [
    "**Вывод**\n",
    "\n",
    "Округляем данные с помощью метода \"np.ceil()\". Переименовываем колонку тарифов (\"tariff_name\") на (\"tariff\") для удобства и переводим мегабайты(Мб) в гигабайты(Гб). Если абонент использует 1025 Мб в этом месяце, то с него возьмут плату за 2 Гб.   \n",
    "Далее были исправлены типы данных в датах звонков (\"call_date\"), датах сообщений (\"message_date\") и в датах инернет-сессии (\"session_date\"), а также были созданы столбцы с месяцами в этих данных. "
   ]
  },
  {
   "cell_type": "markdown",
   "metadata": {},
   "source": [
    "## Расчёты и добавление результатов в таблицу"
   ]
  },
  {
   "cell_type": "code",
   "execution_count": 6,
   "metadata": {},
   "outputs": [
    {
     "data": {
      "text/html": [
       "<div>\n",
       "<style scoped>\n",
       "    .dataframe tbody tr th:only-of-type {\n",
       "        vertical-align: middle;\n",
       "    }\n",
       "\n",
       "    .dataframe tbody tr th {\n",
       "        vertical-align: top;\n",
       "    }\n",
       "\n",
       "    .dataframe thead th {\n",
       "        text-align: right;\n",
       "    }\n",
       "</style>\n",
       "<table border=\"1\" class=\"dataframe\">\n",
       "  <thead>\n",
       "    <tr style=\"text-align: right;\">\n",
       "      <th></th>\n",
       "      <th>user_id</th>\n",
       "      <th>month_x</th>\n",
       "      <th>calls_sum</th>\n",
       "      <th>calls_count</th>\n",
       "      <th>messages_count</th>\n",
       "      <th>gb_used</th>\n",
       "      <th>age</th>\n",
       "      <th>churn_date</th>\n",
       "      <th>city</th>\n",
       "      <th>first_name</th>\n",
       "      <th>...</th>\n",
       "      <th>reg_date</th>\n",
       "      <th>tariff</th>\n",
       "      <th>month_y</th>\n",
       "      <th>messages_included</th>\n",
       "      <th>mb_per_month_included</th>\n",
       "      <th>minutes_included</th>\n",
       "      <th>rub_monthly_fee</th>\n",
       "      <th>rub_per_gb</th>\n",
       "      <th>rub_per_message</th>\n",
       "      <th>rub_per_minute</th>\n",
       "    </tr>\n",
       "  </thead>\n",
       "  <tbody>\n",
       "    <tr>\n",
       "      <td>0</td>\n",
       "      <td>1000</td>\n",
       "      <td>2018-05</td>\n",
       "      <td>159.0</td>\n",
       "      <td>22.0</td>\n",
       "      <td>22.0</td>\n",
       "      <td>4.0</td>\n",
       "      <td>52</td>\n",
       "      <td>NaN</td>\n",
       "      <td>Краснодар</td>\n",
       "      <td>Рафаил</td>\n",
       "      <td>...</td>\n",
       "      <td>2018-05-01</td>\n",
       "      <td>ultra</td>\n",
       "      <td>2018-05</td>\n",
       "      <td>1000</td>\n",
       "      <td>30720</td>\n",
       "      <td>3000</td>\n",
       "      <td>1950</td>\n",
       "      <td>150</td>\n",
       "      <td>1</td>\n",
       "      <td>1</td>\n",
       "    </tr>\n",
       "    <tr>\n",
       "      <td>1</td>\n",
       "      <td>1000</td>\n",
       "      <td>2018-06</td>\n",
       "      <td>172.0</td>\n",
       "      <td>43.0</td>\n",
       "      <td>60.0</td>\n",
       "      <td>49.0</td>\n",
       "      <td>52</td>\n",
       "      <td>NaN</td>\n",
       "      <td>Краснодар</td>\n",
       "      <td>Рафаил</td>\n",
       "      <td>...</td>\n",
       "      <td>2018-05-01</td>\n",
       "      <td>ultra</td>\n",
       "      <td>2018-05</td>\n",
       "      <td>1000</td>\n",
       "      <td>30720</td>\n",
       "      <td>3000</td>\n",
       "      <td>1950</td>\n",
       "      <td>150</td>\n",
       "      <td>1</td>\n",
       "      <td>1</td>\n",
       "    </tr>\n",
       "    <tr>\n",
       "      <td>2</td>\n",
       "      <td>1000</td>\n",
       "      <td>2018-07</td>\n",
       "      <td>340.0</td>\n",
       "      <td>47.0</td>\n",
       "      <td>75.0</td>\n",
       "      <td>28.0</td>\n",
       "      <td>52</td>\n",
       "      <td>NaN</td>\n",
       "      <td>Краснодар</td>\n",
       "      <td>Рафаил</td>\n",
       "      <td>...</td>\n",
       "      <td>2018-05-01</td>\n",
       "      <td>ultra</td>\n",
       "      <td>2018-05</td>\n",
       "      <td>1000</td>\n",
       "      <td>30720</td>\n",
       "      <td>3000</td>\n",
       "      <td>1950</td>\n",
       "      <td>150</td>\n",
       "      <td>1</td>\n",
       "      <td>1</td>\n",
       "    </tr>\n",
       "    <tr>\n",
       "      <td>3</td>\n",
       "      <td>1000</td>\n",
       "      <td>2018-08</td>\n",
       "      <td>408.0</td>\n",
       "      <td>52.0</td>\n",
       "      <td>81.0</td>\n",
       "      <td>27.0</td>\n",
       "      <td>52</td>\n",
       "      <td>NaN</td>\n",
       "      <td>Краснодар</td>\n",
       "      <td>Рафаил</td>\n",
       "      <td>...</td>\n",
       "      <td>2018-05-01</td>\n",
       "      <td>ultra</td>\n",
       "      <td>2018-05</td>\n",
       "      <td>1000</td>\n",
       "      <td>30720</td>\n",
       "      <td>3000</td>\n",
       "      <td>1950</td>\n",
       "      <td>150</td>\n",
       "      <td>1</td>\n",
       "      <td>1</td>\n",
       "    </tr>\n",
       "    <tr>\n",
       "      <td>4</td>\n",
       "      <td>1000</td>\n",
       "      <td>2018-09</td>\n",
       "      <td>466.0</td>\n",
       "      <td>58.0</td>\n",
       "      <td>57.0</td>\n",
       "      <td>26.0</td>\n",
       "      <td>52</td>\n",
       "      <td>NaN</td>\n",
       "      <td>Краснодар</td>\n",
       "      <td>Рафаил</td>\n",
       "      <td>...</td>\n",
       "      <td>2018-05-01</td>\n",
       "      <td>ultra</td>\n",
       "      <td>2018-05</td>\n",
       "      <td>1000</td>\n",
       "      <td>30720</td>\n",
       "      <td>3000</td>\n",
       "      <td>1950</td>\n",
       "      <td>150</td>\n",
       "      <td>1</td>\n",
       "      <td>1</td>\n",
       "    </tr>\n",
       "  </tbody>\n",
       "</table>\n",
       "<p>5 rows × 21 columns</p>\n",
       "</div>"
      ],
      "text/plain": [
       "   user_id  month_x  calls_sum  calls_count  messages_count  gb_used  age  \\\n",
       "0     1000  2018-05      159.0         22.0            22.0      4.0   52   \n",
       "1     1000  2018-06      172.0         43.0            60.0     49.0   52   \n",
       "2     1000  2018-07      340.0         47.0            75.0     28.0   52   \n",
       "3     1000  2018-08      408.0         52.0            81.0     27.0   52   \n",
       "4     1000  2018-09      466.0         58.0            57.0     26.0   52   \n",
       "\n",
       "  churn_date       city first_name  ...   reg_date tariff  month_y  \\\n",
       "0        NaN  Краснодар     Рафаил  ... 2018-05-01  ultra  2018-05   \n",
       "1        NaN  Краснодар     Рафаил  ... 2018-05-01  ultra  2018-05   \n",
       "2        NaN  Краснодар     Рафаил  ... 2018-05-01  ultra  2018-05   \n",
       "3        NaN  Краснодар     Рафаил  ... 2018-05-01  ultra  2018-05   \n",
       "4        NaN  Краснодар     Рафаил  ... 2018-05-01  ultra  2018-05   \n",
       "\n",
       "  messages_included  mb_per_month_included  minutes_included  rub_monthly_fee  \\\n",
       "0              1000                  30720              3000             1950   \n",
       "1              1000                  30720              3000             1950   \n",
       "2              1000                  30720              3000             1950   \n",
       "3              1000                  30720              3000             1950   \n",
       "4              1000                  30720              3000             1950   \n",
       "\n",
       "   rub_per_gb  rub_per_message  rub_per_minute  \n",
       "0         150                1               1  \n",
       "1         150                1               1  \n",
       "2         150                1               1  \n",
       "3         150                1               1  \n",
       "4         150                1               1  \n",
       "\n",
       "[5 rows x 21 columns]"
      ]
     },
     "metadata": {},
     "output_type": "display_data"
    }
   ],
   "source": [
    "# построим свободные таблицы по пользователю (user_id) и месяцу (month)\n",
    "user_calls = calls.groupby(['user_id', 'month'])\\\n",
    "                  .agg({'duration':'sum', 'id':'count'})\\\n",
    "                  .reset_index()\n",
    "                  \n",
    "user_messages = messages.groupby(['user_id', 'month'])\\\n",
    "                        .agg({'id':'count'})\\\n",
    "                        .reset_index()\n",
    "\n",
    "user_internet = internet.groupby(['user_id', 'month'])\\\n",
    "                        .agg({'mb_used':'sum'})\\\n",
    "                        .reset_index()\n",
    "# объединим свободные таблицы с помощью merge\n",
    "df_merge = user_calls.merge(user_messages, on=['user_id', 'month'], how='outer')\n",
    "df_merge = df_merge.merge(user_internet, on=['user_id', 'month'], how='outer')\n",
    "df_merge = df_merge.merge(users, on='user_id', how='left')\n",
    "df_merge = df_merge.merge(tariffs, on='tariff', how='left')\n",
    "\n",
    "# переименуем столбццы \n",
    "df_merge = df_merge.rename(columns={'id_x'  : \"calls_count\", 'mb_used': \"gb_used\", 'id_y': \"messages_count\", 'duration': \"calls_sum\"})\n",
    "\n",
    "# делаем срез по тарифам \n",
    "df_merge_smart = df_merge.query('tariff  == \"smart\"')\n",
    "df_merge_ultra = df_merge.query('tariff  == \"ultra\"')\n",
    "display(df_merge.head())"
   ]
  },
  {
   "cell_type": "markdown",
   "metadata": {},
   "source": [
    "**Вывод**\n",
    "\n",
    "Были построены и обьеденины свободные таблицы по пользователю (user_id) и месяцу (month), также сделан срез по тарифам.\n"
   ]
  },
  {
   "cell_type": "code",
   "execution_count": 7,
   "metadata": {},
   "outputs": [
    {
     "data": {
      "text/plain": [
       "(3214, 21)"
      ]
     },
     "execution_count": 7,
     "metadata": {},
     "output_type": "execute_result"
    }
   ],
   "source": [
    "df_merge.shape"
   ]
  },
  {
   "cell_type": "code",
   "execution_count": 8,
   "metadata": {},
   "outputs": [
    {
     "data": {
      "text/plain": [
       "498"
      ]
     },
     "execution_count": 8,
     "metadata": {},
     "output_type": "execute_result"
    }
   ],
   "source": [
    "df_merge.user_id.nunique()"
   ]
  },
  {
   "cell_type": "markdown",
   "metadata": {},
   "source": [
    "При присоединении таблиц были утеряны 2 клиента, скорее всего у каких-то пользователей просто не было использованных услуг и они ушли в отток. Такое количество потери данных не критично, поэтому можем продолжать дальнейшее исследование."
   ]
  },
  {
   "cell_type": "code",
   "execution_count": 9,
   "metadata": {},
   "outputs": [
    {
     "data": {
      "text/html": [
       "<div>\n",
       "<style scoped>\n",
       "    .dataframe tbody tr th:only-of-type {\n",
       "        vertical-align: middle;\n",
       "    }\n",
       "\n",
       "    .dataframe tbody tr th {\n",
       "        vertical-align: top;\n",
       "    }\n",
       "\n",
       "    .dataframe thead th {\n",
       "        text-align: right;\n",
       "    }\n",
       "</style>\n",
       "<table border=\"1\" class=\"dataframe\">\n",
       "  <thead>\n",
       "    <tr style=\"text-align: right;\">\n",
       "      <th></th>\n",
       "      <th>user_id</th>\n",
       "      <th>month_x</th>\n",
       "      <th>calls_sum</th>\n",
       "      <th>calls_count</th>\n",
       "      <th>messages_count</th>\n",
       "      <th>gb_used</th>\n",
       "      <th>age</th>\n",
       "      <th>churn_date</th>\n",
       "      <th>city</th>\n",
       "      <th>first_name</th>\n",
       "      <th>...</th>\n",
       "      <th>minutes_included</th>\n",
       "      <th>rub_monthly_fee</th>\n",
       "      <th>rub_per_gb</th>\n",
       "      <th>rub_per_message</th>\n",
       "      <th>rub_per_minute</th>\n",
       "      <th>gb_per_month_included</th>\n",
       "      <th>minutes_overrun</th>\n",
       "      <th>messages_overrun</th>\n",
       "      <th>gb_used_overrun</th>\n",
       "      <th>revenue</th>\n",
       "    </tr>\n",
       "  </thead>\n",
       "  <tbody>\n",
       "    <tr>\n",
       "      <td>0</td>\n",
       "      <td>1000</td>\n",
       "      <td>2018-05</td>\n",
       "      <td>159.0</td>\n",
       "      <td>22.0</td>\n",
       "      <td>22.0</td>\n",
       "      <td>4.0</td>\n",
       "      <td>52</td>\n",
       "      <td>NaN</td>\n",
       "      <td>Краснодар</td>\n",
       "      <td>Рафаил</td>\n",
       "      <td>...</td>\n",
       "      <td>3000</td>\n",
       "      <td>1950</td>\n",
       "      <td>150</td>\n",
       "      <td>1</td>\n",
       "      <td>1</td>\n",
       "      <td>30</td>\n",
       "      <td>-2841.0</td>\n",
       "      <td>-978.0</td>\n",
       "      <td>-26.0</td>\n",
       "      <td>1950.0</td>\n",
       "    </tr>\n",
       "    <tr>\n",
       "      <td>1</td>\n",
       "      <td>1000</td>\n",
       "      <td>2018-06</td>\n",
       "      <td>172.0</td>\n",
       "      <td>43.0</td>\n",
       "      <td>60.0</td>\n",
       "      <td>49.0</td>\n",
       "      <td>52</td>\n",
       "      <td>NaN</td>\n",
       "      <td>Краснодар</td>\n",
       "      <td>Рафаил</td>\n",
       "      <td>...</td>\n",
       "      <td>3000</td>\n",
       "      <td>1950</td>\n",
       "      <td>150</td>\n",
       "      <td>1</td>\n",
       "      <td>1</td>\n",
       "      <td>30</td>\n",
       "      <td>-2828.0</td>\n",
       "      <td>-940.0</td>\n",
       "      <td>19.0</td>\n",
       "      <td>4800.0</td>\n",
       "    </tr>\n",
       "    <tr>\n",
       "      <td>2</td>\n",
       "      <td>1000</td>\n",
       "      <td>2018-07</td>\n",
       "      <td>340.0</td>\n",
       "      <td>47.0</td>\n",
       "      <td>75.0</td>\n",
       "      <td>28.0</td>\n",
       "      <td>52</td>\n",
       "      <td>NaN</td>\n",
       "      <td>Краснодар</td>\n",
       "      <td>Рафаил</td>\n",
       "      <td>...</td>\n",
       "      <td>3000</td>\n",
       "      <td>1950</td>\n",
       "      <td>150</td>\n",
       "      <td>1</td>\n",
       "      <td>1</td>\n",
       "      <td>30</td>\n",
       "      <td>-2660.0</td>\n",
       "      <td>-925.0</td>\n",
       "      <td>-2.0</td>\n",
       "      <td>1950.0</td>\n",
       "    </tr>\n",
       "    <tr>\n",
       "      <td>3</td>\n",
       "      <td>1000</td>\n",
       "      <td>2018-08</td>\n",
       "      <td>408.0</td>\n",
       "      <td>52.0</td>\n",
       "      <td>81.0</td>\n",
       "      <td>27.0</td>\n",
       "      <td>52</td>\n",
       "      <td>NaN</td>\n",
       "      <td>Краснодар</td>\n",
       "      <td>Рафаил</td>\n",
       "      <td>...</td>\n",
       "      <td>3000</td>\n",
       "      <td>1950</td>\n",
       "      <td>150</td>\n",
       "      <td>1</td>\n",
       "      <td>1</td>\n",
       "      <td>30</td>\n",
       "      <td>-2592.0</td>\n",
       "      <td>-919.0</td>\n",
       "      <td>-3.0</td>\n",
       "      <td>1950.0</td>\n",
       "    </tr>\n",
       "    <tr>\n",
       "      <td>4</td>\n",
       "      <td>1000</td>\n",
       "      <td>2018-09</td>\n",
       "      <td>466.0</td>\n",
       "      <td>58.0</td>\n",
       "      <td>57.0</td>\n",
       "      <td>26.0</td>\n",
       "      <td>52</td>\n",
       "      <td>NaN</td>\n",
       "      <td>Краснодар</td>\n",
       "      <td>Рафаил</td>\n",
       "      <td>...</td>\n",
       "      <td>3000</td>\n",
       "      <td>1950</td>\n",
       "      <td>150</td>\n",
       "      <td>1</td>\n",
       "      <td>1</td>\n",
       "      <td>30</td>\n",
       "      <td>-2534.0</td>\n",
       "      <td>-943.0</td>\n",
       "      <td>-4.0</td>\n",
       "      <td>1950.0</td>\n",
       "    </tr>\n",
       "  </tbody>\n",
       "</table>\n",
       "<p>5 rows × 26 columns</p>\n",
       "</div>"
      ],
      "text/plain": [
       "   user_id  month_x  calls_sum  calls_count  messages_count  gb_used  age  \\\n",
       "0     1000  2018-05      159.0         22.0            22.0      4.0   52   \n",
       "1     1000  2018-06      172.0         43.0            60.0     49.0   52   \n",
       "2     1000  2018-07      340.0         47.0            75.0     28.0   52   \n",
       "3     1000  2018-08      408.0         52.0            81.0     27.0   52   \n",
       "4     1000  2018-09      466.0         58.0            57.0     26.0   52   \n",
       "\n",
       "  churn_date       city first_name  ... minutes_included rub_monthly_fee  \\\n",
       "0        NaN  Краснодар     Рафаил  ...             3000            1950   \n",
       "1        NaN  Краснодар     Рафаил  ...             3000            1950   \n",
       "2        NaN  Краснодар     Рафаил  ...             3000            1950   \n",
       "3        NaN  Краснодар     Рафаил  ...             3000            1950   \n",
       "4        NaN  Краснодар     Рафаил  ...             3000            1950   \n",
       "\n",
       "  rub_per_gb rub_per_message  rub_per_minute  gb_per_month_included  \\\n",
       "0        150               1               1                     30   \n",
       "1        150               1               1                     30   \n",
       "2        150               1               1                     30   \n",
       "3        150               1               1                     30   \n",
       "4        150               1               1                     30   \n",
       "\n",
       "   minutes_overrun  messages_overrun  gb_used_overrun  revenue  \n",
       "0          -2841.0            -978.0            -26.0   1950.0  \n",
       "1          -2828.0            -940.0             19.0   4800.0  \n",
       "2          -2660.0            -925.0             -2.0   1950.0  \n",
       "3          -2592.0            -919.0             -3.0   1950.0  \n",
       "4          -2534.0            -943.0             -4.0   1950.0  \n",
       "\n",
       "[5 rows x 26 columns]"
      ]
     },
     "execution_count": 9,
     "metadata": {},
     "output_type": "execute_result"
    }
   ],
   "source": [
    "# переводим мегабайти в гигабайты объёма интернет-трафика, включённого в абонентскую плату \n",
    "df_merge['gb_per_month_included'] = df_merge['mb_per_month_included'] / 1024\n",
    "df_merge['gb_per_month_included'] = np.ceil(df_merge['gb_per_month_included']).astype('int')\n",
    "\n",
    "# считаем перерасход по каждой услуги\n",
    "df_merge['minutes_overrun']  = df_merge['calls_sum'] - df_merge['minutes_included']\n",
    "df_merge['messages_overrun'] = df_merge['messages_count'] - df_merge['messages_included']\n",
    "df_merge['gb_used_overrun']  = df_merge['gb_used'] - df_merge['gb_per_month_included'] \n",
    "\n",
    "# считаем выручку исходя из тарифа и потребляемых услуг\n",
    "def get_revenue(row):\n",
    "    revenue_by_min = 0\n",
    "    revenue_by_messages = 0\n",
    "    revenue_mb = 0\n",
    "    if row['minutes_overrun'] > 0:\n",
    "        revenue_by_min = row['minutes_overrun'] * row['rub_per_minute'] \n",
    "    if row['messages_overrun'] >0:\n",
    "        revenue_by_min = row['messages_overrun'] * row['rub_per_message']\n",
    "    if row['gb_used_overrun'] > 0:\n",
    "        revenue_by_min = row['gb_used_overrun'] * row['rub_per_gb']          \n",
    "    return revenue_by_min + revenue_by_messages + revenue_mb \n",
    "df_merge['revenue'] = df_merge.apply(get_revenue, axis=1) \n",
    "\n",
    "# добавляем абонентскую плату \n",
    "df_merge['revenue'] = df_merge['revenue'] + df_merge['rub_monthly_fee']\n",
    "df_merge.head()"
   ]
  },
  {
   "cell_type": "code",
   "execution_count": 10,
   "metadata": {},
   "outputs": [
    {
     "data": {
      "text/plain": [
       "count     3214.000000\n",
       "mean      5412.380523\n",
       "std       2841.603450\n",
       "min        550.000000\n",
       "25%       2962.500000\n",
       "50%       5350.000000\n",
       "75%       7350.000000\n",
       "max      17750.000000\n",
       "Name: revenue, dtype: float64"
      ]
     },
     "execution_count": 10,
     "metadata": {},
     "output_type": "execute_result"
    }
   ],
   "source": [
    "df_merge['revenue'].describe()"
   ]
  },
  {
   "cell_type": "markdown",
   "metadata": {},
   "source": [
    "**Вывод**\n",
    "\n",
    "Было посчитано количество сделанных звонков и израсходованных минут разговора по месяцам (minutes_overrun), количество отправленных сообщений (messages_overrun) и объем израсходованного интернет-трафика (mb_used_overrun). Также посчитана помесячная выручка с каждого пользователя (revenue)."
   ]
  },
  {
   "cell_type": "markdown",
   "metadata": {},
   "source": [
    "## Исследовательский анализ данных\n"
   ]
  },
  {
   "cell_type": "code",
   "execution_count": 20,
   "metadata": {},
   "outputs": [
    {
     "data": {
      "text/html": [
       "<div>\n",
       "<style scoped>\n",
       "    .dataframe tbody tr th:only-of-type {\n",
       "        vertical-align: middle;\n",
       "    }\n",
       "\n",
       "    .dataframe tbody tr th {\n",
       "        vertical-align: top;\n",
       "    }\n",
       "\n",
       "    .dataframe thead th {\n",
       "        text-align: right;\n",
       "    }\n",
       "</style>\n",
       "<table border=\"1\" class=\"dataframe\">\n",
       "  <thead>\n",
       "    <tr style=\"text-align: right;\">\n",
       "      <th></th>\n",
       "      <th>user_id</th>\n",
       "      <th>month_x</th>\n",
       "      <th>calls_sum</th>\n",
       "      <th>calls_count</th>\n",
       "      <th>messages_count</th>\n",
       "      <th>gb_used</th>\n",
       "      <th>age</th>\n",
       "      <th>churn_date</th>\n",
       "      <th>city</th>\n",
       "      <th>first_name</th>\n",
       "      <th>...</th>\n",
       "      <th>rub_per_message</th>\n",
       "      <th>rub_per_minute</th>\n",
       "      <th>gb_per_month_included</th>\n",
       "      <th>minutes_overrun</th>\n",
       "      <th>messages_overrun</th>\n",
       "      <th>gb_used_overrun</th>\n",
       "      <th>revenue</th>\n",
       "      <th>calls_upper</th>\n",
       "      <th>messages_upper</th>\n",
       "      <th>net_upper</th>\n",
       "    </tr>\n",
       "  </thead>\n",
       "  <tbody>\n",
       "    <tr>\n",
       "      <td>0</td>\n",
       "      <td>1000</td>\n",
       "      <td>2018-05</td>\n",
       "      <td>159.0</td>\n",
       "      <td>22.0</td>\n",
       "      <td>22.0</td>\n",
       "      <td>4.0</td>\n",
       "      <td>52</td>\n",
       "      <td>NaN</td>\n",
       "      <td>Краснодар</td>\n",
       "      <td>Рафаил</td>\n",
       "      <td>...</td>\n",
       "      <td>1</td>\n",
       "      <td>1</td>\n",
       "      <td>30</td>\n",
       "      <td>-2841.0</td>\n",
       "      <td>-978.0</td>\n",
       "      <td>-26.0</td>\n",
       "      <td>1950.0</td>\n",
       "      <td>0</td>\n",
       "      <td>0</td>\n",
       "      <td>0</td>\n",
       "    </tr>\n",
       "    <tr>\n",
       "      <td>1</td>\n",
       "      <td>1000</td>\n",
       "      <td>2018-06</td>\n",
       "      <td>172.0</td>\n",
       "      <td>43.0</td>\n",
       "      <td>60.0</td>\n",
       "      <td>49.0</td>\n",
       "      <td>52</td>\n",
       "      <td>NaN</td>\n",
       "      <td>Краснодар</td>\n",
       "      <td>Рафаил</td>\n",
       "      <td>...</td>\n",
       "      <td>1</td>\n",
       "      <td>1</td>\n",
       "      <td>30</td>\n",
       "      <td>-2828.0</td>\n",
       "      <td>-940.0</td>\n",
       "      <td>19.0</td>\n",
       "      <td>4800.0</td>\n",
       "      <td>0</td>\n",
       "      <td>0</td>\n",
       "      <td>19</td>\n",
       "    </tr>\n",
       "    <tr>\n",
       "      <td>2</td>\n",
       "      <td>1000</td>\n",
       "      <td>2018-07</td>\n",
       "      <td>340.0</td>\n",
       "      <td>47.0</td>\n",
       "      <td>75.0</td>\n",
       "      <td>28.0</td>\n",
       "      <td>52</td>\n",
       "      <td>NaN</td>\n",
       "      <td>Краснодар</td>\n",
       "      <td>Рафаил</td>\n",
       "      <td>...</td>\n",
       "      <td>1</td>\n",
       "      <td>1</td>\n",
       "      <td>30</td>\n",
       "      <td>-2660.0</td>\n",
       "      <td>-925.0</td>\n",
       "      <td>-2.0</td>\n",
       "      <td>1950.0</td>\n",
       "      <td>0</td>\n",
       "      <td>0</td>\n",
       "      <td>0</td>\n",
       "    </tr>\n",
       "    <tr>\n",
       "      <td>3</td>\n",
       "      <td>1000</td>\n",
       "      <td>2018-08</td>\n",
       "      <td>408.0</td>\n",
       "      <td>52.0</td>\n",
       "      <td>81.0</td>\n",
       "      <td>27.0</td>\n",
       "      <td>52</td>\n",
       "      <td>NaN</td>\n",
       "      <td>Краснодар</td>\n",
       "      <td>Рафаил</td>\n",
       "      <td>...</td>\n",
       "      <td>1</td>\n",
       "      <td>1</td>\n",
       "      <td>30</td>\n",
       "      <td>-2592.0</td>\n",
       "      <td>-919.0</td>\n",
       "      <td>-3.0</td>\n",
       "      <td>1950.0</td>\n",
       "      <td>0</td>\n",
       "      <td>0</td>\n",
       "      <td>0</td>\n",
       "    </tr>\n",
       "    <tr>\n",
       "      <td>4</td>\n",
       "      <td>1000</td>\n",
       "      <td>2018-09</td>\n",
       "      <td>466.0</td>\n",
       "      <td>58.0</td>\n",
       "      <td>57.0</td>\n",
       "      <td>26.0</td>\n",
       "      <td>52</td>\n",
       "      <td>NaN</td>\n",
       "      <td>Краснодар</td>\n",
       "      <td>Рафаил</td>\n",
       "      <td>...</td>\n",
       "      <td>1</td>\n",
       "      <td>1</td>\n",
       "      <td>30</td>\n",
       "      <td>-2534.0</td>\n",
       "      <td>-943.0</td>\n",
       "      <td>-4.0</td>\n",
       "      <td>1950.0</td>\n",
       "      <td>0</td>\n",
       "      <td>0</td>\n",
       "      <td>0</td>\n",
       "    </tr>\n",
       "  </tbody>\n",
       "</table>\n",
       "<p>5 rows × 29 columns</p>\n",
       "</div>"
      ],
      "text/plain": [
       "   user_id  month_x  calls_sum  calls_count  messages_count  gb_used  age  \\\n",
       "0     1000  2018-05      159.0         22.0            22.0      4.0   52   \n",
       "1     1000  2018-06      172.0         43.0            60.0     49.0   52   \n",
       "2     1000  2018-07      340.0         47.0            75.0     28.0   52   \n",
       "3     1000  2018-08      408.0         52.0            81.0     27.0   52   \n",
       "4     1000  2018-09      466.0         58.0            57.0     26.0   52   \n",
       "\n",
       "  churn_date       city first_name  ... rub_per_message rub_per_minute  \\\n",
       "0        NaN  Краснодар     Рафаил  ...               1              1   \n",
       "1        NaN  Краснодар     Рафаил  ...               1              1   \n",
       "2        NaN  Краснодар     Рафаил  ...               1              1   \n",
       "3        NaN  Краснодар     Рафаил  ...               1              1   \n",
       "4        NaN  Краснодар     Рафаил  ...               1              1   \n",
       "\n",
       "  gb_per_month_included minutes_overrun  messages_overrun  gb_used_overrun  \\\n",
       "0                    30         -2841.0            -978.0            -26.0   \n",
       "1                    30         -2828.0            -940.0             19.0   \n",
       "2                    30         -2660.0            -925.0             -2.0   \n",
       "3                    30         -2592.0            -919.0             -3.0   \n",
       "4                    30         -2534.0            -943.0             -4.0   \n",
       "\n",
       "   revenue  calls_upper  messages_upper  net_upper  \n",
       "0   1950.0            0               0          0  \n",
       "1   4800.0            0               0         19  \n",
       "2   1950.0            0               0          0  \n",
       "3   1950.0            0               0          0  \n",
       "4   1950.0            0               0          0  \n",
       "\n",
       "[5 rows x 29 columns]"
      ]
     },
     "execution_count": 20,
     "metadata": {},
     "output_type": "execute_result"
    }
   ],
   "source": [
    "# подсчет стоимости тарифа в месяц для каждого пользователя \n",
    "for index in df_merge['tariff']:\n",
    "    if index == 'ultra':\n",
    "        df_merge['calls_upper'] = df_merge['calls_sum'] - 3000\n",
    "        df_merge['messages_upper'] = df_merge['messages_count'] - 1000\n",
    "        df_merge['net_upper'] = df_merge['gb_used'] - 30\n",
    "    elif index == 'smart':\n",
    "        df_merge['calls_upper'] = df_merge['calls_sum'] - 500\n",
    "        df_merge['messages_upper'] = df_merge['messages_count'] - 50\n",
    "        df_merge['net_upper'] = df_merge['gb_used'] - 15\n",
    "        \n",
    "df_merge.loc[(df_merge['calls_upper']<0), 'calls_upper'] = 0\n",
    "df_merge.loc[(df_merge['messages_upper']<0), 'messages_upper'] = 0\n",
    "df_merge.loc[(df_merge['net_upper']<0), 'net_upper'] = 0\n",
    " \n",
    "df_merge['calls_upper'] = df_merge['calls_upper'].astype('Int64')\n",
    "df_merge['messages_upper'] = df_merge['messages_upper'].astype('Int64')\n",
    "df_merge['net_upper'] = df_merge['net_upper'].astype('Int64')\n",
    "df_merge.head()"
   ]
  },
  {
   "cell_type": "code",
   "execution_count": 12,
   "metadata": {},
   "outputs": [
    {
     "data": {
      "image/png": "[encoded data removed]",
      "text/plain": [
       "<Figure size 432x288 with 1 Axes>"
      ]
     },
     "metadata": {
      "needs_background": "light"
     },
     "output_type": "display_data"
    },
    {
     "data": {
      "text/html": [
       "<div>\n",
       "<style scoped>\n",
       "    .dataframe tbody tr th:only-of-type {\n",
       "        vertical-align: middle;\n",
       "    }\n",
       "\n",
       "    .dataframe tbody tr th {\n",
       "        vertical-align: top;\n",
       "    }\n",
       "\n",
       "    .dataframe thead th {\n",
       "        text-align: right;\n",
       "    }\n",
       "</style>\n",
       "<table border=\"1\" class=\"dataframe\">\n",
       "  <thead>\n",
       "    <tr style=\"text-align: right;\">\n",
       "      <th></th>\n",
       "      <th>Среднее количество</th>\n",
       "      <th>Дисперсия</th>\n",
       "      <th>Стандартное отклонение</th>\n",
       "    </tr>\n",
       "    <tr>\n",
       "      <th>tariff</th>\n",
       "      <th></th>\n",
       "      <th></th>\n",
       "      <th></th>\n",
       "    </tr>\n",
       "  </thead>\n",
       "  <tbody>\n",
       "    <tr>\n",
       "      <td>smart</td>\n",
       "      <td>419.0</td>\n",
       "      <td>35844.0</td>\n",
       "      <td>189.0</td>\n",
       "    </tr>\n",
       "    <tr>\n",
       "      <td>ultra</td>\n",
       "      <td>545.0</td>\n",
       "      <td>94203.0</td>\n",
       "      <td>307.0</td>\n",
       "    </tr>\n",
       "  </tbody>\n",
       "</table>\n",
       "</div>"
      ],
      "text/plain": [
       "        Среднее количество  Дисперсия  Стандартное отклонение\n",
       "tariff                                                       \n",
       "smart                419.0    35844.0                   189.0\n",
       "ultra                545.0    94203.0                   307.0"
      ]
     },
     "metadata": {},
     "output_type": "display_data"
    }
   ],
   "source": [
    "# счистем среднее количество разговорных минут, дисперсию и стандартное отклонение для двух тарифов\n",
    "def calls_mean_var_std(df_merge):\n",
    "    result = df_merge.pivot_table(index='tariff',\n",
    "                                  values='calls_sum',\n",
    "                                  aggfunc=['mean', 'var', 'std'])\n",
    "    result.plot(kind='bar', color=['green', 'red', 'skyblue'], label=['Среднее количество','Дисперсия', 'Стандартное отклонение'])\n",
    "    plt.title('Распределение разговорных минут по тарифам')\n",
    "    plt.xlabel('Тарифы')\n",
    "    plt.ylabel('Количество разговорных минут')\n",
    "    plt.show()\n",
    "    return result\n",
    "\n",
    "calls_return = calls_mean_var_std(df_merge).round()\n",
    "calls_return.columns=['Среднее количество','Дисперсия', 'Стандартное отклонение']\n",
    "display(calls_return)"
   ]
  },
  {
   "cell_type": "markdown",
   "metadata": {},
   "source": [
    "Произведен подсчет среднего количества разговрных минут, дисперсии и стандартного отклонения. При сравнении двух тарифов \"smart\" и \"ultra\", было выявлено, что пользователи использующие тариф \"ultra\" в среднем тратят больше количесва разговорных минут, чем пользователи тарифа \"smart\", но своего лимита они не превышают (лимит тарифа \"Ульра\"- 3000 минут разговора; лимит тарифа \"Смарт\"- 500 минут разговора)."
   ]
  },
  {
   "cell_type": "code",
   "execution_count": 13,
   "metadata": {},
   "outputs": [
    {
     "data": {
      "image/png": "[encoded data removed]",
      "text/plain": [
       "<Figure size 432x288 with 1 Axes>"
      ]
     },
     "metadata": {
      "needs_background": "light"
     },
     "output_type": "display_data"
    },
    {
     "data": {
      "text/html": [
       "<div>\n",
       "<style scoped>\n",
       "    .dataframe tbody tr th:only-of-type {\n",
       "        vertical-align: middle;\n",
       "    }\n",
       "\n",
       "    .dataframe tbody tr th {\n",
       "        vertical-align: top;\n",
       "    }\n",
       "\n",
       "    .dataframe thead th {\n",
       "        text-align: right;\n",
       "    }\n",
       "</style>\n",
       "<table border=\"1\" class=\"dataframe\">\n",
       "  <thead>\n",
       "    <tr style=\"text-align: right;\">\n",
       "      <th></th>\n",
       "      <th>Среднее количество</th>\n",
       "      <th>Дисперсия</th>\n",
       "      <th>Стандартное отклонение</th>\n",
       "    </tr>\n",
       "    <tr>\n",
       "      <th>tariff</th>\n",
       "      <th></th>\n",
       "      <th></th>\n",
       "      <th></th>\n",
       "    </tr>\n",
       "  </thead>\n",
       "  <tbody>\n",
       "    <tr>\n",
       "      <td>smart</td>\n",
       "      <td>39.0</td>\n",
       "      <td>718.0</td>\n",
       "      <td>27.0</td>\n",
       "    </tr>\n",
       "    <tr>\n",
       "      <td>ultra</td>\n",
       "      <td>61.0</td>\n",
       "      <td>2110.0</td>\n",
       "      <td>46.0</td>\n",
       "    </tr>\n",
       "  </tbody>\n",
       "</table>\n",
       "</div>"
      ],
      "text/plain": [
       "        Среднее количество  Дисперсия  Стандартное отклонение\n",
       "tariff                                                       \n",
       "smart                 39.0      718.0                    27.0\n",
       "ultra                 61.0     2110.0                    46.0"
      ]
     },
     "metadata": {},
     "output_type": "display_data"
    }
   ],
   "source": [
    "# счистем среднее количество, дисперсию и стандартное отклонение сообщений для двух тарифов\n",
    "def return_mean_var_std(df_merge):\n",
    "    result = df_merge.pivot_table(index='tariff',\n",
    "                                  values='messages_count',\n",
    "                                  aggfunc=['mean', 'var', 'std'])\n",
    "    result.plot(kind='bar', color=['green', 'red', 'skyblue'], label=['Среднее количество сообщений','Дисперсия сообщений', 'Стандартное отклонение сообщений'])\n",
    "    plt.title('Распределение сообщений по тарифам')\n",
    "    plt.xlabel('Тарифы')\n",
    "    plt.ylabel('Количество сообщений')\n",
    "    plt.show()\n",
    "    return result\n",
    "\n",
    "messages_return = return_mean_var_std(df_merge).round()\n",
    "messages_return.columns=['Среднее количество','Дисперсия', 'Стандартное отклонение']\n",
    "display(messages_return)"
   ]
  },
  {
   "cell_type": "markdown",
   "metadata": {},
   "source": [
    "Произведен подсчет среднего количества, дисперсии и стандартного отклонения сообщений. При сравнении двух тарифов \"smart\" и \"ultra\", было выявлено, что пользователи использующие тариф \"ultra\" в среднем отправляют больше сообщений, чем пользователи тарифа \"smart\", но это очень мальнькая доля от имеющихся 1000 сообщений этого тарифа. Пользователи тарифа \"smart\" наоборот в среднем практически израсходуют имеющиеся 50 сообщений."
   ]
  },
  {
   "cell_type": "code",
   "execution_count": 14,
   "metadata": {},
   "outputs": [
    {
     "data": {
      "image/png": "[encoded data removed]",
      "text/plain": [
       "<Figure size 432x288 with 1 Axes>"
      ]
     },
     "metadata": {
      "needs_background": "light"
     },
     "output_type": "display_data"
    },
    {
     "data": {
      "text/html": [
       "<div>\n",
       "<style scoped>\n",
       "    .dataframe tbody tr th:only-of-type {\n",
       "        vertical-align: middle;\n",
       "    }\n",
       "\n",
       "    .dataframe tbody tr th {\n",
       "        vertical-align: top;\n",
       "    }\n",
       "\n",
       "    .dataframe thead th {\n",
       "        text-align: right;\n",
       "    }\n",
       "</style>\n",
       "<table border=\"1\" class=\"dataframe\">\n",
       "  <thead>\n",
       "    <tr style=\"text-align: right;\">\n",
       "      <th></th>\n",
       "      <th>Среднее количество</th>\n",
       "      <th>Дисперсия</th>\n",
       "      <th>Стандартное отклонение</th>\n",
       "    </tr>\n",
       "    <tr>\n",
       "      <th>tariff</th>\n",
       "      <th></th>\n",
       "      <th></th>\n",
       "      <th></th>\n",
       "    </tr>\n",
       "  </thead>\n",
       "  <tbody>\n",
       "    <tr>\n",
       "      <td>smart</td>\n",
       "      <td>42.0</td>\n",
       "      <td>223.0</td>\n",
       "      <td>15.0</td>\n",
       "    </tr>\n",
       "    <tr>\n",
       "      <td>ultra</td>\n",
       "      <td>39.0</td>\n",
       "      <td>372.0</td>\n",
       "      <td>19.0</td>\n",
       "    </tr>\n",
       "  </tbody>\n",
       "</table>\n",
       "</div>"
      ],
      "text/plain": [
       "        Среднее количество  Дисперсия  Стандартное отклонение\n",
       "tariff                                                       \n",
       "smart                 42.0      223.0                    15.0\n",
       "ultra                 39.0      372.0                    19.0"
      ]
     },
     "metadata": {},
     "output_type": "display_data"
    }
   ],
   "source": [
    "# счистем среднее количество, дисперсию и стандартное отклонение используемого интернет-трафика для двух тарифов\n",
    "def gb_mean_var_std(df_merge):\n",
    "    result = df_merge.pivot_table(index='tariff',\n",
    "                                  values='gb_used',\n",
    "                                  aggfunc=['mean', 'var', 'std'])\n",
    "    result.plot(kind='bar', color=['green', 'red', 'skyblue'], label=['Среднее количество','Дисперсия', 'Стандартное отклонение'])\n",
    "    plt.title('Распределение используемого интернет-трафика по тарифам')\n",
    "    plt.xlabel('Тарифы')\n",
    "    plt.ylabel('Используемый интернет (Гб)')\n",
    "    plt.show()\n",
    "    return result\n",
    "\n",
    "gb_return = gb_mean_var_std(df_merge).round()\n",
    "gb_return.columns=['Среднее количество','Дисперсия', 'Стандартное отклонение']\n",
    "display(gb_return)"
   ]
  },
  {
   "cell_type": "markdown",
   "metadata": {},
   "source": [
    "При сравнении тарифов, было выявлено, что пользователи пользующиеся тарифом \"ultra\" используют больше интернет-трафика, чем пользователи тарифа \"smart\". "
   ]
  },
  {
   "cell_type": "markdown",
   "metadata": {},
   "source": [
    "**Вывод**\n",
    "\n",
    "Был произведен подсчет стоимости тарифа в месяц для каждого пользователя. Исходя из тарифа были посчитаны минуты разговора, количество сообщений и объем интернет-трафика для каждого пользователя.  \n",
    "По вычесленным данным и построенным гистрограммам видно, что пользователи тарифа \"ultra\" используют больше разговорных минут, сообщений и интернет-трафика, чем пользователи тарифа \"smart\", но не превышают своего трафика. Пользователи тарифа \"smart\" в среднем наоборот практически израсходуют весть тариф, поэтому вероятность того, что они возьмут дополнительные услуги больше."
   ]
  },
  {
   "cell_type": "markdown",
   "metadata": {},
   "source": [
    "## Проверка гипотез"
   ]
  },
  {
   "cell_type": "markdown",
   "metadata": {},
   "source": [
    "Нулевая гипотеза (H₀) – это гипотеза, в которой мы утверждаем, что не существует никаких отношений или различий между двумя наблюдаемыми событиями. Нулевая гипотеза считается верной, пока нельзя доказать обратное.\n",
    "\n",
    "Альтернативная гипотеза - это утверждение, которое принимается верным, если отбрасывается H₀.\n",
    "   \n",
    "Проверим первую гепотезу \"средняя выручка пользователей тарифов «Ультра» и «Смарт» равна\", следовательно альтернативная – выборка 1 и выборка 2 отличаются."
   ]
  },
  {
   "cell_type": "code",
   "execution_count": 15,
   "metadata": {},
   "outputs": [],
   "source": [
    "# срез пользователей по тарифам\n",
    "users_smart = df_merge.query('tariff  == \"smart\"')  \n",
    "users_ultra = df_merge.query('tariff  == \"ultra\"')"
   ]
  },
  {
   "cell_type": "code",
   "execution_count": 16,
   "metadata": {},
   "outputs": [
    {
     "name": "stdout",
     "output_type": "stream",
     "text": [
      "Дисперсия тарифа \"Смарт\" равна: 8005027.0\n",
      "Дисперсия тарифа \"Ультра\" равна: 4692159.0\n"
     ]
    }
   ],
   "source": [
    "# проверка дисперсии выборок\n",
    "users_smart_var = users_smart['revenue'].var(ddof=1).round()\n",
    "print('Дисперсия тарифа \"Смарт\" равна:', users_smart_var)\n",
    "\n",
    "users_ultra_var = users_ultra['revenue'].var(ddof=1).round()\n",
    "print('Дисперсия тарифа \"Ультра\" равна:', users_ultra_var)"
   ]
  },
  {
   "cell_type": "markdown",
   "metadata": {},
   "source": [
    "Дисперсия в тарифах не равна, поэтому при проверке гипотезы в значении 'equal_var' ставим 'False'."
   ]
  },
  {
   "cell_type": "code",
   "execution_count": 17,
   "metadata": {},
   "outputs": [
    {
     "name": "stdout",
     "output_type": "stream",
     "text": [
      "p-значение: 1.3176433112302523e-120\n",
      "Отвергаем нулевую гипотезу\n",
      "\n",
      "Количество пользователей тарифа \"Смарт\": 2229\n",
      "Средняя выручка в месяц с пользователя тарифа \"Смарт\": 6105.0\n",
      "Количество пользователей тарифа \"Ультра\": 985\n",
      "Средняя выручка в месяц с пользователя тарифа \"Ультра\": 3844.0\n"
     ]
    }
   ],
   "source": [
    "# проверка гипотезы о равности средняей выручки пользователей тарифов\n",
    "revenue_smart = users_smart['revenue']\n",
    "revenue_ultra = users_ultra['revenue']\n",
    "\n",
    "alpha = 0.5\n",
    "\n",
    "results = st.ttest_ind(revenue_smart, revenue_ultra, equal_var=False)\n",
    "print('p-значение:', results.pvalue)\n",
    "\n",
    "if results.pvalue < alpha:\n",
    "    print(\"Отвергаем нулевую гипотезу\")\n",
    "else:\n",
    "    print(\"Не получилось отвергнуть нулевую гипотезу\") \n",
    "\n",
    "print()\n",
    "print('Количество пользователей тарифа \"Смарт\":', users_smart['user_id'].count())\n",
    "print('Средняя выручка в месяц с пользователя тарифа \"Смарт\":', users_smart['revenue'].mean().round())\n",
    "print('Количество пользователей тарифа \"Ультра\":', users_ultra['user_id'].count())\n",
    "print('Средняя выручка в месяц с пользователя тарифа \"Ультра\":', users_ultra['revenue'].mean().round())\n"
   ]
  },
  {
   "cell_type": "markdown",
   "metadata": {},
   "source": [
    "С помощью гипотезы о равенстве средних двух генеральных совокупностей мы проверили, различается ли средняя выручка пользователей тарифов «ultra» и «smart».\n",
    "Проверка отвергла гипотезу о равенстве средней выручки.\n"
   ]
  },
  {
   "cell_type": "markdown",
   "metadata": {},
   "source": [
    "Проверка второй гепотезы \"средняя выручка пользователей из Москвы отличается от выручки пользователей из других регионов\""
   ]
  },
  {
   "cell_type": "code",
   "execution_count": 18,
   "metadata": {},
   "outputs": [
    {
     "name": "stdout",
     "output_type": "stream",
     "text": [
      "Дисперсия выборки пользователей из Москвы равна: 8005027.0\n",
      "Дисперсия выборки пользователей из регионов равна: 8005027.0\n"
     ]
    }
   ],
   "source": [
    "# срез пользователей из Москвы и других регионов\n",
    "from_moscow = df_merge.query('city == \"Москва\"')\n",
    "from_regions = df_merge.query('city != \"Москва\"') \n",
    "\n",
    "# проверка дисперсии выборок\n",
    "from_moscow_var = from_moscow['revenue'].var(ddof=1).round()\n",
    "print('Дисперсия выборки пользователей из Москвы равна:', users_smart_var)\n",
    "from_regions_var = from_regions['revenue'].var(ddof=1).round()\n",
    "print('Дисперсия выборки пользователей из регионов равна:', users_smart_var)"
   ]
  },
  {
   "cell_type": "markdown",
   "metadata": {},
   "source": [
    "Дисперсии выборок оказались равными, поэтому в при проверке гипотезы в значении 'equal_var' ставим 'True'."
   ]
  },
  {
   "cell_type": "code",
   "execution_count": 19,
   "metadata": {},
   "outputs": [
    {
     "name": "stdout",
     "output_type": "stream",
     "text": [
      "p-значение: 0.3453090514830658\n",
      "Отвергаем нулевую гипотезу\n",
      "\n",
      "Количество пользователей из Москвы: 611\n",
      "Средняя выручка в месяц с пользователя из Москвы: 5315.0\n",
      "Количество пользователей из регионов: 2603\n",
      "Средняя выручка в месяц с пользователя из регионов: 5435.0\n"
     ]
    }
   ],
   "source": [
    "# проверка гипотезы о равности средняей выручки пользователей из Москвы и других регионов\n",
    "revenue_moscow = from_moscow['revenue']\n",
    "revenue_regions = from_regions['revenue']\n",
    "\n",
    "alpha = 0.5\n",
    "\n",
    "results = st.ttest_ind(revenue_moscow, revenue_regions, equal_var=True)\n",
    "print('p-значение:', results.pvalue)\n",
    "\n",
    "if results.pvalue < alpha:\n",
    "    print(\"Отвергаем нулевую гипотезу\")\n",
    "else:\n",
    "    print(\"Не получилось отвергнуть нулевую гипотезу\") \n",
    "\n",
    "print()\n",
    "print('Количество пользователей из Москвы:', from_moscow['user_id'].count())\n",
    "print('Средняя выручка в месяц с пользователя из Москвы:', from_moscow['revenue'].mean().round())\n",
    "print('Количество пользователей из регионов:', from_regions['user_id'].count())\n",
    "print('Средняя выручка в месяц с пользователя из регионов:', from_regions['revenue'].mean().round())"
   ]
  },
  {
   "cell_type": "markdown",
   "metadata": {},
   "source": [
    "Вторая гипотеза тоже была отвергнута. Выручка пользователей из Москвы и регионов оказалась равнозначной."
   ]
  },
  {
   "cell_type": "markdown",
   "metadata": {},
   "source": [
    "## Общий вывод"
   ]
  },
  {
   "cell_type": "markdown",
   "metadata": {},
   "source": [
    "В ходе работы произведен подсчет стоимости тарифа в месяц для каждого пользователя. Исходя из тарифа были посчитаны минуты разговора, количество сообщений и объем интернет-трафика для каждого пользователя.  \n",
    "\n",
    " По вычесленным данным и построенным гистрограммам видно, что пользователи тарифа \"ultra\" используют больше разговорных минут, сообщений и интернет-трафика, чем пользователи тарифа \"smart\", но не превышают своего трафика. Пользователи тарифа \"smart\" в среднем наоборот практически израсходуют весть тариф, поэтому вероятность того, что они возьмут дополнительные услуги больше.\n",
    "\n",
    "Также были проверены две гипотезы:\n",
    "1. средняя выручка пользователей тарифов «Ультра» и «Смарт» равна\n",
    "2. средняя выручка пользователей из Москвы отличается от выручки пользователей из других регионов\n",
    "\n",
    "**Первая гипотеза была отвергнута.** Средняя выручка в месяц с пользователя тарифа \"Смарт\" оказалась больше другого тарифа. Скорее всего это из-за того, что пользователей этого тарифа больше и дополнительные услуги выше по стоимсти.   \n",
    "**Вторая гипотеза тоже была отвергнута.** Выручка пользователей из Москвы и регионов оказалась равнозначной."
   ]
  }
 ],
 "metadata": {
  "ExecuteTimeLog": [
   {
    "duration": 84,
    "start_time": "2022-01-14T15:06:57.704Z"
   },
   {
    "duration": 883,
    "start_time": "2022-01-14T15:11:18.886Z"
   },
   {
    "duration": 254,
    "start_time": "2022-01-14T15:11:24.105Z"
   },
   {
    "duration": 2034,
    "start_time": "2022-01-14T15:11:33.547Z"
   },
   {
    "duration": 178,
    "start_time": "2022-01-14T15:13:00.350Z"
   },
   {
    "duration": 560,
    "start_time": "2022-01-14T15:13:22.277Z"
   },
   {
    "duration": 157,
    "start_time": "2022-01-14T15:13:35.869Z"
   },
   {
    "duration": 298,
    "start_time": "2022-01-14T15:23:52.893Z"
   },
   {
    "duration": 154,
    "start_time": "2022-01-14T15:24:04.992Z"
   },
   {
    "duration": 331,
    "start_time": "2022-01-14T15:24:14.960Z"
   },
   {
    "duration": 399,
    "start_time": "2022-01-14T15:25:09.540Z"
   },
   {
    "duration": 381,
    "start_time": "2022-01-14T15:25:44.112Z"
   },
   {
    "duration": 673,
    "start_time": "2022-01-14T15:26:47.600Z"
   },
   {
    "duration": 434,
    "start_time": "2022-01-14T15:26:55.254Z"
   },
   {
    "duration": 479,
    "start_time": "2022-01-14T15:27:55.155Z"
   },
   {
    "duration": 58,
    "start_time": "2022-01-14T15:36:14.055Z"
   },
   {
    "duration": 251,
    "start_time": "2022-01-14T15:37:10.606Z"
   },
   {
    "duration": 85,
    "start_time": "2022-01-14T15:37:35.777Z"
   },
   {
    "duration": 266,
    "start_time": "2022-01-14T15:47:43.119Z"
   },
   {
    "duration": 296,
    "start_time": "2022-01-14T15:47:58.112Z"
   },
   {
    "duration": 384,
    "start_time": "2022-01-14T15:48:13.959Z"
   },
   {
    "duration": 63,
    "start_time": "2022-01-14T15:48:21.103Z"
   },
   {
    "duration": 421,
    "start_time": "2022-01-14T15:50:23.193Z"
   },
   {
    "duration": 55,
    "start_time": "2022-01-14T15:50:23.616Z"
   },
   {
    "duration": 93,
    "start_time": "2022-01-14T15:50:23.674Z"
   },
   {
    "duration": 345,
    "start_time": "2022-01-14T17:29:57.992Z"
   },
   {
    "duration": 1361,
    "start_time": "2022-01-14T17:30:06.312Z"
   },
   {
    "duration": 65,
    "start_time": "2022-01-14T17:30:07.675Z"
   },
   {
    "duration": 95,
    "start_time": "2022-01-14T17:30:07.743Z"
   },
   {
    "duration": 32,
    "start_time": "2022-01-14T17:30:07.840Z"
   },
   {
    "duration": 26,
    "start_time": "2022-01-14T17:30:07.874Z"
   },
   {
    "duration": 364,
    "start_time": "2022-01-14T17:53:40.711Z"
   },
   {
    "duration": 479,
    "start_time": "2022-01-14T17:54:26.231Z"
   },
   {
    "duration": 29,
    "start_time": "2022-01-14T17:54:33.672Z"
   },
   {
    "duration": 33,
    "start_time": "2022-01-14T17:54:53.223Z"
   },
   {
    "duration": -296,
    "start_time": "2022-01-14T17:56:16.243Z"
   },
   {
    "duration": 6807,
    "start_time": "2022-01-14T17:57:05.479Z"
   },
   {
    "duration": 37,
    "start_time": "2022-01-14T17:57:16.551Z"
   },
   {
    "duration": 35,
    "start_time": "2022-01-14T18:05:12.632Z"
   },
   {
    "duration": 58,
    "start_time": "2022-01-14T18:12:57.786Z"
   },
   {
    "duration": 16,
    "start_time": "2022-01-14T18:13:02.317Z"
   },
   {
    "duration": 29,
    "start_time": "2022-01-14T18:13:10.816Z"
   },
   {
    "duration": 17,
    "start_time": "2022-01-14T18:13:28.921Z"
   },
   {
    "duration": 283,
    "start_time": "2022-01-14T18:14:45.761Z"
   },
   {
    "duration": 19,
    "start_time": "2022-01-14T18:14:50.569Z"
   },
   {
    "duration": 35,
    "start_time": "2022-01-14T18:17:10.784Z"
   },
   {
    "duration": 27,
    "start_time": "2022-01-14T18:17:21.443Z"
   },
   {
    "duration": 85,
    "start_time": "2022-01-14T18:55:22.576Z"
   },
   {
    "duration": 334,
    "start_time": "2022-01-14T18:55:51.089Z"
   },
   {
    "duration": 958,
    "start_time": "2022-01-15T09:50:29.852Z"
   },
   {
    "duration": 48,
    "start_time": "2022-01-15T09:50:30.812Z"
   },
   {
    "duration": 81,
    "start_time": "2022-01-15T09:50:30.862Z"
   },
   {
    "duration": 74,
    "start_time": "2022-01-15T09:50:30.944Z"
   },
   {
    "duration": 323,
    "start_time": "2022-01-15T09:50:31.020Z"
   },
   {
    "duration": 241,
    "start_time": "2022-01-15T09:55:59.117Z"
   },
   {
    "duration": 20,
    "start_time": "2022-01-15T09:56:17.080Z"
   },
   {
    "duration": 17,
    "start_time": "2022-01-15T09:56:23.045Z"
   },
   {
    "duration": 235,
    "start_time": "2022-01-15T10:02:56.762Z"
   },
   {
    "duration": 234,
    "start_time": "2022-01-15T10:03:08.365Z"
   },
   {
    "duration": 265,
    "start_time": "2022-01-15T10:04:16.240Z"
   },
   {
    "duration": 421,
    "start_time": "2022-01-15T10:06:21.125Z"
   },
   {
    "duration": 50,
    "start_time": "2022-01-15T10:06:21.548Z"
   },
   {
    "duration": 90,
    "start_time": "2022-01-15T10:06:21.600Z"
   },
   {
    "duration": 287,
    "start_time": "2022-01-15T10:06:21.692Z"
   },
   {
    "duration": 43,
    "start_time": "2022-01-15T10:06:21.939Z"
   },
   {
    "duration": 67,
    "start_time": "2022-01-15T10:08:06.891Z"
   },
   {
    "duration": 39,
    "start_time": "2022-01-15T10:08:17.658Z"
   },
   {
    "duration": 280,
    "start_time": "2022-01-15T10:11:17.586Z"
   },
   {
    "duration": 52,
    "start_time": "2022-01-15T10:11:54.071Z"
   },
   {
    "duration": 66,
    "start_time": "2022-01-15T10:12:08.139Z"
   },
   {
    "duration": 54,
    "start_time": "2022-01-15T10:12:15.579Z"
   },
   {
    "duration": 39,
    "start_time": "2022-01-15T10:12:33.316Z"
   },
   {
    "duration": 255,
    "start_time": "2022-01-15T10:29:00.605Z"
   },
   {
    "duration": 82,
    "start_time": "2022-01-15T10:31:33.858Z"
   },
   {
    "duration": 84,
    "start_time": "2022-01-15T10:31:37.657Z"
   },
   {
    "duration": 98,
    "start_time": "2022-01-15T10:31:51.402Z"
   },
   {
    "duration": 316,
    "start_time": "2022-01-15T10:36:27.848Z"
   },
   {
    "duration": 323,
    "start_time": "2022-01-15T10:36:29.046Z"
   },
   {
    "duration": 6752,
    "start_time": "2022-01-15T10:37:58.146Z"
   },
   {
    "duration": -53,
    "start_time": "2022-01-15T10:38:04.953Z"
   },
   {
    "duration": 410,
    "start_time": "2022-01-15T10:38:14.190Z"
   },
   {
    "duration": 48,
    "start_time": "2022-01-15T10:38:14.601Z"
   },
   {
    "duration": 54,
    "start_time": "2022-01-15T10:38:14.651Z"
   },
   {
    "duration": 5882,
    "start_time": "2022-01-15T10:38:14.706Z"
   },
   {
    "duration": -52,
    "start_time": "2022-01-15T10:38:20.642Z"
   },
   {
    "duration": -51,
    "start_time": "2022-01-15T10:38:20.643Z"
   },
   {
    "duration": 6117,
    "start_time": "2022-01-15T10:38:54.478Z"
   },
   {
    "duration": -36,
    "start_time": "2022-01-15T10:39:00.633Z"
   },
   {
    "duration": 345,
    "start_time": "2022-01-15T10:39:28.683Z"
   },
   {
    "duration": 320,
    "start_time": "2022-01-15T10:39:53.407Z"
   },
   {
    "duration": 331,
    "start_time": "2022-01-15T10:39:56.327Z"
   },
   {
    "duration": 320,
    "start_time": "2022-01-15T10:40:51.059Z"
   },
   {
    "duration": 331,
    "start_time": "2022-01-15T10:41:59.186Z"
   },
   {
    "duration": 313,
    "start_time": "2022-01-15T10:42:06.615Z"
   },
   {
    "duration": 5824,
    "start_time": "2022-01-15T10:42:38.178Z"
   },
   {
    "duration": 42,
    "start_time": "2022-01-15T10:42:51.859Z"
   },
   {
    "duration": 162,
    "start_time": "2022-01-15T10:42:59.259Z"
   },
   {
    "duration": 171,
    "start_time": "2022-01-15T10:50:35.197Z"
   },
   {
    "duration": 214,
    "start_time": "2022-01-15T10:52:21.702Z"
   },
   {
    "duration": 505,
    "start_time": "2022-01-15T10:58:44.838Z"
   },
   {
    "duration": 45,
    "start_time": "2022-01-15T11:23:00.478Z"
   },
   {
    "duration": 484,
    "start_time": "2022-01-15T11:23:26.552Z"
   },
   {
    "duration": 273,
    "start_time": "2022-01-15T11:23:39.566Z"
   },
   {
    "duration": 303,
    "start_time": "2022-01-15T11:24:06.385Z"
   },
   {
    "duration": 512,
    "start_time": "2022-01-15T11:26:47.792Z"
   },
   {
    "duration": 353,
    "start_time": "2022-01-15T11:26:57.072Z"
   },
   {
    "duration": 465,
    "start_time": "2022-01-15T11:30:18.511Z"
   },
   {
    "duration": 327,
    "start_time": "2022-01-15T11:30:58.230Z"
   },
   {
    "duration": 579,
    "start_time": "2022-01-15T11:31:10.214Z"
   },
   {
    "duration": 556,
    "start_time": "2022-01-15T11:31:26.559Z"
   },
   {
    "duration": 504,
    "start_time": "2022-01-15T11:31:27.680Z"
   },
   {
    "duration": 7597,
    "start_time": "2022-01-15T11:34:48.709Z"
   },
   {
    "duration": -187,
    "start_time": "2022-01-15T11:36:49.654Z"
   },
   {
    "duration": 6646,
    "start_time": "2022-01-15T11:36:51.930Z"
   },
   {
    "duration": -420,
    "start_time": "2022-01-15T11:41:57.457Z"
   },
   {
    "duration": 287,
    "start_time": "2022-01-15T11:42:31.770Z"
   },
   {
    "duration": 301,
    "start_time": "2022-01-15T11:43:53.693Z"
   },
   {
    "duration": 304,
    "start_time": "2022-01-15T11:45:29.896Z"
   },
   {
    "duration": 5958,
    "start_time": "2022-01-15T11:45:38.257Z"
   },
   {
    "duration": 309,
    "start_time": "2022-01-15T11:45:56.758Z"
   },
   {
    "duration": 282,
    "start_time": "2022-01-15T11:48:52.285Z"
   },
   {
    "duration": 1133,
    "start_time": "2022-01-15T11:49:08.399Z"
   },
   {
    "duration": 84,
    "start_time": "2022-01-15T11:49:45.159Z"
   },
   {
    "duration": 88,
    "start_time": "2022-01-15T11:49:52.717Z"
   },
   {
    "duration": 391,
    "start_time": "2022-01-15T11:50:13.097Z"
   },
   {
    "duration": 47,
    "start_time": "2022-01-15T11:50:13.490Z"
   },
   {
    "duration": 55,
    "start_time": "2022-01-15T11:50:13.539Z"
   },
   {
    "duration": 89,
    "start_time": "2022-01-15T11:50:13.595Z"
   },
   {
    "duration": 1138,
    "start_time": "2022-01-15T11:50:13.686Z"
   },
   {
    "duration": 322,
    "start_time": "2022-01-15T11:50:14.826Z"
   },
   {
    "duration": 6666,
    "start_time": "2022-01-15T11:50:15.149Z"
   },
   {
    "duration": -60,
    "start_time": "2022-01-15T11:50:21.877Z"
   },
   {
    "duration": 315,
    "start_time": "2022-01-15T11:50:27.193Z"
   },
   {
    "duration": 1211,
    "start_time": "2022-01-15T11:50:47.997Z"
   },
   {
    "duration": 1199,
    "start_time": "2022-01-15T11:51:57.720Z"
   },
   {
    "duration": 344,
    "start_time": "2022-01-15T11:52:04.398Z"
   },
   {
    "duration": 301,
    "start_time": "2022-01-15T11:52:15.841Z"
   },
   {
    "duration": 324,
    "start_time": "2022-01-15T11:52:34.697Z"
   },
   {
    "duration": 1331,
    "start_time": "2022-01-15T11:52:58.177Z"
   },
   {
    "duration": 305,
    "start_time": "2022-01-15T11:54:17.499Z"
   },
   {
    "duration": 300,
    "start_time": "2022-01-15T11:54:20.873Z"
   },
   {
    "duration": 380,
    "start_time": "2022-01-15T11:55:00.442Z"
   },
   {
    "duration": 46,
    "start_time": "2022-01-15T11:55:00.824Z"
   },
   {
    "duration": 70,
    "start_time": "2022-01-15T11:55:00.872Z"
   },
   {
    "duration": 64,
    "start_time": "2022-01-15T11:55:00.944Z"
   },
   {
    "duration": 1156,
    "start_time": "2022-01-15T11:55:01.010Z"
   },
   {
    "duration": 318,
    "start_time": "2022-01-15T11:55:02.169Z"
   },
   {
    "duration": 6227,
    "start_time": "2022-01-15T11:55:02.489Z"
   },
   {
    "duration": 12,
    "start_time": "2022-01-15T11:55:08.706Z"
   },
   {
    "duration": 495,
    "start_time": "2022-01-15T11:59:09.868Z"
   },
   {
    "duration": 86,
    "start_time": "2022-01-15T11:59:10.365Z"
   },
   {
    "duration": 99,
    "start_time": "2022-01-15T11:59:10.453Z"
   },
   {
    "duration": 63,
    "start_time": "2022-01-15T11:59:10.554Z"
   },
   {
    "duration": 1200,
    "start_time": "2022-01-15T11:59:10.641Z"
   },
   {
    "duration": 327,
    "start_time": "2022-01-15T11:59:11.842Z"
   },
   {
    "duration": 6020,
    "start_time": "2022-01-15T11:59:12.171Z"
   },
   {
    "duration": 10,
    "start_time": "2022-01-15T11:59:18.182Z"
   },
   {
    "duration": 70,
    "start_time": "2022-01-15T12:00:05.807Z"
   },
   {
    "duration": 66,
    "start_time": "2022-01-15T12:00:21.608Z"
   },
   {
    "duration": 63,
    "start_time": "2022-01-15T12:00:38.608Z"
   },
   {
    "duration": 529,
    "start_time": "2022-01-15T12:05:41.307Z"
   },
   {
    "duration": 295,
    "start_time": "2022-01-15T12:05:57.740Z"
   },
   {
    "duration": 589,
    "start_time": "2022-01-15T13:56:10.745Z"
   },
   {
    "duration": 72,
    "start_time": "2022-01-15T13:56:11.337Z"
   },
   {
    "duration": 118,
    "start_time": "2022-01-15T13:56:11.412Z"
   },
   {
    "duration": 141,
    "start_time": "2022-01-15T13:56:11.564Z"
   },
   {
    "duration": 2040,
    "start_time": "2022-01-15T13:56:11.707Z"
   },
   {
    "duration": 538,
    "start_time": "2022-01-15T13:56:13.749Z"
   },
   {
    "duration": 9319,
    "start_time": "2022-01-15T13:56:14.290Z"
   },
   {
    "duration": -68,
    "start_time": "2022-01-15T13:56:23.681Z"
   },
   {
    "duration": 70,
    "start_time": "2022-01-15T14:43:21.081Z"
   },
   {
    "duration": 48,
    "start_time": "2022-01-15T14:43:24.361Z"
   },
   {
    "duration": 49,
    "start_time": "2022-01-15T14:43:36.828Z"
   },
   {
    "duration": 548,
    "start_time": "2022-01-15T14:45:26.872Z"
   },
   {
    "duration": 79,
    "start_time": "2022-01-15T14:45:27.423Z"
   },
   {
    "duration": 107,
    "start_time": "2022-01-15T14:45:27.505Z"
   },
   {
    "duration": 107,
    "start_time": "2022-01-15T14:45:27.615Z"
   },
   {
    "duration": 95,
    "start_time": "2022-01-15T14:45:27.724Z"
   },
   {
    "duration": 2031,
    "start_time": "2022-01-15T14:45:27.822Z"
   },
   {
    "duration": 432,
    "start_time": "2022-01-15T14:45:29.863Z"
   },
   {
    "duration": 8187,
    "start_time": "2022-01-15T14:45:30.298Z"
   },
   {
    "duration": -43,
    "start_time": "2022-01-15T14:45:38.532Z"
   },
   {
    "duration": 112,
    "start_time": "2022-01-15T14:46:36.787Z"
   },
   {
    "duration": 75,
    "start_time": "2022-01-15T14:49:01.560Z"
   },
   {
    "duration": 547,
    "start_time": "2022-01-15T14:49:14.434Z"
   },
   {
    "duration": 91,
    "start_time": "2022-01-15T14:49:14.983Z"
   },
   {
    "duration": 111,
    "start_time": "2022-01-15T14:49:15.077Z"
   },
   {
    "duration": 126,
    "start_time": "2022-01-15T14:49:15.191Z"
   },
   {
    "duration": 86,
    "start_time": "2022-01-15T14:49:15.320Z"
   },
   {
    "duration": 1855,
    "start_time": "2022-01-15T14:49:15.409Z"
   },
   {
    "duration": 406,
    "start_time": "2022-01-15T14:49:17.267Z"
   },
   {
    "duration": 8086,
    "start_time": "2022-01-15T14:49:17.676Z"
   },
   {
    "duration": -45,
    "start_time": "2022-01-15T14:49:25.810Z"
   },
   {
    "duration": 563,
    "start_time": "2022-01-15T14:49:41.723Z"
   },
   {
    "duration": 86,
    "start_time": "2022-01-15T14:49:42.289Z"
   },
   {
    "duration": 106,
    "start_time": "2022-01-15T14:49:42.378Z"
   },
   {
    "duration": 128,
    "start_time": "2022-01-15T14:49:42.488Z"
   },
   {
    "duration": 73,
    "start_time": "2022-01-15T14:49:42.619Z"
   },
   {
    "duration": 132,
    "start_time": "2022-01-15T14:49:42.695Z"
   },
   {
    "duration": 507,
    "start_time": "2022-01-15T14:49:42.829Z"
   },
   {
    "duration": -20,
    "start_time": "2022-01-15T14:49:43.359Z"
   },
   {
    "duration": -20,
    "start_time": "2022-01-15T14:49:43.360Z"
   },
   {
    "duration": 546,
    "start_time": "2022-01-15T14:49:58.401Z"
   },
   {
    "duration": 65,
    "start_time": "2022-01-15T14:49:58.950Z"
   },
   {
    "duration": 103,
    "start_time": "2022-01-15T14:49:59.018Z"
   },
   {
    "duration": 145,
    "start_time": "2022-01-15T14:49:59.125Z"
   },
   {
    "duration": 324,
    "start_time": "2022-01-15T14:49:59.272Z"
   },
   {
    "duration": -19,
    "start_time": "2022-01-15T14:49:59.619Z"
   },
   {
    "duration": -19,
    "start_time": "2022-01-15T14:49:59.620Z"
   },
   {
    "duration": -18,
    "start_time": "2022-01-15T14:49:59.621Z"
   },
   {
    "duration": -17,
    "start_time": "2022-01-15T14:49:59.621Z"
   },
   {
    "duration": 98,
    "start_time": "2022-01-15T14:55:09.788Z"
   },
   {
    "duration": 76,
    "start_time": "2022-01-15T14:55:12.658Z"
   },
   {
    "duration": 564,
    "start_time": "2022-01-15T14:55:16.703Z"
   },
   {
    "duration": 94,
    "start_time": "2022-01-15T14:55:17.270Z"
   },
   {
    "duration": 116,
    "start_time": "2022-01-15T14:55:17.368Z"
   },
   {
    "duration": 137,
    "start_time": "2022-01-15T14:55:17.488Z"
   },
   {
    "duration": 76,
    "start_time": "2022-01-15T14:55:17.627Z"
   },
   {
    "duration": 132,
    "start_time": "2022-01-15T14:55:17.705Z"
   },
   {
    "duration": 560,
    "start_time": "2022-01-15T14:55:17.840Z"
   },
   {
    "duration": -48,
    "start_time": "2022-01-15T14:55:18.450Z"
   },
   {
    "duration": -48,
    "start_time": "2022-01-15T14:55:18.451Z"
   },
   {
    "duration": 119,
    "start_time": "2022-01-15T14:55:43.462Z"
   },
   {
    "duration": 112,
    "start_time": "2022-01-15T14:56:02.302Z"
   },
   {
    "duration": 116,
    "start_time": "2022-01-15T14:56:07.504Z"
   },
   {
    "duration": 111,
    "start_time": "2022-01-15T14:56:16.474Z"
   },
   {
    "duration": 606,
    "start_time": "2022-01-15T14:56:31.024Z"
   },
   {
    "duration": 71,
    "start_time": "2022-01-15T14:56:31.633Z"
   },
   {
    "duration": 105,
    "start_time": "2022-01-15T14:56:31.707Z"
   },
   {
    "duration": 138,
    "start_time": "2022-01-15T14:56:31.815Z"
   },
   {
    "duration": 69,
    "start_time": "2022-01-15T14:56:31.955Z"
   },
   {
    "duration": 129,
    "start_time": "2022-01-15T14:56:32.026Z"
   },
   {
    "duration": 514,
    "start_time": "2022-01-15T14:56:32.162Z"
   },
   {
    "duration": -27,
    "start_time": "2022-01-15T14:56:32.706Z"
   },
   {
    "duration": -42,
    "start_time": "2022-01-15T14:56:32.723Z"
   },
   {
    "duration": 352,
    "start_time": "2022-01-15T14:58:39.448Z"
   },
   {
    "duration": 82,
    "start_time": "2022-01-15T14:58:55.661Z"
   },
   {
    "duration": 74,
    "start_time": "2022-01-15T14:59:12.080Z"
   },
   {
    "duration": 79,
    "start_time": "2022-01-15T14:59:44.482Z"
   },
   {
    "duration": 606,
    "start_time": "2022-01-15T14:59:52.525Z"
   },
   {
    "duration": 83,
    "start_time": "2022-01-15T14:59:53.133Z"
   },
   {
    "duration": 143,
    "start_time": "2022-01-15T14:59:53.220Z"
   },
   {
    "duration": 124,
    "start_time": "2022-01-15T14:59:53.367Z"
   },
   {
    "duration": 97,
    "start_time": "2022-01-15T14:59:53.494Z"
   },
   {
    "duration": 134,
    "start_time": "2022-01-15T14:59:53.594Z"
   },
   {
    "duration": 581,
    "start_time": "2022-01-15T14:59:53.731Z"
   },
   {
    "duration": -77,
    "start_time": "2022-01-15T14:59:54.393Z"
   },
   {
    "duration": -77,
    "start_time": "2022-01-15T14:59:54.395Z"
   },
   {
    "duration": 79,
    "start_time": "2022-01-15T15:00:10.100Z"
   },
   {
    "duration": 623,
    "start_time": "2022-01-15T15:00:30.701Z"
   },
   {
    "duration": 77,
    "start_time": "2022-01-15T15:00:31.327Z"
   },
   {
    "duration": 112,
    "start_time": "2022-01-15T15:00:31.407Z"
   },
   {
    "duration": 149,
    "start_time": "2022-01-15T15:00:31.523Z"
   },
   {
    "duration": 89,
    "start_time": "2022-01-15T15:00:31.675Z"
   },
   {
    "duration": 130,
    "start_time": "2022-01-15T15:00:31.767Z"
   },
   {
    "duration": 535,
    "start_time": "2022-01-15T15:00:31.899Z"
   },
   {
    "duration": -34,
    "start_time": "2022-01-15T15:00:32.471Z"
   },
   {
    "duration": -37,
    "start_time": "2022-01-15T15:00:32.475Z"
   },
   {
    "duration": 121,
    "start_time": "2022-01-15T15:02:05.168Z"
   },
   {
    "duration": 100,
    "start_time": "2022-01-15T15:02:11.183Z"
   },
   {
    "duration": 102,
    "start_time": "2022-01-15T15:02:51.801Z"
   },
   {
    "duration": 595,
    "start_time": "2022-01-15T15:02:57.643Z"
   },
   {
    "duration": 68,
    "start_time": "2022-01-15T15:02:58.240Z"
   },
   {
    "duration": 104,
    "start_time": "2022-01-15T15:02:58.311Z"
   },
   {
    "duration": 181,
    "start_time": "2022-01-15T15:02:58.419Z"
   },
   {
    "duration": 81,
    "start_time": "2022-01-15T15:02:58.603Z"
   },
   {
    "duration": 126,
    "start_time": "2022-01-15T15:02:58.686Z"
   },
   {
    "duration": 709,
    "start_time": "2022-01-15T15:02:58.815Z"
   },
   {
    "duration": -29,
    "start_time": "2022-01-15T15:02:59.556Z"
   },
   {
    "duration": -28,
    "start_time": "2022-01-15T15:02:59.558Z"
   },
   {
    "duration": 399,
    "start_time": "2022-01-15T15:03:18.030Z"
   },
   {
    "duration": 117,
    "start_time": "2022-01-15T15:03:35.962Z"
   },
   {
    "duration": 181,
    "start_time": "2022-01-15T15:07:45.461Z"
   },
   {
    "duration": 169,
    "start_time": "2022-01-15T15:07:50.621Z"
   },
   {
    "duration": 167,
    "start_time": "2022-01-15T15:09:56.601Z"
   },
   {
    "duration": 624,
    "start_time": "2022-01-15T15:10:08.482Z"
   },
   {
    "duration": 98,
    "start_time": "2022-01-15T15:10:09.110Z"
   },
   {
    "duration": 112,
    "start_time": "2022-01-15T15:10:09.211Z"
   },
   {
    "duration": 285,
    "start_time": "2022-01-15T15:10:09.326Z"
   },
   {
    "duration": 56,
    "start_time": "2022-01-15T15:10:09.613Z"
   },
   {
    "duration": 144,
    "start_time": "2022-01-15T15:10:09.672Z"
   },
   {
    "duration": 717,
    "start_time": "2022-01-15T15:10:09.819Z"
   },
   {
    "duration": -170,
    "start_time": "2022-01-15T15:10:10.709Z"
   },
   {
    "duration": -170,
    "start_time": "2022-01-15T15:10:10.711Z"
   },
   {
    "duration": 581,
    "start_time": "2022-01-15T15:10:17.710Z"
   },
   {
    "duration": 84,
    "start_time": "2022-01-15T15:10:18.293Z"
   },
   {
    "duration": 106,
    "start_time": "2022-01-15T15:10:18.380Z"
   },
   {
    "duration": 259,
    "start_time": "2022-01-15T15:10:18.489Z"
   },
   {
    "duration": 45,
    "start_time": "2022-01-15T15:10:18.750Z"
   },
   {
    "duration": 133,
    "start_time": "2022-01-15T15:10:18.797Z"
   },
   {
    "duration": 568,
    "start_time": "2022-01-15T15:10:18.933Z"
   },
   {
    "duration": -93,
    "start_time": "2022-01-15T15:10:19.597Z"
   },
   {
    "duration": -92,
    "start_time": "2022-01-15T15:10:19.598Z"
   },
   {
    "duration": 171,
    "start_time": "2022-01-15T15:10:42.694Z"
   },
   {
    "duration": 582,
    "start_time": "2022-01-15T15:10:52.501Z"
   },
   {
    "duration": 89,
    "start_time": "2022-01-15T15:10:53.086Z"
   },
   {
    "duration": 113,
    "start_time": "2022-01-15T15:10:53.178Z"
   },
   {
    "duration": 278,
    "start_time": "2022-01-15T15:10:53.294Z"
   },
   {
    "duration": 45,
    "start_time": "2022-01-15T15:10:53.574Z"
   },
   {
    "duration": 145,
    "start_time": "2022-01-15T15:10:53.623Z"
   },
   {
    "duration": 512,
    "start_time": "2022-01-15T15:10:53.771Z"
   },
   {
    "duration": -354,
    "start_time": "2022-01-15T15:10:54.639Z"
   },
   {
    "duration": -354,
    "start_time": "2022-01-15T15:10:54.641Z"
   },
   {
    "duration": 569,
    "start_time": "2022-01-15T15:11:08.009Z"
   },
   {
    "duration": 84,
    "start_time": "2022-01-15T15:11:08.580Z"
   },
   {
    "duration": 104,
    "start_time": "2022-01-15T15:11:08.668Z"
   },
   {
    "duration": 261,
    "start_time": "2022-01-15T15:11:08.775Z"
   },
   {
    "duration": 52,
    "start_time": "2022-01-15T15:11:09.039Z"
   },
   {
    "duration": 132,
    "start_time": "2022-01-15T15:11:09.094Z"
   },
   {
    "duration": 490,
    "start_time": "2022-01-15T15:11:09.229Z"
   },
   {
    "duration": -227,
    "start_time": "2022-01-15T15:11:09.950Z"
   },
   {
    "duration": -228,
    "start_time": "2022-01-15T15:11:09.952Z"
   },
   {
    "duration": 569,
    "start_time": "2022-01-15T16:05:10.753Z"
   },
   {
    "duration": 76,
    "start_time": "2022-01-15T16:05:11.324Z"
   },
   {
    "duration": 102,
    "start_time": "2022-01-15T16:05:11.403Z"
   },
   {
    "duration": 267,
    "start_time": "2022-01-15T16:05:11.508Z"
   },
   {
    "duration": 41,
    "start_time": "2022-01-15T16:05:11.778Z"
   },
   {
    "duration": 136,
    "start_time": "2022-01-15T16:05:11.822Z"
   },
   {
    "duration": 502,
    "start_time": "2022-01-15T16:05:11.963Z"
   },
   {
    "duration": -1,
    "start_time": "2022-01-15T16:05:12.469Z"
   },
   {
    "duration": -2,
    "start_time": "2022-01-15T16:05:12.471Z"
   },
   {
    "duration": 559,
    "start_time": "2022-01-15T16:07:44.615Z"
   },
   {
    "duration": 89,
    "start_time": "2022-01-15T16:07:45.177Z"
   },
   {
    "duration": 100,
    "start_time": "2022-01-15T16:07:45.269Z"
   },
   {
    "duration": 252,
    "start_time": "2022-01-15T16:07:45.372Z"
   },
   {
    "duration": 58,
    "start_time": "2022-01-15T16:07:45.626Z"
   },
   {
    "duration": 133,
    "start_time": "2022-01-15T16:07:45.687Z"
   },
   {
    "duration": 652,
    "start_time": "2022-01-15T16:07:45.823Z"
   },
   {
    "duration": -32,
    "start_time": "2022-01-15T16:07:46.510Z"
   },
   {
    "duration": -32,
    "start_time": "2022-01-15T16:07:46.511Z"
   },
   {
    "duration": 171,
    "start_time": "2022-01-15T16:08:20.091Z"
   },
   {
    "duration": 180,
    "start_time": "2022-01-15T16:08:29.277Z"
   },
   {
    "duration": 181,
    "start_time": "2022-01-15T16:08:36.955Z"
   },
   {
    "duration": 177,
    "start_time": "2022-01-15T16:08:56.399Z"
   },
   {
    "duration": 182,
    "start_time": "2022-01-15T16:09:16.054Z"
   },
   {
    "duration": 577,
    "start_time": "2022-01-15T16:09:35.743Z"
   },
   {
    "duration": 78,
    "start_time": "2022-01-15T16:09:36.323Z"
   },
   {
    "duration": 117,
    "start_time": "2022-01-15T16:09:36.405Z"
   },
   {
    "duration": 289,
    "start_time": "2022-01-15T16:09:36.526Z"
   },
   {
    "duration": 59,
    "start_time": "2022-01-15T16:09:36.818Z"
   },
   {
    "duration": 130,
    "start_time": "2022-01-15T16:09:36.881Z"
   },
   {
    "duration": 836,
    "start_time": "2022-01-15T16:09:37.014Z"
   },
   {
    "duration": -84,
    "start_time": "2022-01-15T16:09:37.937Z"
   },
   {
    "duration": -85,
    "start_time": "2022-01-15T16:09:37.939Z"
   },
   {
    "duration": 573,
    "start_time": "2022-01-15T16:10:13.491Z"
   },
   {
    "duration": 68,
    "start_time": "2022-01-15T16:10:14.067Z"
   },
   {
    "duration": 103,
    "start_time": "2022-01-15T16:10:14.164Z"
   },
   {
    "duration": 267,
    "start_time": "2022-01-15T16:10:14.271Z"
   },
   {
    "duration": 56,
    "start_time": "2022-01-15T16:10:14.541Z"
   },
   {
    "duration": 136,
    "start_time": "2022-01-15T16:10:14.599Z"
   },
   {
    "duration": 496,
    "start_time": "2022-01-15T16:10:14.738Z"
   },
   {
    "duration": -157,
    "start_time": "2022-01-15T16:10:15.394Z"
   },
   {
    "duration": -157,
    "start_time": "2022-01-15T16:10:15.396Z"
   },
   {
    "duration": 292,
    "start_time": "2022-01-16T16:43:33.111Z"
   },
   {
    "duration": 1010,
    "start_time": "2022-01-16T16:44:17.608Z"
   },
   {
    "duration": 50,
    "start_time": "2022-01-16T16:44:18.620Z"
   },
   {
    "duration": 84,
    "start_time": "2022-01-16T16:44:18.673Z"
   },
   {
    "duration": 219,
    "start_time": "2022-01-16T16:44:18.759Z"
   },
   {
    "duration": 31,
    "start_time": "2022-01-16T16:44:18.980Z"
   },
   {
    "duration": 2,
    "start_time": "2022-01-16T16:44:19.013Z"
   },
   {
    "duration": 432,
    "start_time": "2022-01-16T16:44:19.017Z"
   },
   {
    "duration": 24,
    "start_time": "2022-01-16T16:44:19.426Z"
   },
   {
    "duration": 24,
    "start_time": "2022-01-16T16:44:19.427Z"
   },
   {
    "duration": 391,
    "start_time": "2022-01-16T16:45:47.032Z"
   },
   {
    "duration": 50,
    "start_time": "2022-01-16T16:45:47.425Z"
   },
   {
    "duration": 57,
    "start_time": "2022-01-16T16:45:47.498Z"
   },
   {
    "duration": 198,
    "start_time": "2022-01-16T16:45:47.556Z"
   },
   {
    "duration": 73,
    "start_time": "2022-01-16T16:45:47.755Z"
   },
   {
    "duration": 190,
    "start_time": "2022-01-16T16:45:47.829Z"
   },
   {
    "duration": 6574,
    "start_time": "2022-01-16T16:45:48.021Z"
   },
   {
    "duration": -58,
    "start_time": "2022-01-16T16:45:54.655Z"
   },
   {
    "duration": 128,
    "start_time": "2022-01-16T16:46:07.046Z"
   },
   {
    "duration": 125,
    "start_time": "2022-01-16T16:46:11.582Z"
   },
   {
    "duration": 404,
    "start_time": "2022-01-16T16:46:59.719Z"
   },
   {
    "duration": 401,
    "start_time": "2022-01-16T16:47:15.273Z"
   },
   {
    "duration": 171,
    "start_time": "2022-01-16T16:47:29.909Z"
   },
   {
    "duration": 6450,
    "start_time": "2022-01-16T17:12:23.300Z"
   },
   {
    "duration": 157,
    "start_time": "2022-01-16T17:30:13.818Z"
   },
   {
    "duration": 174,
    "start_time": "2022-01-16T17:30:22.553Z"
   },
   {
    "duration": 139,
    "start_time": "2022-01-16T17:30:42.521Z"
   },
   {
    "duration": 166,
    "start_time": "2022-01-16T17:30:48.556Z"
   },
   {
    "duration": 154,
    "start_time": "2022-01-16T17:30:57.748Z"
   },
   {
    "duration": 170,
    "start_time": "2022-01-16T17:37:33.638Z"
   },
   {
    "duration": 393,
    "start_time": "2022-01-16T17:49:43.187Z"
   },
   {
    "duration": 46,
    "start_time": "2022-01-16T17:49:43.581Z"
   },
   {
    "duration": 76,
    "start_time": "2022-01-16T17:49:43.629Z"
   },
   {
    "duration": 185,
    "start_time": "2022-01-16T17:49:43.707Z"
   },
   {
    "duration": 67,
    "start_time": "2022-01-16T17:49:43.898Z"
   },
   {
    "duration": 447,
    "start_time": "2022-01-16T17:49:43.967Z"
   },
   {
    "duration": 37,
    "start_time": "2022-01-16T17:49:44.379Z"
   },
   {
    "duration": 28,
    "start_time": "2022-01-16T17:49:44.388Z"
   },
   {
    "duration": 459,
    "start_time": "2022-01-16T17:49:57.264Z"
   },
   {
    "duration": 158,
    "start_time": "2022-01-16T17:51:10.469Z"
   },
   {
    "duration": 139,
    "start_time": "2022-01-16T17:51:36.351Z"
   },
   {
    "duration": 155,
    "start_time": "2022-01-16T17:51:46.517Z"
   },
   {
    "duration": 161,
    "start_time": "2022-01-16T17:51:49.896Z"
   },
   {
    "duration": 406,
    "start_time": "2022-01-16T17:52:37.101Z"
   },
   {
    "duration": 482,
    "start_time": "2022-01-16T17:52:47.376Z"
   },
   {
    "duration": 154,
    "start_time": "2022-01-16T17:53:10.264Z"
   },
   {
    "duration": -6,
    "start_time": "2022-01-16T17:58:19.637Z"
   },
   {
    "duration": -10,
    "start_time": "2022-01-16T17:58:19.642Z"
   },
   {
    "duration": -10,
    "start_time": "2022-01-16T17:58:19.643Z"
   },
   {
    "duration": -11,
    "start_time": "2022-01-16T17:58:19.645Z"
   },
   {
    "duration": -16,
    "start_time": "2022-01-16T17:58:19.651Z"
   },
   {
    "duration": -17,
    "start_time": "2022-01-16T17:58:19.653Z"
   },
   {
    "duration": -17,
    "start_time": "2022-01-16T17:58:19.654Z"
   },
   {
    "duration": -18,
    "start_time": "2022-01-16T17:58:19.656Z"
   },
   {
    "duration": 409,
    "start_time": "2022-01-16T17:58:37.952Z"
   },
   {
    "duration": 48,
    "start_time": "2022-01-16T17:58:38.363Z"
   },
   {
    "duration": 56,
    "start_time": "2022-01-16T17:58:38.413Z"
   },
   {
    "duration": 196,
    "start_time": "2022-01-16T17:58:38.471Z"
   },
   {
    "duration": 72,
    "start_time": "2022-01-16T17:58:38.669Z"
   },
   {
    "duration": 186,
    "start_time": "2022-01-16T17:58:38.743Z"
   },
   {
    "duration": 6369,
    "start_time": "2022-01-16T17:58:38.931Z"
   },
   {
    "duration": -4,
    "start_time": "2022-01-16T17:58:45.306Z"
   },
   {
    "duration": 153,
    "start_time": "2022-01-16T18:00:45.590Z"
   },
   {
    "duration": 149,
    "start_time": "2022-01-16T18:00:56.624Z"
   },
   {
    "duration": 425,
    "start_time": "2022-01-16T18:01:04.063Z"
   },
   {
    "duration": 51,
    "start_time": "2022-01-16T18:01:04.490Z"
   },
   {
    "duration": 78,
    "start_time": "2022-01-16T18:01:04.543Z"
   },
   {
    "duration": 209,
    "start_time": "2022-01-16T18:01:04.623Z"
   },
   {
    "duration": 76,
    "start_time": "2022-01-16T18:01:04.834Z"
   },
   {
    "duration": 199,
    "start_time": "2022-01-16T18:01:04.912Z"
   },
   {
    "duration": 6514,
    "start_time": "2022-01-16T18:01:05.113Z"
   },
   {
    "duration": -10,
    "start_time": "2022-01-16T18:01:11.639Z"
   },
   {
    "duration": 9755,
    "start_time": "2022-01-16T18:08:21.300Z"
   },
   {
    "duration": 5482,
    "start_time": "2022-01-16T18:08:57.697Z"
   },
   {
    "duration": 188,
    "start_time": "2022-01-16T18:09:36.320Z"
   },
   {
    "duration": 112,
    "start_time": "2022-01-16T18:09:39.480Z"
   },
   {
    "duration": 109,
    "start_time": "2022-01-16T18:10:15.462Z"
   },
   {
    "duration": 397,
    "start_time": "2022-01-16T18:11:18.666Z"
   },
   {
    "duration": 48,
    "start_time": "2022-01-16T18:11:19.065Z"
   },
   {
    "duration": 84,
    "start_time": "2022-01-16T18:11:19.115Z"
   },
   {
    "duration": 179,
    "start_time": "2022-01-16T18:11:19.201Z"
   },
   {
    "duration": 117,
    "start_time": "2022-01-16T18:11:19.382Z"
   },
   {
    "duration": 160,
    "start_time": "2022-01-16T18:11:19.501Z"
   },
   {
    "duration": 6442,
    "start_time": "2022-01-16T18:11:19.663Z"
   },
   {
    "duration": 23,
    "start_time": "2022-01-16T18:11:26.084Z"
   },
   {
    "duration": 109,
    "start_time": "2022-01-16T18:13:36.832Z"
   },
   {
    "duration": 108,
    "start_time": "2022-01-16T18:14:50.589Z"
   },
   {
    "duration": 117,
    "start_time": "2022-01-16T18:16:02.229Z"
   },
   {
    "duration": 7428,
    "start_time": "2022-01-16T18:16:06.003Z"
   },
   {
    "duration": 108,
    "start_time": "2022-01-16T18:24:33.860Z"
   },
   {
    "duration": 117,
    "start_time": "2022-01-16T18:24:47.533Z"
   },
   {
    "duration": 383,
    "start_time": "2022-01-16T18:27:08.534Z"
   },
   {
    "duration": 345,
    "start_time": "2022-01-16T18:27:19.250Z"
   },
   {
    "duration": 110,
    "start_time": "2022-01-16T18:27:27.694Z"
   },
   {
    "duration": 141,
    "start_time": "2022-01-16T18:27:45.941Z"
   },
   {
    "duration": 116,
    "start_time": "2022-01-16T18:28:33.340Z"
   },
   {
    "duration": 404,
    "start_time": "2022-01-16T18:30:08.681Z"
   },
   {
    "duration": 61,
    "start_time": "2022-01-16T18:30:09.088Z"
   },
   {
    "duration": 64,
    "start_time": "2022-01-16T18:30:09.151Z"
   },
   {
    "duration": 186,
    "start_time": "2022-01-16T18:30:09.217Z"
   },
   {
    "duration": 120,
    "start_time": "2022-01-16T18:30:09.405Z"
   },
   {
    "duration": 121,
    "start_time": "2022-01-16T18:30:09.527Z"
   },
   {
    "duration": 3,
    "start_time": "2022-01-16T18:30:09.649Z"
   },
   {
    "duration": 108,
    "start_time": "2022-01-16T18:34:41.624Z"
   },
   {
    "duration": 116,
    "start_time": "2022-01-16T18:34:45.003Z"
   },
   {
    "duration": 2,
    "start_time": "2022-01-16T18:35:27.477Z"
   },
   {
    "duration": 1021,
    "start_time": "2022-01-17T12:34:22.363Z"
   },
   {
    "duration": 44,
    "start_time": "2022-01-17T12:34:23.386Z"
   },
   {
    "duration": 75,
    "start_time": "2022-01-17T12:34:23.432Z"
   },
   {
    "duration": 186,
    "start_time": "2022-01-17T12:34:23.509Z"
   },
   {
    "duration": 118,
    "start_time": "2022-01-17T12:34:23.696Z"
   },
   {
    "duration": 116,
    "start_time": "2022-01-17T12:34:23.815Z"
   },
   {
    "duration": 1286,
    "start_time": "2022-01-17T13:08:46.272Z"
   },
   {
    "duration": 53,
    "start_time": "2022-01-17T13:08:47.560Z"
   },
   {
    "duration": 100,
    "start_time": "2022-01-17T13:08:47.616Z"
   },
   {
    "duration": 187,
    "start_time": "2022-01-17T13:08:47.718Z"
   },
   {
    "duration": 127,
    "start_time": "2022-01-17T13:08:47.907Z"
   },
   {
    "duration": 124,
    "start_time": "2022-01-17T13:08:48.036Z"
   },
   {
    "duration": 406,
    "start_time": "2022-01-17T13:08:48.162Z"
   },
   {
    "duration": 27,
    "start_time": "2022-01-17T13:09:36.004Z"
   },
   {
    "duration": 50,
    "start_time": "2022-01-17T13:11:23.653Z"
   },
   {
    "duration": 38,
    "start_time": "2022-01-17T13:12:38.558Z"
   },
   {
    "duration": 403,
    "start_time": "2022-01-17T13:17:16.182Z"
   },
   {
    "duration": 26,
    "start_time": "2022-01-17T13:17:22.301Z"
   },
   {
    "duration": 29,
    "start_time": "2022-01-17T13:18:41.316Z"
   },
   {
    "duration": 25,
    "start_time": "2022-01-17T13:18:45.555Z"
   },
   {
    "duration": 5,
    "start_time": "2022-01-17T13:23:52.040Z"
   },
   {
    "duration": 27,
    "start_time": "2022-01-17T13:23:57.871Z"
   },
   {
    "duration": 27,
    "start_time": "2022-01-17T13:25:15.190Z"
   },
   {
    "duration": 25,
    "start_time": "2022-01-17T13:25:35.121Z"
   },
   {
    "duration": 28,
    "start_time": "2022-01-17T13:25:44.025Z"
   },
   {
    "duration": 416,
    "start_time": "2022-01-17T13:25:48.692Z"
   },
   {
    "duration": 46,
    "start_time": "2022-01-17T13:25:49.109Z"
   },
   {
    "duration": 62,
    "start_time": "2022-01-17T13:25:49.157Z"
   },
   {
    "duration": 188,
    "start_time": "2022-01-17T13:25:49.221Z"
   },
   {
    "duration": 125,
    "start_time": "2022-01-17T13:25:49.411Z"
   },
   {
    "duration": 117,
    "start_time": "2022-01-17T13:25:49.538Z"
   },
   {
    "duration": 30,
    "start_time": "2022-01-17T13:25:49.657Z"
   },
   {
    "duration": 413,
    "start_time": "2022-01-17T13:26:00.720Z"
   },
   {
    "duration": 48,
    "start_time": "2022-01-17T13:26:01.135Z"
   },
   {
    "duration": 87,
    "start_time": "2022-01-17T13:26:01.186Z"
   },
   {
    "duration": 176,
    "start_time": "2022-01-17T13:26:01.275Z"
   },
   {
    "duration": 133,
    "start_time": "2022-01-17T13:26:01.453Z"
   },
   {
    "duration": 122,
    "start_time": "2022-01-17T13:26:01.589Z"
   },
   {
    "duration": 28,
    "start_time": "2022-01-17T13:26:01.712Z"
   },
   {
    "duration": 26,
    "start_time": "2022-01-17T13:26:26.241Z"
   },
   {
    "duration": 33,
    "start_time": "2022-01-17T13:26:49.590Z"
   },
   {
    "duration": 18,
    "start_time": "2022-01-17T13:27:14.321Z"
   },
   {
    "duration": 33,
    "start_time": "2022-01-17T13:27:22.920Z"
   },
   {
    "duration": 36,
    "start_time": "2022-01-17T13:27:35.642Z"
   },
   {
    "duration": 23,
    "start_time": "2022-01-17T13:29:05.639Z"
   },
   {
    "duration": 24,
    "start_time": "2022-01-17T13:29:09.914Z"
   },
   {
    "duration": 2,
    "start_time": "2022-01-17T13:29:48.866Z"
   },
   {
    "duration": 44,
    "start_time": "2022-01-17T13:48:37.087Z"
   },
   {
    "duration": 314,
    "start_time": "2022-01-17T13:51:51.475Z"
   },
   {
    "duration": 312,
    "start_time": "2022-01-17T13:52:13.030Z"
   },
   {
    "duration": 327,
    "start_time": "2022-01-17T14:07:30.719Z"
   },
   {
    "duration": 399,
    "start_time": "2022-01-17T14:07:42.760Z"
   },
   {
    "duration": 54,
    "start_time": "2022-01-17T14:07:43.160Z"
   },
   {
    "duration": 76,
    "start_time": "2022-01-17T14:07:43.216Z"
   },
   {
    "duration": 187,
    "start_time": "2022-01-17T14:07:43.294Z"
   },
   {
    "duration": 121,
    "start_time": "2022-01-17T14:07:43.483Z"
   },
   {
    "duration": 117,
    "start_time": "2022-01-17T14:07:43.606Z"
   },
   {
    "duration": 2,
    "start_time": "2022-01-17T14:07:43.724Z"
   },
   {
    "duration": 324,
    "start_time": "2022-01-17T14:07:43.727Z"
   },
   {
    "duration": 10,
    "start_time": "2022-01-17T14:07:59.791Z"
   },
   {
    "duration": 13,
    "start_time": "2022-01-17T14:08:09.199Z"
   },
   {
    "duration": 10,
    "start_time": "2022-01-17T14:09:41.991Z"
   },
   {
    "duration": 424,
    "start_time": "2022-01-17T14:11:00.111Z"
   },
   {
    "duration": 12,
    "start_time": "2022-01-17T14:11:19.361Z"
   },
   {
    "duration": 11,
    "start_time": "2022-01-17T14:11:54.439Z"
   },
   {
    "duration": 13,
    "start_time": "2022-01-17T14:12:12.273Z"
   },
   {
    "duration": 12,
    "start_time": "2022-01-17T14:12:45.432Z"
   },
   {
    "duration": 15,
    "start_time": "2022-01-17T14:13:07.833Z"
   },
   {
    "duration": 417,
    "start_time": "2022-01-17T14:13:32.051Z"
   },
   {
    "duration": 314,
    "start_time": "2022-01-17T14:14:35.004Z"
   },
   {
    "duration": 12,
    "start_time": "2022-01-17T14:14:44.831Z"
   },
   {
    "duration": 17,
    "start_time": "2022-01-17T14:15:28.492Z"
   },
   {
    "duration": 14,
    "start_time": "2022-01-17T14:15:30.351Z"
   },
   {
    "duration": 325,
    "start_time": "2022-01-17T14:17:30.460Z"
   },
   {
    "duration": 329,
    "start_time": "2022-01-17T14:17:51.091Z"
   },
   {
    "duration": 372,
    "start_time": "2022-01-17T14:19:15.091Z"
   },
   {
    "duration": 327,
    "start_time": "2022-01-17T14:23:09.972Z"
   },
   {
    "duration": 322,
    "start_time": "2022-01-17T14:24:16.813Z"
   },
   {
    "duration": 13,
    "start_time": "2022-01-17T14:24:33.479Z"
   },
   {
    "duration": 14,
    "start_time": "2022-01-17T14:24:38.972Z"
   },
   {
    "duration": 12,
    "start_time": "2022-01-17T14:25:12.730Z"
   },
   {
    "duration": 321,
    "start_time": "2022-01-17T14:33:43.653Z"
   },
   {
    "duration": 300,
    "start_time": "2022-01-17T14:33:52.273Z"
   },
   {
    "duration": 331,
    "start_time": "2022-01-17T14:34:01.779Z"
   },
   {
    "duration": 304,
    "start_time": "2022-01-17T14:34:38.621Z"
   },
   {
    "duration": 8042,
    "start_time": "2022-01-17T14:34:51.039Z"
   },
   {
    "duration": 9829,
    "start_time": "2022-01-17T14:36:34.185Z"
   },
   {
    "duration": 8983,
    "start_time": "2022-01-17T14:37:11.258Z"
   },
   {
    "duration": 8767,
    "start_time": "2022-01-17T14:38:26.111Z"
   },
   {
    "duration": 1806,
    "start_time": "2022-01-17T14:38:56.260Z"
   },
   {
    "duration": 393,
    "start_time": "2022-01-17T14:39:37.762Z"
   },
   {
    "duration": 45,
    "start_time": "2022-01-17T14:39:38.156Z"
   },
   {
    "duration": 77,
    "start_time": "2022-01-17T14:39:38.203Z"
   },
   {
    "duration": 173,
    "start_time": "2022-01-17T14:39:38.282Z"
   },
   {
    "duration": 120,
    "start_time": "2022-01-17T14:39:38.456Z"
   },
   {
    "duration": 115,
    "start_time": "2022-01-17T14:39:38.578Z"
   },
   {
    "duration": 2,
    "start_time": "2022-01-17T14:39:38.695Z"
   },
   {
    "duration": 1956,
    "start_time": "2022-01-17T14:39:38.699Z"
   },
   {
    "duration": 15,
    "start_time": "2022-01-17T14:39:40.657Z"
   },
   {
    "duration": 329,
    "start_time": "2022-01-17T14:39:40.674Z"
   },
   {
    "duration": 99,
    "start_time": "2022-01-17T14:41:05.618Z"
   },
   {
    "duration": 1858,
    "start_time": "2022-01-17T14:41:09.020Z"
   },
   {
    "duration": 1823,
    "start_time": "2022-01-17T14:46:30.219Z"
   },
   {
    "duration": 384,
    "start_time": "2022-01-17T14:46:56.853Z"
   },
   {
    "duration": 43,
    "start_time": "2022-01-17T14:46:57.239Z"
   },
   {
    "duration": 52,
    "start_time": "2022-01-17T14:46:57.284Z"
   },
   {
    "duration": 180,
    "start_time": "2022-01-17T14:46:57.338Z"
   },
   {
    "duration": 113,
    "start_time": "2022-01-17T14:46:57.520Z"
   },
   {
    "duration": 110,
    "start_time": "2022-01-17T14:46:57.635Z"
   },
   {
    "duration": 2,
    "start_time": "2022-01-17T14:46:57.747Z"
   },
   {
    "duration": 1948,
    "start_time": "2022-01-17T14:46:57.750Z"
   },
   {
    "duration": 9,
    "start_time": "2022-01-17T14:46:59.700Z"
   },
   {
    "duration": 318,
    "start_time": "2022-01-17T14:46:59.711Z"
   },
   {
    "duration": 2012,
    "start_time": "2022-01-17T14:51:33.942Z"
   },
   {
    "duration": 11,
    "start_time": "2022-01-17T14:52:30.054Z"
   },
   {
    "duration": 2366,
    "start_time": "2022-01-17T18:09:02.619Z"
   },
   {
    "duration": 88,
    "start_time": "2022-01-17T18:09:04.988Z"
   },
   {
    "duration": 108,
    "start_time": "2022-01-17T18:09:05.079Z"
   },
   {
    "duration": 289,
    "start_time": "2022-01-17T18:09:05.190Z"
   },
   {
    "duration": 188,
    "start_time": "2022-01-17T18:09:05.482Z"
   },
   {
    "duration": 203,
    "start_time": "2022-01-17T18:09:05.673Z"
   },
   {
    "duration": 2,
    "start_time": "2022-01-17T18:09:05.879Z"
   },
   {
    "duration": 3770,
    "start_time": "2022-01-17T18:09:05.883Z"
   },
   {
    "duration": 17,
    "start_time": "2022-01-17T18:09:09.660Z"
   },
   {
    "duration": 509,
    "start_time": "2022-01-17T18:09:09.679Z"
   },
   {
    "duration": 588,
    "start_time": "2022-01-17T18:17:36.103Z"
   },
   {
    "duration": 82,
    "start_time": "2022-01-17T18:17:36.693Z"
   },
   {
    "duration": 103,
    "start_time": "2022-01-17T18:17:36.778Z"
   },
   {
    "duration": 261,
    "start_time": "2022-01-17T18:17:36.884Z"
   },
   {
    "duration": 182,
    "start_time": "2022-01-17T18:17:37.148Z"
   },
   {
    "duration": 212,
    "start_time": "2022-01-17T18:17:37.333Z"
   },
   {
    "duration": 4,
    "start_time": "2022-01-17T18:17:37.547Z"
   },
   {
    "duration": 3806,
    "start_time": "2022-01-17T18:17:37.561Z"
   },
   {
    "duration": 18,
    "start_time": "2022-01-17T18:17:41.370Z"
   },
   {
    "duration": 371,
    "start_time": "2022-01-17T18:17:41.390Z"
   },
   {
    "duration": 168,
    "start_time": "2022-01-17T18:19:26.283Z"
   },
   {
    "duration": 174,
    "start_time": "2022-01-17T18:19:46.713Z"
   },
   {
    "duration": 170,
    "start_time": "2022-01-17T18:23:34.908Z"
   },
   {
    "duration": 193,
    "start_time": "2022-01-17T18:23:44.120Z"
   },
   {
    "duration": 3954,
    "start_time": "2022-01-17T18:28:08.788Z"
   },
   {
    "duration": 3932,
    "start_time": "2022-01-17T18:33:56.394Z"
   },
   {
    "duration": 3926,
    "start_time": "2022-01-17T18:35:24.205Z"
   },
   {
    "duration": 4146,
    "start_time": "2022-01-17T18:35:53.319Z"
   },
   {
    "duration": 4117,
    "start_time": "2022-01-17T18:36:10.572Z"
   },
   {
    "duration": 4005,
    "start_time": "2022-01-17T18:36:21.418Z"
   },
   {
    "duration": 3819,
    "start_time": "2022-01-17T18:36:50.021Z"
   },
   {
    "duration": 4137,
    "start_time": "2022-01-17T18:37:02.942Z"
   },
   {
    "duration": 4302,
    "start_time": "2022-01-17T18:37:19.011Z"
   },
   {
    "duration": 41,
    "start_time": "2022-01-17T18:43:36.360Z"
   },
   {
    "duration": 43,
    "start_time": "2022-01-17T18:43:54.375Z"
   },
   {
    "duration": 383,
    "start_time": "2022-01-17T18:44:29.535Z"
   },
   {
    "duration": 38,
    "start_time": "2022-01-17T18:44:34.312Z"
   },
   {
    "duration": 52,
    "start_time": "2022-01-17T18:44:48.441Z"
   },
   {
    "duration": 39,
    "start_time": "2022-01-17T18:46:55.509Z"
   },
   {
    "duration": 392,
    "start_time": "2022-01-17T18:48:28.255Z"
   },
   {
    "duration": 582,
    "start_time": "2022-01-17T18:49:30.540Z"
   },
   {
    "duration": 544,
    "start_time": "2022-01-17T18:49:34.809Z"
   },
   {
    "duration": 73,
    "start_time": "2022-01-17T18:49:35.356Z"
   },
   {
    "duration": 126,
    "start_time": "2022-01-17T18:49:35.433Z"
   },
   {
    "duration": 254,
    "start_time": "2022-01-17T18:49:35.562Z"
   },
   {
    "duration": 189,
    "start_time": "2022-01-17T18:49:35.819Z"
   },
   {
    "duration": 207,
    "start_time": "2022-01-17T18:49:36.011Z"
   },
   {
    "duration": 5,
    "start_time": "2022-01-17T18:49:36.220Z"
   },
   {
    "duration": 4080,
    "start_time": "2022-01-17T18:49:36.227Z"
   },
   {
    "duration": 17,
    "start_time": "2022-01-17T18:49:40.311Z"
   },
   {
    "duration": 287,
    "start_time": "2022-01-17T18:49:40.331Z"
   },
   {
    "duration": 316,
    "start_time": "2022-01-17T18:50:33.317Z"
   },
   {
    "duration": 537,
    "start_time": "2022-01-17T18:51:51.879Z"
   },
   {
    "duration": 655,
    "start_time": "2022-01-17T18:53:10.607Z"
   },
   {
    "duration": 518,
    "start_time": "2022-01-17T18:53:33.883Z"
   },
   {
    "duration": 679,
    "start_time": "2022-01-17T18:53:45.556Z"
   },
   {
    "duration": 594,
    "start_time": "2022-01-17T18:54:01.099Z"
   },
   {
    "duration": 205,
    "start_time": "2022-01-17T18:57:55.168Z"
   },
   {
    "duration": 609,
    "start_time": "2022-01-17T18:57:58.426Z"
   },
   {
    "duration": 329,
    "start_time": "2022-01-17T18:58:46.168Z"
   },
   {
    "duration": 308,
    "start_time": "2022-01-17T18:59:37.717Z"
   },
   {
    "duration": 228,
    "start_time": "2022-01-17T19:00:00.295Z"
   },
   {
    "duration": 443,
    "start_time": "2022-01-17T19:00:24.520Z"
   },
   {
    "duration": 411,
    "start_time": "2022-01-17T19:00:42.758Z"
   },
   {
    "duration": 395,
    "start_time": "2022-01-17T19:00:54.478Z"
   },
   {
    "duration": 367,
    "start_time": "2022-01-17T19:02:54.719Z"
   },
   {
    "duration": 378,
    "start_time": "2022-01-17T19:03:02.043Z"
   },
   {
    "duration": 404,
    "start_time": "2022-01-17T19:03:49.020Z"
   },
   {
    "duration": 1418,
    "start_time": "2022-01-17T19:04:04.878Z"
   },
   {
    "duration": 608,
    "start_time": "2022-01-17T19:05:22.156Z"
   },
   {
    "duration": 624,
    "start_time": "2022-01-17T19:05:53.838Z"
   },
   {
    "duration": 241,
    "start_time": "2022-01-17T19:06:01.396Z"
   },
   {
    "duration": 1016,
    "start_time": "2022-01-18T10:58:15.137Z"
   },
   {
    "duration": 46,
    "start_time": "2022-01-18T10:58:16.155Z"
   },
   {
    "duration": 52,
    "start_time": "2022-01-18T10:58:16.213Z"
   },
   {
    "duration": 192,
    "start_time": "2022-01-18T10:58:16.267Z"
   },
   {
    "duration": 145,
    "start_time": "2022-01-18T10:58:16.460Z"
   },
   {
    "duration": 138,
    "start_time": "2022-01-18T10:58:16.606Z"
   },
   {
    "duration": 2,
    "start_time": "2022-01-18T10:58:16.746Z"
   },
   {
    "duration": 2074,
    "start_time": "2022-01-18T10:58:16.750Z"
   },
   {
    "duration": 161,
    "start_time": "2022-01-18T10:58:18.826Z"
   },
   {
    "duration": 75,
    "start_time": "2022-01-18T10:58:18.989Z"
   },
   {
    "duration": 388,
    "start_time": "2022-01-18T11:27:51.298Z"
   },
   {
    "duration": 853,
    "start_time": "2022-01-18T11:28:07.452Z"
   },
   {
    "duration": 368,
    "start_time": "2022-01-18T11:28:10.038Z"
   },
   {
    "duration": 56,
    "start_time": "2022-01-18T11:28:10.408Z"
   },
   {
    "duration": 72,
    "start_time": "2022-01-18T11:28:10.466Z"
   },
   {
    "duration": 169,
    "start_time": "2022-01-18T11:28:10.539Z"
   },
   {
    "duration": 114,
    "start_time": "2022-01-18T11:28:10.709Z"
   },
   {
    "duration": 112,
    "start_time": "2022-01-18T11:28:10.824Z"
   },
   {
    "duration": 2,
    "start_time": "2022-01-18T11:28:10.937Z"
   },
   {
    "duration": 1847,
    "start_time": "2022-01-18T11:28:10.941Z"
   },
   {
    "duration": 362,
    "start_time": "2022-01-18T11:28:12.790Z"
   },
   {
    "duration": 75,
    "start_time": "2022-01-18T11:28:13.078Z"
   },
   {
    "duration": 360,
    "start_time": "2022-01-18T11:28:23.477Z"
   },
   {
    "duration": 139,
    "start_time": "2022-01-18T11:38:12.500Z"
   },
   {
    "duration": 337,
    "start_time": "2022-01-18T11:42:10.788Z"
   },
   {
    "duration": 398,
    "start_time": "2022-01-18T11:42:20.339Z"
   },
   {
    "duration": 315,
    "start_time": "2022-01-18T11:42:56.862Z"
   },
   {
    "duration": 337,
    "start_time": "2022-01-18T11:46:50.839Z"
   },
   {
    "duration": 73,
    "start_time": "2022-01-18T11:47:03.199Z"
   },
   {
    "duration": 81,
    "start_time": "2022-01-18T11:48:23.860Z"
   },
   {
    "duration": 75,
    "start_time": "2022-01-18T11:48:44.288Z"
   },
   {
    "duration": 215,
    "start_time": "2022-01-18T11:49:19.860Z"
   },
   {
    "duration": 217,
    "start_time": "2022-01-18T11:49:27.668Z"
   },
   {
    "duration": 245,
    "start_time": "2022-01-18T11:57:02.921Z"
   },
   {
    "duration": 280,
    "start_time": "2022-01-18T11:58:24.620Z"
   },
   {
    "duration": 277,
    "start_time": "2022-01-18T12:01:07.639Z"
   },
   {
    "duration": 517,
    "start_time": "2022-01-18T12:02:23.343Z"
   },
   {
    "duration": 215,
    "start_time": "2022-01-18T12:02:46.060Z"
   },
   {
    "duration": 590,
    "start_time": "2022-01-18T12:02:52.799Z"
   },
   {
    "duration": 199,
    "start_time": "2022-01-18T12:06:47.119Z"
   },
   {
    "duration": 366,
    "start_time": "2022-01-18T12:08:06.767Z"
   },
   {
    "duration": 363,
    "start_time": "2022-01-18T12:11:35.939Z"
   },
   {
    "duration": 106,
    "start_time": "2022-01-18T12:12:43.848Z"
   },
   {
    "duration": 122,
    "start_time": "2022-01-18T12:13:34.491Z"
   },
   {
    "duration": 128,
    "start_time": "2022-01-18T12:14:09.221Z"
   },
   {
    "duration": 254,
    "start_time": "2022-01-18T12:14:19.000Z"
   },
   {
    "duration": 283,
    "start_time": "2022-01-18T12:18:47.275Z"
   },
   {
    "duration": 327,
    "start_time": "2022-01-18T12:18:55.887Z"
   },
   {
    "duration": 68,
    "start_time": "2022-01-18T12:25:00.028Z"
   },
   {
    "duration": 70,
    "start_time": "2022-01-18T12:26:30.951Z"
   },
   {
    "duration": 259,
    "start_time": "2022-01-18T12:26:47.479Z"
   },
   {
    "duration": 359,
    "start_time": "2022-01-18T12:27:50.318Z"
   },
   {
    "duration": 340,
    "start_time": "2022-01-18T12:28:18.981Z"
   },
   {
    "duration": 325,
    "start_time": "2022-01-18T12:28:34.268Z"
   },
   {
    "duration": 252,
    "start_time": "2022-01-18T12:29:24.820Z"
   },
   {
    "duration": 16,
    "start_time": "2022-01-18T12:29:39.741Z"
   },
   {
    "duration": 17,
    "start_time": "2022-01-18T12:29:47.659Z"
   },
   {
    "duration": 229,
    "start_time": "2022-01-18T12:31:05.638Z"
   },
   {
    "duration": 23,
    "start_time": "2022-01-18T12:31:09.828Z"
   },
   {
    "duration": 259,
    "start_time": "2022-01-18T12:34:54.041Z"
   },
   {
    "duration": 350,
    "start_time": "2022-01-18T12:36:41.081Z"
   },
   {
    "duration": 360,
    "start_time": "2022-01-18T12:36:55.648Z"
   },
   {
    "duration": 244,
    "start_time": "2022-01-18T13:55:06.475Z"
   },
   {
    "duration": 86,
    "start_time": "2022-01-18T13:55:12.358Z"
   },
   {
    "duration": 206,
    "start_time": "2022-01-18T13:55:22.186Z"
   },
   {
    "duration": 82,
    "start_time": "2022-01-18T13:55:58.452Z"
   },
   {
    "duration": 25,
    "start_time": "2022-01-18T13:56:05.003Z"
   },
   {
    "duration": 139,
    "start_time": "2022-01-18T13:58:51.440Z"
   },
   {
    "duration": 138,
    "start_time": "2022-01-18T14:02:41.689Z"
   },
   {
    "duration": 140,
    "start_time": "2022-01-18T14:03:00.050Z"
   },
   {
    "duration": 233,
    "start_time": "2022-01-18T14:03:54.989Z"
   },
   {
    "duration": 136,
    "start_time": "2022-01-18T14:04:22.617Z"
   },
   {
    "duration": 138,
    "start_time": "2022-01-18T14:04:26.529Z"
   },
   {
    "duration": 164,
    "start_time": "2022-01-18T14:05:07.277Z"
   },
   {
    "duration": 386,
    "start_time": "2022-01-18T14:05:35.367Z"
   },
   {
    "duration": 419,
    "start_time": "2022-01-18T14:05:52.789Z"
   },
   {
    "duration": 606,
    "start_time": "2022-01-18T14:06:11.174Z"
   },
   {
    "duration": 505,
    "start_time": "2022-01-18T14:06:23.569Z"
   },
   {
    "duration": 394,
    "start_time": "2022-01-18T14:06:48.278Z"
   },
   {
    "duration": 401,
    "start_time": "2022-01-18T14:07:07.150Z"
   },
   {
    "duration": 386,
    "start_time": "2022-01-18T14:08:21.221Z"
   },
   {
    "duration": 380,
    "start_time": "2022-01-18T14:11:16.400Z"
   },
   {
    "duration": 430,
    "start_time": "2022-01-18T14:11:30.971Z"
   },
   {
    "duration": 572,
    "start_time": "2022-01-18T14:11:54.997Z"
   },
   {
    "duration": 403,
    "start_time": "2022-01-18T14:12:29.998Z"
   },
   {
    "duration": 387,
    "start_time": "2022-01-18T14:13:12.437Z"
   },
   {
    "duration": 387,
    "start_time": "2022-01-18T14:13:18.510Z"
   },
   {
    "duration": 387,
    "start_time": "2022-01-18T14:13:49.881Z"
   },
   {
    "duration": 458,
    "start_time": "2022-01-18T14:14:44.017Z"
   },
   {
    "duration": 371,
    "start_time": "2022-01-18T16:39:09.068Z"
   },
   {
    "duration": 189,
    "start_time": "2022-01-18T16:43:15.843Z"
   },
   {
    "duration": 775,
    "start_time": "2022-01-18T16:43:30.314Z"
   },
   {
    "duration": 813,
    "start_time": "2022-01-18T16:44:05.678Z"
   },
   {
    "duration": 349,
    "start_time": "2022-01-18T16:45:32.835Z"
   },
   {
    "duration": 41,
    "start_time": "2022-01-18T16:45:33.186Z"
   },
   {
    "duration": 50,
    "start_time": "2022-01-18T16:45:33.229Z"
   },
   {
    "duration": 173,
    "start_time": "2022-01-18T16:45:33.280Z"
   },
   {
    "duration": 114,
    "start_time": "2022-01-18T16:45:33.454Z"
   },
   {
    "duration": 107,
    "start_time": "2022-01-18T16:45:33.570Z"
   },
   {
    "duration": 2,
    "start_time": "2022-01-18T16:45:33.678Z"
   },
   {
    "duration": 1812,
    "start_time": "2022-01-18T16:45:33.682Z"
   },
   {
    "duration": 380,
    "start_time": "2022-01-18T16:45:35.496Z"
   },
   {
    "duration": 389,
    "start_time": "2022-01-18T16:45:35.878Z"
   },
   {
    "duration": 401,
    "start_time": "2022-01-18T16:45:36.269Z"
   },
   {
    "duration": 387,
    "start_time": "2022-01-18T16:45:36.672Z"
   },
   {
    "duration": 360,
    "start_time": "2022-01-18T16:45:50.844Z"
   },
   {
    "duration": 256,
    "start_time": "2022-01-18T16:50:43.580Z"
   },
   {
    "duration": 207,
    "start_time": "2022-01-18T16:50:50.150Z"
   },
   {
    "duration": 200,
    "start_time": "2022-01-18T16:51:01.484Z"
   },
   {
    "duration": 5,
    "start_time": "2022-01-18T16:52:28.598Z"
   },
   {
    "duration": 4,
    "start_time": "2022-01-18T16:52:57.900Z"
   },
   {
    "duration": 5284,
    "start_time": "2022-01-18T16:56:51.293Z"
   },
   {
    "duration": 4929,
    "start_time": "2022-01-18T17:03:29.203Z"
   },
   {
    "duration": 4820,
    "start_time": "2022-01-18T17:04:21.531Z"
   },
   {
    "duration": 92,
    "start_time": "2022-01-18T17:11:15.353Z"
   },
   {
    "duration": 106,
    "start_time": "2022-01-18T17:11:32.619Z"
   },
   {
    "duration": 6,
    "start_time": "2022-01-18T17:11:46.813Z"
   },
   {
    "duration": 200,
    "start_time": "2022-01-18T17:12:56.899Z"
   },
   {
    "duration": 5,
    "start_time": "2022-01-18T17:13:08.932Z"
   },
   {
    "duration": 4,
    "start_time": "2022-01-18T17:13:23.880Z"
   },
   {
    "duration": 5,
    "start_time": "2022-01-18T17:13:39.508Z"
   },
   {
    "duration": 4850,
    "start_time": "2022-01-18T17:17:29.559Z"
   },
   {
    "duration": 20,
    "start_time": "2022-01-18T17:17:57.633Z"
   },
   {
    "duration": 11,
    "start_time": "2022-01-18T17:18:07.585Z"
   },
   {
    "duration": 362,
    "start_time": "2022-01-18T17:18:10.319Z"
   },
   {
    "duration": 42,
    "start_time": "2022-01-18T17:18:10.683Z"
   },
   {
    "duration": 50,
    "start_time": "2022-01-18T17:18:10.726Z"
   },
   {
    "duration": 178,
    "start_time": "2022-01-18T17:18:10.777Z"
   },
   {
    "duration": 113,
    "start_time": "2022-01-18T17:18:10.956Z"
   },
   {
    "duration": 110,
    "start_time": "2022-01-18T17:18:11.070Z"
   },
   {
    "duration": 2,
    "start_time": "2022-01-18T17:18:11.182Z"
   },
   {
    "duration": 1840,
    "start_time": "2022-01-18T17:18:11.185Z"
   },
   {
    "duration": 461,
    "start_time": "2022-01-18T17:18:13.027Z"
   },
   {
    "duration": 392,
    "start_time": "2022-01-18T17:18:13.490Z"
   },
   {
    "duration": 395,
    "start_time": "2022-01-18T17:18:13.884Z"
   },
   {
    "duration": 5058,
    "start_time": "2022-01-18T17:18:14.280Z"
   },
   {
    "duration": -3,
    "start_time": "2022-01-18T17:18:19.343Z"
   },
   {
    "duration": -4,
    "start_time": "2022-01-18T17:18:19.345Z"
   },
   {
    "duration": -5,
    "start_time": "2022-01-18T17:18:19.347Z"
   },
   {
    "duration": 4832,
    "start_time": "2022-01-18T17:20:50.313Z"
   },
   {
    "duration": 103,
    "start_time": "2022-01-18T17:21:34.923Z"
   },
   {
    "duration": 226,
    "start_time": "2022-01-18T17:21:53.359Z"
   },
   {
    "duration": 209,
    "start_time": "2022-01-18T17:22:36.633Z"
   },
   {
    "duration": 5094,
    "start_time": "2022-01-18T17:24:32.591Z"
   },
   {
    "duration": 5001,
    "start_time": "2022-01-18T17:29:00.503Z"
   },
   {
    "duration": 8,
    "start_time": "2022-01-18T17:30:33.310Z"
   },
   {
    "duration": 9,
    "start_time": "2022-01-18T17:30:52.181Z"
   },
   {
    "duration": 9,
    "start_time": "2022-01-18T17:31:14.133Z"
   },
   {
    "duration": 7,
    "start_time": "2022-01-18T17:32:09.051Z"
   },
   {
    "duration": 7,
    "start_time": "2022-01-18T17:32:19.670Z"
   },
   {
    "duration": 204,
    "start_time": "2022-01-18T17:32:23.410Z"
   },
   {
    "duration": 208,
    "start_time": "2022-01-18T17:32:32.103Z"
   },
   {
    "duration": 8,
    "start_time": "2022-01-18T17:33:57.803Z"
   },
   {
    "duration": 2443,
    "start_time": "2022-01-18T17:34:09.109Z"
   },
   {
    "duration": 2733,
    "start_time": "2022-01-18T17:34:20.201Z"
   },
   {
    "duration": 7,
    "start_time": "2022-01-18T17:34:34.079Z"
   },
   {
    "duration": 3207,
    "start_time": "2022-01-18T17:34:35.871Z"
   },
   {
    "duration": 203,
    "start_time": "2022-01-18T17:35:05.239Z"
   },
   {
    "duration": 301,
    "start_time": "2022-01-18T17:37:21.939Z"
   },
   {
    "duration": 355,
    "start_time": "2022-01-18T17:37:34.304Z"
   },
   {
    "duration": 45,
    "start_time": "2022-01-18T17:37:34.661Z"
   },
   {
    "duration": 50,
    "start_time": "2022-01-18T17:37:34.711Z"
   },
   {
    "duration": 170,
    "start_time": "2022-01-18T17:37:34.762Z"
   },
   {
    "duration": 112,
    "start_time": "2022-01-18T17:37:34.934Z"
   },
   {
    "duration": 127,
    "start_time": "2022-01-18T17:37:35.047Z"
   },
   {
    "duration": 2,
    "start_time": "2022-01-18T17:37:35.176Z"
   },
   {
    "duration": 1839,
    "start_time": "2022-01-18T17:37:35.180Z"
   },
   {
    "duration": 382,
    "start_time": "2022-01-18T17:37:37.022Z"
   },
   {
    "duration": 407,
    "start_time": "2022-01-18T17:37:37.406Z"
   },
   {
    "duration": 401,
    "start_time": "2022-01-18T17:37:37.815Z"
   },
   {
    "duration": 4888,
    "start_time": "2022-01-18T17:37:38.218Z"
   },
   {
    "duration": -258,
    "start_time": "2022-01-18T17:37:43.365Z"
   },
   {
    "duration": 310,
    "start_time": "2022-01-18T17:40:03.719Z"
   },
   {
    "duration": 8,
    "start_time": "2022-01-18T17:50:08.710Z"
   },
   {
    "duration": 8,
    "start_time": "2022-01-18T17:50:09.532Z"
   },
   {
    "duration": 247,
    "start_time": "2022-01-18T17:50:39.731Z"
   },
   {
    "duration": 197,
    "start_time": "2022-01-18T17:51:23.971Z"
   },
   {
    "duration": 200,
    "start_time": "2022-01-18T17:51:55.270Z"
   },
   {
    "duration": 383,
    "start_time": "2022-01-18T17:54:32.871Z"
   },
   {
    "duration": 44,
    "start_time": "2022-01-18T17:54:33.256Z"
   },
   {
    "duration": 59,
    "start_time": "2022-01-18T17:54:33.302Z"
   },
   {
    "duration": 185,
    "start_time": "2022-01-18T17:54:33.363Z"
   },
   {
    "duration": 112,
    "start_time": "2022-01-18T17:54:33.550Z"
   },
   {
    "duration": 120,
    "start_time": "2022-01-18T17:54:33.663Z"
   },
   {
    "duration": 2,
    "start_time": "2022-01-18T17:54:33.785Z"
   },
   {
    "duration": 1892,
    "start_time": "2022-01-18T17:54:33.789Z"
   },
   {
    "duration": 404,
    "start_time": "2022-01-18T17:54:35.683Z"
   },
   {
    "duration": 424,
    "start_time": "2022-01-18T17:54:36.089Z"
   },
   {
    "duration": 422,
    "start_time": "2022-01-18T17:54:36.515Z"
   },
   {
    "duration": 9,
    "start_time": "2022-01-18T17:54:36.939Z"
   },
   {
    "duration": 216,
    "start_time": "2022-01-18T17:54:36.950Z"
   },
   {
    "duration": 98,
    "start_time": "2022-01-18T17:54:37.069Z"
   },
   {
    "duration": 97,
    "start_time": "2022-01-18T17:54:37.071Z"
   },
   {
    "duration": 189,
    "start_time": "2022-01-18T17:57:20.193Z"
   },
   {
    "duration": 190,
    "start_time": "2022-01-18T17:57:44.610Z"
   },
   {
    "duration": 379,
    "start_time": "2022-01-18T17:58:20.193Z"
   },
   {
    "duration": 44,
    "start_time": "2022-01-18T17:58:20.574Z"
   },
   {
    "duration": 51,
    "start_time": "2022-01-18T17:58:20.620Z"
   },
   {
    "duration": 180,
    "start_time": "2022-01-18T17:58:20.673Z"
   },
   {
    "duration": 119,
    "start_time": "2022-01-18T17:58:20.854Z"
   },
   {
    "duration": 111,
    "start_time": "2022-01-18T17:58:20.975Z"
   },
   {
    "duration": 2,
    "start_time": "2022-01-18T17:58:21.087Z"
   },
   {
    "duration": 1817,
    "start_time": "2022-01-18T17:58:21.090Z"
   },
   {
    "duration": 390,
    "start_time": "2022-01-18T17:58:22.909Z"
   },
   {
    "duration": 498,
    "start_time": "2022-01-18T17:58:23.301Z"
   },
   {
    "duration": 400,
    "start_time": "2022-01-18T17:58:23.801Z"
   },
   {
    "duration": 2,
    "start_time": "2022-01-18T17:58:24.203Z"
   },
   {
    "duration": 195,
    "start_time": "2022-01-18T17:58:24.211Z"
   },
   {
    "duration": 32,
    "start_time": "2022-01-18T17:58:24.376Z"
   },
   {
    "duration": 31,
    "start_time": "2022-01-18T17:58:24.378Z"
   },
   {
    "duration": 215,
    "start_time": "2022-01-18T17:58:27.852Z"
   },
   {
    "duration": 194,
    "start_time": "2022-01-18T17:58:42.710Z"
   },
   {
    "duration": -219,
    "start_time": "2022-01-18T17:59:14.655Z"
   },
   {
    "duration": 362,
    "start_time": "2022-01-18T17:59:34.570Z"
   },
   {
    "duration": 42,
    "start_time": "2022-01-18T17:59:34.933Z"
   },
   {
    "duration": 74,
    "start_time": "2022-01-18T17:59:34.977Z"
   },
   {
    "duration": 169,
    "start_time": "2022-01-18T17:59:35.052Z"
   },
   {
    "duration": 113,
    "start_time": "2022-01-18T17:59:35.223Z"
   },
   {
    "duration": 109,
    "start_time": "2022-01-18T17:59:35.338Z"
   },
   {
    "duration": 2,
    "start_time": "2022-01-18T17:59:35.449Z"
   },
   {
    "duration": 1817,
    "start_time": "2022-01-18T17:59:35.452Z"
   },
   {
    "duration": 395,
    "start_time": "2022-01-18T17:59:37.271Z"
   },
   {
    "duration": 402,
    "start_time": "2022-01-18T17:59:37.668Z"
   },
   {
    "duration": 424,
    "start_time": "2022-01-18T17:59:38.072Z"
   },
   {
    "duration": 2,
    "start_time": "2022-01-18T17:59:38.498Z"
   },
   {
    "duration": 4741,
    "start_time": "2022-01-18T17:59:38.502Z"
   },
   {
    "duration": -39,
    "start_time": "2022-01-18T17:59:43.283Z"
   },
   {
    "duration": -40,
    "start_time": "2022-01-18T17:59:43.285Z"
   },
   {
    "duration": 366,
    "start_time": "2022-01-18T19:45:42.364Z"
   },
   {
    "duration": 43,
    "start_time": "2022-01-18T19:45:42.731Z"
   },
   {
    "duration": 73,
    "start_time": "2022-01-18T19:45:42.776Z"
   },
   {
    "duration": 176,
    "start_time": "2022-01-18T19:45:42.850Z"
   },
   {
    "duration": 118,
    "start_time": "2022-01-18T19:45:43.028Z"
   },
   {
    "duration": 110,
    "start_time": "2022-01-18T19:45:43.148Z"
   },
   {
    "duration": 2,
    "start_time": "2022-01-18T19:45:43.259Z"
   },
   {
    "duration": 1870,
    "start_time": "2022-01-18T19:45:43.262Z"
   },
   {
    "duration": 490,
    "start_time": "2022-01-18T19:45:45.134Z"
   },
   {
    "duration": 411,
    "start_time": "2022-01-18T19:45:45.626Z"
   },
   {
    "duration": 428,
    "start_time": "2022-01-18T19:45:46.038Z"
   },
   {
    "duration": 2,
    "start_time": "2022-01-18T19:45:46.468Z"
   },
   {
    "duration": 4788,
    "start_time": "2022-01-18T19:45:46.472Z"
   },
   {
    "duration": -205,
    "start_time": "2022-01-18T19:45:51.466Z"
   },
   {
    "duration": -205,
    "start_time": "2022-01-18T19:45:51.468Z"
   },
   {
    "duration": 376,
    "start_time": "2022-01-18T19:50:54.491Z"
   },
   {
    "duration": 46,
    "start_time": "2022-01-18T19:50:54.869Z"
   },
   {
    "duration": 53,
    "start_time": "2022-01-18T19:50:54.917Z"
   },
   {
    "duration": 192,
    "start_time": "2022-01-18T19:50:54.972Z"
   },
   {
    "duration": 121,
    "start_time": "2022-01-18T19:50:55.166Z"
   },
   {
    "duration": 128,
    "start_time": "2022-01-18T19:50:55.288Z"
   },
   {
    "duration": 2,
    "start_time": "2022-01-18T19:50:55.417Z"
   },
   {
    "duration": 2053,
    "start_time": "2022-01-18T19:50:55.421Z"
   },
   {
    "duration": 439,
    "start_time": "2022-01-18T19:50:57.477Z"
   },
   {
    "duration": 433,
    "start_time": "2022-01-18T19:50:57.918Z"
   },
   {
    "duration": 447,
    "start_time": "2022-01-18T19:50:58.353Z"
   },
   {
    "duration": 3,
    "start_time": "2022-01-18T19:50:58.801Z"
   },
   {
    "duration": 4955,
    "start_time": "2022-01-18T19:50:58.805Z"
   },
   {
    "duration": -121,
    "start_time": "2022-01-18T19:51:03.883Z"
   },
   {
    "duration": -122,
    "start_time": "2022-01-18T19:51:03.884Z"
   },
   {
    "duration": 193,
    "start_time": "2022-01-18T20:11:08.845Z"
   },
   {
    "duration": 103,
    "start_time": "2022-01-18T20:25:12.381Z"
   },
   {
    "duration": 105,
    "start_time": "2022-01-18T20:25:52.056Z"
   },
   {
    "duration": 105,
    "start_time": "2022-01-18T20:28:16.116Z"
   },
   {
    "duration": 365,
    "start_time": "2022-01-18T21:19:19.828Z"
   },
   {
    "duration": 43,
    "start_time": "2022-01-18T21:19:20.194Z"
   },
   {
    "duration": 50,
    "start_time": "2022-01-18T21:19:20.239Z"
   },
   {
    "duration": 154,
    "start_time": "2022-01-18T21:19:20.313Z"
   },
   {
    "duration": 115,
    "start_time": "2022-01-18T21:19:20.468Z"
   },
   {
    "duration": 111,
    "start_time": "2022-01-18T21:19:20.584Z"
   },
   {
    "duration": 2,
    "start_time": "2022-01-18T21:19:20.696Z"
   },
   {
    "duration": 1852,
    "start_time": "2022-01-18T21:19:20.700Z"
   },
   {
    "duration": 385,
    "start_time": "2022-01-18T21:19:22.554Z"
   },
   {
    "duration": 399,
    "start_time": "2022-01-18T21:19:22.941Z"
   },
   {
    "duration": 431,
    "start_time": "2022-01-18T21:19:23.342Z"
   },
   {
    "duration": 3,
    "start_time": "2022-01-18T21:19:23.774Z"
   },
   {
    "duration": 5670,
    "start_time": "2022-01-18T21:19:23.779Z"
   },
   {
    "duration": -109,
    "start_time": "2022-01-18T21:19:29.559Z"
   },
   {
    "duration": -110,
    "start_time": "2022-01-18T21:19:29.561Z"
   },
   {
    "duration": 1515,
    "start_time": "2022-01-20T14:22:15.611Z"
   },
   {
    "duration": 53,
    "start_time": "2022-01-20T14:22:17.129Z"
   },
   {
    "duration": 86,
    "start_time": "2022-01-20T14:22:17.184Z"
   },
   {
    "duration": 208,
    "start_time": "2022-01-20T14:22:17.272Z"
   },
   {
    "duration": 136,
    "start_time": "2022-01-20T14:22:17.482Z"
   },
   {
    "duration": 128,
    "start_time": "2022-01-20T14:22:17.620Z"
   },
   {
    "duration": 2,
    "start_time": "2022-01-20T14:22:17.750Z"
   },
   {
    "duration": 1912,
    "start_time": "2022-01-20T14:22:17.756Z"
   },
   {
    "duration": 443,
    "start_time": "2022-01-20T14:22:19.670Z"
   },
   {
    "duration": 468,
    "start_time": "2022-01-20T14:22:20.115Z"
   },
   {
    "duration": 475,
    "start_time": "2022-01-20T14:22:20.585Z"
   },
   {
    "duration": 2,
    "start_time": "2022-01-20T14:22:21.061Z"
   },
   {
    "duration": 5201,
    "start_time": "2022-01-20T14:22:21.065Z"
   },
   {
    "duration": -20,
    "start_time": "2022-01-20T14:22:26.288Z"
   },
   {
    "duration": -20,
    "start_time": "2022-01-20T14:22:26.289Z"
   },
   {
    "duration": 6167,
    "start_time": "2022-01-20T14:22:30.266Z"
   },
   {
    "duration": 358,
    "start_time": "2022-01-20T16:22:30.562Z"
   },
   {
    "duration": 42,
    "start_time": "2022-01-20T16:22:30.922Z"
   },
   {
    "duration": 133,
    "start_time": "2022-01-20T16:22:30.966Z"
   },
   {
    "duration": 162,
    "start_time": "2022-01-20T16:22:31.111Z"
   },
   {
    "duration": 115,
    "start_time": "2022-01-20T16:22:31.275Z"
   },
   {
    "duration": 126,
    "start_time": "2022-01-20T16:22:31.391Z"
   },
   {
    "duration": 2,
    "start_time": "2022-01-20T16:22:31.519Z"
   },
   {
    "duration": 1934,
    "start_time": "2022-01-20T16:22:31.523Z"
   },
   {
    "duration": 419,
    "start_time": "2022-01-20T16:22:33.458Z"
   },
   {
    "duration": 426,
    "start_time": "2022-01-20T16:22:33.879Z"
   },
   {
    "duration": 445,
    "start_time": "2022-01-20T16:22:34.312Z"
   },
   {
    "duration": 2,
    "start_time": "2022-01-20T16:22:34.759Z"
   },
   {
    "duration": 4944,
    "start_time": "2022-01-20T16:22:34.762Z"
   },
   {
    "duration": -222,
    "start_time": "2022-01-20T16:22:39.930Z"
   },
   {
    "duration": -222,
    "start_time": "2022-01-20T16:22:39.931Z"
   },
   {
    "duration": 5324,
    "start_time": "2022-01-20T16:23:22.306Z"
   },
   {
    "duration": 5178,
    "start_time": "2022-01-20T16:23:39.342Z"
   },
   {
    "duration": 366,
    "start_time": "2022-01-20T16:23:47.908Z"
   },
   {
    "duration": 45,
    "start_time": "2022-01-20T16:23:48.276Z"
   },
   {
    "duration": 50,
    "start_time": "2022-01-20T16:23:48.323Z"
   },
   {
    "duration": 176,
    "start_time": "2022-01-20T16:23:48.375Z"
   },
   {
    "duration": 107,
    "start_time": "2022-01-20T16:23:48.552Z"
   },
   {
    "duration": 113,
    "start_time": "2022-01-20T16:23:48.661Z"
   },
   {
    "duration": 2,
    "start_time": "2022-01-20T16:23:48.776Z"
   },
   {
    "duration": 1755,
    "start_time": "2022-01-20T16:23:48.780Z"
   },
   {
    "duration": 386,
    "start_time": "2022-01-20T16:23:50.537Z"
   },
   {
    "duration": 407,
    "start_time": "2022-01-20T16:23:50.925Z"
   },
   {
    "duration": 482,
    "start_time": "2022-01-20T16:23:51.334Z"
   },
   {
    "duration": 2,
    "start_time": "2022-01-20T16:23:51.818Z"
   },
   {
    "duration": 5051,
    "start_time": "2022-01-20T16:23:51.821Z"
   },
   {
    "duration": -274,
    "start_time": "2022-01-20T16:23:57.148Z"
   },
   {
    "duration": -274,
    "start_time": "2022-01-20T16:23:57.149Z"
   },
   {
    "duration": 210,
    "start_time": "2022-01-20T16:24:32.325Z"
   },
   {
    "duration": 4944,
    "start_time": "2022-01-20T16:24:43.877Z"
   },
   {
    "duration": 199,
    "start_time": "2022-01-20T16:25:55.344Z"
   },
   {
    "duration": 384,
    "start_time": "2022-01-20T16:26:01.745Z"
   },
   {
    "duration": 82,
    "start_time": "2022-01-20T16:26:02.131Z"
   },
   {
    "duration": 55,
    "start_time": "2022-01-20T16:26:02.216Z"
   },
   {
    "duration": 196,
    "start_time": "2022-01-20T16:26:02.273Z"
   },
   {
    "duration": 117,
    "start_time": "2022-01-20T16:26:02.470Z"
   },
   {
    "duration": 114,
    "start_time": "2022-01-20T16:26:02.589Z"
   },
   {
    "duration": 9,
    "start_time": "2022-01-20T16:26:02.704Z"
   },
   {
    "duration": 1890,
    "start_time": "2022-01-20T16:26:02.715Z"
   },
   {
    "duration": 435,
    "start_time": "2022-01-20T16:26:04.607Z"
   },
   {
    "duration": 434,
    "start_time": "2022-01-20T16:26:05.044Z"
   },
   {
    "duration": 448,
    "start_time": "2022-01-20T16:26:05.479Z"
   },
   {
    "duration": 9,
    "start_time": "2022-01-20T16:26:05.929Z"
   },
   {
    "duration": 370,
    "start_time": "2022-01-20T16:26:05.939Z"
   },
   {
    "duration": -171,
    "start_time": "2022-01-20T16:26:06.481Z"
   },
   {
    "duration": -173,
    "start_time": "2022-01-20T16:26:06.484Z"
   },
   {
    "duration": 14,
    "start_time": "2022-01-20T16:27:46.775Z"
   },
   {
    "duration": 9,
    "start_time": "2022-01-20T16:28:11.436Z"
   },
   {
    "duration": 5,
    "start_time": "2022-01-20T16:28:34.935Z"
   },
   {
    "duration": 9,
    "start_time": "2022-01-20T16:40:44.001Z"
   },
   {
    "duration": 5,
    "start_time": "2022-01-20T16:40:44.843Z"
   },
   {
    "duration": 215,
    "start_time": "2022-01-20T16:40:51.035Z"
   },
   {
    "duration": 11,
    "start_time": "2022-01-20T16:41:13.534Z"
   },
   {
    "duration": 390,
    "start_time": "2022-01-20T17:14:26.824Z"
   },
   {
    "duration": 47,
    "start_time": "2022-01-20T17:14:27.216Z"
   },
   {
    "duration": 80,
    "start_time": "2022-01-20T17:14:27.265Z"
   },
   {
    "duration": 177,
    "start_time": "2022-01-20T17:14:27.347Z"
   },
   {
    "duration": 134,
    "start_time": "2022-01-20T17:14:27.526Z"
   },
   {
    "duration": 124,
    "start_time": "2022-01-20T17:14:27.662Z"
   },
   {
    "duration": 2,
    "start_time": "2022-01-20T17:14:27.787Z"
   },
   {
    "duration": 1951,
    "start_time": "2022-01-20T17:14:27.791Z"
   },
   {
    "duration": 414,
    "start_time": "2022-01-20T17:14:29.744Z"
   },
   {
    "duration": 423,
    "start_time": "2022-01-20T17:14:30.160Z"
   },
   {
    "duration": 500,
    "start_time": "2022-01-20T17:14:30.585Z"
   },
   {
    "duration": 8,
    "start_time": "2022-01-20T17:14:31.087Z"
   },
   {
    "duration": 16,
    "start_time": "2022-01-20T17:14:31.096Z"
   },
   {
    "duration": 9,
    "start_time": "2022-01-20T17:14:31.113Z"
   },
   {
    "duration": 113,
    "start_time": "2022-01-20T17:33:55.115Z"
   },
   {
    "duration": 1805,
    "start_time": "2022-01-20T17:37:54.880Z"
   },
   {
    "duration": 398,
    "start_time": "2022-01-20T17:47:32.771Z"
   },
   {
    "duration": 439,
    "start_time": "2022-01-20T17:48:27.837Z"
   },
   {
    "duration": 396,
    "start_time": "2022-01-20T17:50:40.943Z"
   },
   {
    "duration": 411,
    "start_time": "2022-01-20T17:50:50.126Z"
   },
   {
    "duration": 490,
    "start_time": "2022-01-20T17:51:26.876Z"
   },
   {
    "duration": 443,
    "start_time": "2022-01-20T18:10:24.934Z"
   },
   {
    "duration": 451,
    "start_time": "2022-01-20T18:11:08.967Z"
   },
   {
    "duration": 426,
    "start_time": "2022-01-20T18:11:46.812Z"
   },
   {
    "duration": 436,
    "start_time": "2022-01-20T18:12:00.728Z"
   },
   {
    "duration": 447,
    "start_time": "2022-01-20T18:12:14.315Z"
   },
   {
    "duration": 511,
    "start_time": "2022-01-20T18:13:08.473Z"
   },
   {
    "duration": 468,
    "start_time": "2022-01-20T18:13:35.444Z"
   },
   {
    "duration": 470,
    "start_time": "2022-01-20T18:16:38.613Z"
   },
   {
    "duration": 449,
    "start_time": "2022-01-20T18:16:49.096Z"
   },
   {
    "duration": 449,
    "start_time": "2022-01-20T18:17:35.191Z"
   },
   {
    "duration": 567,
    "start_time": "2022-01-20T18:18:12.414Z"
   },
   {
    "duration": 491,
    "start_time": "2022-01-20T18:19:07.961Z"
   },
   {
    "duration": 9,
    "start_time": "2022-01-20T18:34:34.442Z"
   },
   {
    "duration": 4798,
    "start_time": "2022-01-20T18:35:51.937Z"
   },
   {
    "duration": 390,
    "start_time": "2022-01-20T18:35:57.981Z"
   },
   {
    "duration": 46,
    "start_time": "2022-01-20T18:35:58.372Z"
   },
   {
    "duration": 53,
    "start_time": "2022-01-20T18:35:58.420Z"
   },
   {
    "duration": 193,
    "start_time": "2022-01-20T18:35:58.475Z"
   },
   {
    "duration": 122,
    "start_time": "2022-01-20T18:35:58.670Z"
   },
   {
    "duration": 125,
    "start_time": "2022-01-20T18:35:58.794Z"
   },
   {
    "duration": 1878,
    "start_time": "2022-01-20T18:35:58.921Z"
   },
   {
    "duration": 473,
    "start_time": "2022-01-20T18:36:00.801Z"
   },
   {
    "duration": 451,
    "start_time": "2022-01-20T18:36:01.276Z"
   },
   {
    "duration": 479,
    "start_time": "2022-01-20T18:36:01.729Z"
   },
   {
    "duration": 3,
    "start_time": "2022-01-20T18:36:02.212Z"
   },
   {
    "duration": 4914,
    "start_time": "2022-01-20T18:36:02.217Z"
   },
   {
    "duration": -231,
    "start_time": "2022-01-20T18:36:07.364Z"
   },
   {
    "duration": 7,
    "start_time": "2022-01-20T18:36:23.250Z"
   },
   {
    "duration": 12,
    "start_time": "2022-01-20T18:59:25.123Z"
   },
   {
    "duration": 2551,
    "start_time": "2022-01-20T19:27:48.491Z"
   },
   {
    "duration": 2568,
    "start_time": "2022-01-20T19:28:36.943Z"
   },
   {
    "duration": 402,
    "start_time": "2022-01-20T19:28:39.895Z"
   },
   {
    "duration": 48,
    "start_time": "2022-01-20T19:28:40.299Z"
   },
   {
    "duration": 86,
    "start_time": "2022-01-20T19:28:40.350Z"
   },
   {
    "duration": 181,
    "start_time": "2022-01-20T19:28:40.438Z"
   },
   {
    "duration": 116,
    "start_time": "2022-01-20T19:28:40.621Z"
   },
   {
    "duration": 118,
    "start_time": "2022-01-20T19:28:40.738Z"
   },
   {
    "duration": 1777,
    "start_time": "2022-01-20T19:28:40.858Z"
   },
   {
    "duration": 422,
    "start_time": "2022-01-20T19:28:42.637Z"
   },
   {
    "duration": 559,
    "start_time": "2022-01-20T19:28:43.061Z"
   },
   {
    "duration": 500,
    "start_time": "2022-01-20T19:28:43.622Z"
   },
   {
    "duration": 9,
    "start_time": "2022-01-20T19:28:44.124Z"
   },
   {
    "duration": 4,
    "start_time": "2022-01-20T19:28:44.135Z"
   },
   {
    "duration": 2828,
    "start_time": "2022-01-20T19:28:44.141Z"
   },
   {
    "duration": 2873,
    "start_time": "2022-01-20T19:29:37.815Z"
   },
   {
    "duration": 71,
    "start_time": "2022-01-20T19:30:04.422Z"
   },
   {
    "duration": 2753,
    "start_time": "2022-01-20T19:30:08.341Z"
   },
   {
    "duration": 2836,
    "start_time": "2022-01-20T19:30:37.944Z"
   },
   {
    "duration": 2500,
    "start_time": "2022-01-20T19:30:48.330Z"
   },
   {
    "duration": 67,
    "start_time": "2022-01-20T19:31:04.585Z"
   },
   {
    "duration": 2468,
    "start_time": "2022-01-20T19:31:09.722Z"
   },
   {
    "duration": 2851,
    "start_time": "2022-01-20T19:31:20.097Z"
   },
   {
    "duration": 14,
    "start_time": "2022-01-20T19:31:27.590Z"
   },
   {
    "duration": 14,
    "start_time": "2022-01-20T19:31:44.123Z"
   },
   {
    "duration": 3062,
    "start_time": "2022-01-20T19:32:06.230Z"
   },
   {
    "duration": 12,
    "start_time": "2022-01-20T19:32:20.858Z"
   },
   {
    "duration": 5,
    "start_time": "2022-01-20T19:32:41.350Z"
   },
   {
    "duration": 12,
    "start_time": "2022-01-20T19:33:13.663Z"
   },
   {
    "duration": 12,
    "start_time": "2022-01-20T19:33:23.149Z"
   },
   {
    "duration": 12,
    "start_time": "2022-01-20T19:33:27.123Z"
   },
   {
    "duration": 381,
    "start_time": "2022-01-20T19:34:57.722Z"
   },
   {
    "duration": 11,
    "start_time": "2022-01-20T19:37:28.212Z"
   },
   {
    "duration": 12,
    "start_time": "2022-01-20T19:37:42.422Z"
   },
   {
    "duration": 88,
    "start_time": "2022-01-20T19:37:50.043Z"
   },
   {
    "duration": 15,
    "start_time": "2022-01-20T19:38:32.662Z"
   },
   {
    "duration": 8,
    "start_time": "2022-01-20T19:46:02.171Z"
   },
   {
    "duration": 8,
    "start_time": "2022-01-20T19:46:28.832Z"
   },
   {
    "duration": 354,
    "start_time": "2022-01-20T19:48:21.117Z"
   },
   {
    "duration": 43,
    "start_time": "2022-01-20T19:48:21.473Z"
   },
   {
    "duration": 50,
    "start_time": "2022-01-20T19:48:21.518Z"
   },
   {
    "duration": 177,
    "start_time": "2022-01-20T19:48:21.570Z"
   },
   {
    "duration": 112,
    "start_time": "2022-01-20T19:48:21.749Z"
   },
   {
    "duration": 111,
    "start_time": "2022-01-20T19:48:21.862Z"
   },
   {
    "duration": 1816,
    "start_time": "2022-01-20T19:48:21.974Z"
   },
   {
    "duration": 440,
    "start_time": "2022-01-20T19:48:23.792Z"
   },
   {
    "duration": 426,
    "start_time": "2022-01-20T19:48:24.234Z"
   },
   {
    "duration": 440,
    "start_time": "2022-01-20T19:48:24.661Z"
   },
   {
    "duration": 14,
    "start_time": "2022-01-20T19:48:25.102Z"
   },
   {
    "duration": 7,
    "start_time": "2022-01-20T19:48:25.118Z"
   },
   {
    "duration": 14,
    "start_time": "2022-01-20T19:48:25.126Z"
   },
   {
    "duration": 555,
    "start_time": "2022-01-20T19:59:05.787Z"
   },
   {
    "duration": 361,
    "start_time": "2022-01-20T20:05:55.294Z"
   },
   {
    "duration": 45,
    "start_time": "2022-01-20T20:05:55.657Z"
   },
   {
    "duration": 57,
    "start_time": "2022-01-20T20:05:55.712Z"
   },
   {
    "duration": 194,
    "start_time": "2022-01-20T20:05:55.771Z"
   },
   {
    "duration": 115,
    "start_time": "2022-01-20T20:05:55.966Z"
   },
   {
    "duration": 115,
    "start_time": "2022-01-20T20:05:56.083Z"
   },
   {
    "duration": 1788,
    "start_time": "2022-01-20T20:05:56.200Z"
   },
   {
    "duration": 426,
    "start_time": "2022-01-20T20:05:57.989Z"
   },
   {
    "duration": 496,
    "start_time": "2022-01-20T20:05:58.416Z"
   },
   {
    "duration": 515,
    "start_time": "2022-01-20T20:05:58.914Z"
   },
   {
    "duration": 11,
    "start_time": "2022-01-20T20:05:59.432Z"
   },
   {
    "duration": 9,
    "start_time": "2022-01-20T20:05:59.445Z"
   },
   {
    "duration": 15,
    "start_time": "2022-01-20T20:05:59.456Z"
   },
   {
    "duration": 378,
    "start_time": "2022-01-20T20:10:45.926Z"
   },
   {
    "duration": 47,
    "start_time": "2022-01-20T20:10:46.306Z"
   },
   {
    "duration": 84,
    "start_time": "2022-01-20T20:10:46.355Z"
   },
   {
    "duration": 177,
    "start_time": "2022-01-20T20:10:46.441Z"
   },
   {
    "duration": 127,
    "start_time": "2022-01-20T20:10:46.619Z"
   },
   {
    "duration": 119,
    "start_time": "2022-01-20T20:10:46.747Z"
   },
   {
    "duration": 1952,
    "start_time": "2022-01-20T20:10:46.868Z"
   },
   {
    "duration": 485,
    "start_time": "2022-01-20T20:10:48.822Z"
   },
   {
    "duration": 473,
    "start_time": "2022-01-20T20:10:49.313Z"
   },
   {
    "duration": 579,
    "start_time": "2022-01-20T20:10:49.788Z"
   },
   {
    "duration": 10,
    "start_time": "2022-01-20T20:10:50.368Z"
   },
   {
    "duration": 8,
    "start_time": "2022-01-20T20:10:50.379Z"
   },
   {
    "duration": 15,
    "start_time": "2022-01-20T20:10:50.412Z"
   },
   {
    "duration": 7216,
    "start_time": "2022-01-20T20:16:30.707Z"
   },
   {
    "duration": 4955,
    "start_time": "2022-01-20T20:16:56.376Z"
   },
   {
    "duration": 12,
    "start_time": "2022-01-20T20:17:31.377Z"
   },
   {
    "duration": 13,
    "start_time": "2022-01-20T20:17:41.567Z"
   },
   {
    "duration": 7,
    "start_time": "2022-01-20T20:29:52.853Z"
   },
   {
    "duration": 8,
    "start_time": "2022-01-20T20:30:03.621Z"
   },
   {
    "duration": 7,
    "start_time": "2022-01-20T20:30:09.725Z"
   },
   {
    "duration": 394,
    "start_time": "2022-01-20T20:37:26.068Z"
   },
   {
    "duration": 52,
    "start_time": "2022-01-20T20:37:26.463Z"
   },
   {
    "duration": 54,
    "start_time": "2022-01-20T20:37:26.516Z"
   },
   {
    "duration": 198,
    "start_time": "2022-01-20T20:37:26.571Z"
   },
   {
    "duration": 120,
    "start_time": "2022-01-20T20:37:26.771Z"
   },
   {
    "duration": 123,
    "start_time": "2022-01-20T20:37:26.892Z"
   },
   {
    "duration": 1964,
    "start_time": "2022-01-20T20:37:27.016Z"
   },
   {
    "duration": 442,
    "start_time": "2022-01-20T20:37:28.982Z"
   },
   {
    "duration": 435,
    "start_time": "2022-01-20T20:37:29.426Z"
   },
   {
    "duration": 523,
    "start_time": "2022-01-20T20:37:29.862Z"
   },
   {
    "duration": 25,
    "start_time": "2022-01-20T20:37:30.387Z"
   },
   {
    "duration": 9,
    "start_time": "2022-01-20T20:37:30.414Z"
   },
   {
    "duration": 14,
    "start_time": "2022-01-20T20:37:30.425Z"
   },
   {
    "duration": 113,
    "start_time": "2022-01-20T20:57:26.996Z"
   },
   {
    "duration": 98,
    "start_time": "2022-01-20T20:58:04.293Z"
   },
   {
    "duration": 101,
    "start_time": "2022-01-20T20:58:19.905Z"
   },
   {
    "duration": 106,
    "start_time": "2022-01-20T20:58:54.061Z"
   },
   {
    "duration": 95,
    "start_time": "2022-01-20T20:59:25.666Z"
   },
   {
    "duration": 102,
    "start_time": "2022-01-20T20:59:32.594Z"
   },
   {
    "duration": 349,
    "start_time": "2022-01-20T21:11:58.722Z"
   },
   {
    "duration": 459,
    "start_time": "2022-01-20T21:12:24.227Z"
   },
   {
    "duration": 78,
    "start_time": "2022-01-20T21:12:53.192Z"
   },
   {
    "duration": 155,
    "start_time": "2022-01-20T21:13:02.907Z"
   },
   {
    "duration": 554,
    "start_time": "2022-01-20T21:13:11.830Z"
   },
   {
    "duration": 486,
    "start_time": "2022-01-20T21:13:37.387Z"
   },
   {
    "duration": 362,
    "start_time": "2022-01-20T21:14:32.134Z"
   },
   {
    "duration": 427,
    "start_time": "2022-01-20T21:15:20.320Z"
   },
   {
    "duration": 479,
    "start_time": "2022-01-20T21:15:48.146Z"
   },
   {
    "duration": 512,
    "start_time": "2022-01-20T21:17:55.347Z"
   },
   {
    "duration": 369,
    "start_time": "2022-01-20T21:18:13.322Z"
   },
   {
    "duration": 535,
    "start_time": "2022-01-20T21:18:29.195Z"
   },
   {
    "duration": 463,
    "start_time": "2022-01-20T21:18:41.034Z"
   },
   {
    "duration": 378,
    "start_time": "2022-01-20T21:27:15.794Z"
   },
   {
    "duration": 5499,
    "start_time": "2022-01-20T21:27:41.088Z"
   },
   {
    "duration": 386,
    "start_time": "2022-01-20T21:28:03.843Z"
   },
   {
    "duration": 411,
    "start_time": "2022-01-20T21:28:40.866Z"
   },
   {
    "duration": 585,
    "start_time": "2022-01-20T21:29:20.106Z"
   },
   {
    "duration": 1487,
    "start_time": "2022-01-21T05:04:23.994Z"
   },
   {
    "duration": 47,
    "start_time": "2022-01-21T05:04:25.482Z"
   },
   {
    "duration": 78,
    "start_time": "2022-01-21T05:04:25.531Z"
   },
   {
    "duration": 187,
    "start_time": "2022-01-21T05:04:25.612Z"
   },
   {
    "duration": 125,
    "start_time": "2022-01-21T05:04:25.800Z"
   },
   {
    "duration": 114,
    "start_time": "2022-01-21T05:04:25.927Z"
   },
   {
    "duration": 1885,
    "start_time": "2022-01-21T05:04:26.043Z"
   },
   {
    "duration": 430,
    "start_time": "2022-01-21T05:04:27.932Z"
   },
   {
    "duration": 434,
    "start_time": "2022-01-21T05:04:28.364Z"
   },
   {
    "duration": 467,
    "start_time": "2022-01-21T05:04:28.800Z"
   },
   {
    "duration": 11,
    "start_time": "2022-01-21T05:04:29.271Z"
   },
   {
    "duration": 89,
    "start_time": "2022-01-21T05:04:29.283Z"
   },
   {
    "duration": 15,
    "start_time": "2022-01-21T05:04:29.373Z"
   },
   {
    "duration": 565,
    "start_time": "2022-01-21T05:05:50.042Z"
   },
   {
    "duration": 628,
    "start_time": "2022-01-21T05:07:24.181Z"
   },
   {
    "duration": 442,
    "start_time": "2022-01-21T05:07:46.531Z"
   },
   {
    "duration": 409,
    "start_time": "2022-01-21T05:20:10.151Z"
   },
   {
    "duration": 436,
    "start_time": "2022-01-21T05:48:08.751Z"
   },
   {
    "duration": 44,
    "start_time": "2022-01-21T05:48:09.188Z"
   },
   {
    "duration": 77,
    "start_time": "2022-01-21T05:48:09.234Z"
   },
   {
    "duration": 170,
    "start_time": "2022-01-21T05:48:09.313Z"
   },
   {
    "duration": 113,
    "start_time": "2022-01-21T05:48:09.485Z"
   },
   {
    "duration": 118,
    "start_time": "2022-01-21T05:48:09.599Z"
   },
   {
    "duration": 1967,
    "start_time": "2022-01-21T05:48:09.718Z"
   },
   {
    "duration": 489,
    "start_time": "2022-01-21T05:48:11.686Z"
   },
   {
    "duration": 423,
    "start_time": "2022-01-21T05:48:12.177Z"
   },
   {
    "duration": 452,
    "start_time": "2022-01-21T05:48:12.602Z"
   },
   {
    "duration": 15,
    "start_time": "2022-01-21T05:48:13.056Z"
   },
   {
    "duration": 8,
    "start_time": "2022-01-21T05:48:13.073Z"
   },
   {
    "duration": 15,
    "start_time": "2022-01-21T05:48:13.082Z"
   },
   {
    "duration": 401,
    "start_time": "2022-01-21T05:48:38.692Z"
   },
   {
    "duration": 43,
    "start_time": "2022-01-21T05:48:39.094Z"
   },
   {
    "duration": 71,
    "start_time": "2022-01-21T05:48:39.139Z"
   },
   {
    "duration": 174,
    "start_time": "2022-01-21T05:48:39.212Z"
   },
   {
    "duration": 111,
    "start_time": "2022-01-21T05:48:39.387Z"
   },
   {
    "duration": 108,
    "start_time": "2022-01-21T05:48:39.500Z"
   },
   {
    "duration": 1910,
    "start_time": "2022-01-21T05:48:39.610Z"
   },
   {
    "duration": 442,
    "start_time": "2022-01-21T05:48:41.522Z"
   },
   {
    "duration": 435,
    "start_time": "2022-01-21T05:48:41.966Z"
   },
   {
    "duration": 460,
    "start_time": "2022-01-21T05:48:42.402Z"
   },
   {
    "duration": 16,
    "start_time": "2022-01-21T05:48:42.864Z"
   },
   {
    "duration": 97,
    "start_time": "2022-01-21T05:48:42.881Z"
   },
   {
    "duration": 16,
    "start_time": "2022-01-21T05:48:42.980Z"
   },
   {
    "duration": 1601,
    "start_time": "2022-01-25T16:46:10.805Z"
   },
   {
    "duration": 57,
    "start_time": "2022-01-25T16:46:12.408Z"
   },
   {
    "duration": 75,
    "start_time": "2022-01-25T16:46:12.467Z"
   },
   {
    "duration": 175,
    "start_time": "2022-01-25T16:46:12.544Z"
   },
   {
    "duration": 126,
    "start_time": "2022-01-25T16:46:12.721Z"
   },
   {
    "duration": 115,
    "start_time": "2022-01-25T16:46:12.849Z"
   },
   {
    "duration": 2288,
    "start_time": "2022-01-25T16:46:12.966Z"
   },
   {
    "duration": 709,
    "start_time": "2022-01-25T16:46:15.256Z"
   },
   {
    "duration": 709,
    "start_time": "2022-01-25T16:46:15.969Z"
   },
   {
    "duration": 466,
    "start_time": "2022-01-25T16:46:16.680Z"
   },
   {
    "duration": 9,
    "start_time": "2022-01-25T16:46:17.147Z"
   },
   {
    "duration": 7,
    "start_time": "2022-01-25T16:46:17.158Z"
   },
   {
    "duration": 14,
    "start_time": "2022-01-25T16:46:17.166Z"
   },
   {
    "duration": 4,
    "start_time": "2022-01-25T16:47:53.847Z"
   },
   {
    "duration": 5,
    "start_time": "2022-01-25T16:48:00.547Z"
   },
   {
    "duration": 11,
    "start_time": "2022-01-25T16:48:25.490Z"
   },
   {
    "duration": 26,
    "start_time": "2022-01-25T16:54:09.087Z"
   },
   {
    "duration": 2169,
    "start_time": "2022-01-25T17:20:13.879Z"
   },
   {
    "duration": 72,
    "start_time": "2022-01-25T17:20:16.050Z"
   },
   {
    "duration": 136,
    "start_time": "2022-01-25T17:20:16.127Z"
   },
   {
    "duration": 272,
    "start_time": "2022-01-25T17:20:16.266Z"
   },
   {
    "duration": 187,
    "start_time": "2022-01-25T17:20:16.541Z"
   },
   {
    "duration": 5,
    "start_time": "2022-01-25T17:20:16.730Z"
   },
   {
    "duration": 22,
    "start_time": "2022-01-25T17:20:16.738Z"
   },
   {
    "duration": 207,
    "start_time": "2022-01-25T17:20:16.763Z"
   },
   {
    "duration": 11,
    "start_time": "2022-01-25T17:20:16.973Z"
   },
   {
    "duration": 3896,
    "start_time": "2022-01-25T17:20:16.986Z"
   },
   {
    "duration": 754,
    "start_time": "2022-01-25T17:20:20.884Z"
   },
   {
    "duration": 859,
    "start_time": "2022-01-25T17:20:21.640Z"
   },
   {
    "duration": 790,
    "start_time": "2022-01-25T17:20:22.503Z"
   },
   {
    "duration": 17,
    "start_time": "2022-01-25T17:20:23.295Z"
   },
   {
    "duration": 12,
    "start_time": "2022-01-25T17:20:23.314Z"
   },
   {
    "duration": 46,
    "start_time": "2022-01-25T17:20:23.328Z"
   },
   {
    "duration": 764,
    "start_time": "2022-01-25T17:24:33.500Z"
   },
   {
    "duration": 927,
    "start_time": "2022-01-25T17:42:29.088Z"
   },
   {
    "duration": 465,
    "start_time": "2022-01-25T17:42:38.251Z"
   },
   {
    "duration": 356,
    "start_time": "2022-01-25T17:42:54.996Z"
   },
   {
    "duration": 497,
    "start_time": "2022-01-25T17:43:25.600Z"
   },
   {
    "duration": 2631,
    "start_time": "2022-01-25T17:45:53.262Z"
   },
   {
    "duration": 2500,
    "start_time": "2022-01-25T17:47:43.831Z"
   },
   {
    "duration": 3208,
    "start_time": "2022-01-25T17:48:15.586Z"
   },
   {
    "duration": 2613,
    "start_time": "2022-01-25T17:49:11.317Z"
   },
   {
    "duration": 2890,
    "start_time": "2022-01-25T17:49:47.518Z"
   },
   {
    "duration": 2453,
    "start_time": "2022-01-25T17:50:11.350Z"
   },
   {
    "duration": 361,
    "start_time": "2022-01-25T17:51:39.637Z"
   },
   {
    "duration": 403,
    "start_time": "2022-01-25T17:52:00.770Z"
   },
   {
    "duration": 397,
    "start_time": "2022-01-25T17:52:19.277Z"
   },
   {
    "duration": 396,
    "start_time": "2022-01-25T17:53:12.708Z"
   },
   {
    "duration": 373,
    "start_time": "2022-01-25T17:53:20.595Z"
   },
   {
    "duration": 366,
    "start_time": "2022-01-25T17:53:41.478Z"
   },
   {
    "duration": 375,
    "start_time": "2022-01-25T17:53:52.501Z"
   },
   {
    "duration": 416,
    "start_time": "2022-01-25T17:54:00.318Z"
   },
   {
    "duration": 432,
    "start_time": "2022-01-25T17:54:23.836Z"
   },
   {
    "duration": 740,
    "start_time": "2022-01-25T17:54:32.839Z"
   },
   {
    "duration": 97,
    "start_time": "2022-01-25T17:54:33.583Z"
   },
   {
    "duration": 104,
    "start_time": "2022-01-25T17:54:33.683Z"
   },
   {
    "duration": 402,
    "start_time": "2022-01-25T17:54:33.789Z"
   },
   {
    "duration": 79,
    "start_time": "2022-01-25T17:54:34.116Z"
   },
   {
    "duration": 79,
    "start_time": "2022-01-25T17:54:34.117Z"
   },
   {
    "duration": 80,
    "start_time": "2022-01-25T17:54:34.119Z"
   },
   {
    "duration": 78,
    "start_time": "2022-01-25T17:54:34.123Z"
   },
   {
    "duration": 78,
    "start_time": "2022-01-25T17:54:34.125Z"
   },
   {
    "duration": 80,
    "start_time": "2022-01-25T17:54:34.126Z"
   },
   {
    "duration": 81,
    "start_time": "2022-01-25T17:54:34.127Z"
   },
   {
    "duration": 82,
    "start_time": "2022-01-25T17:54:34.128Z"
   },
   {
    "duration": -2,
    "start_time": "2022-01-25T17:54:34.215Z"
   },
   {
    "duration": -2,
    "start_time": "2022-01-25T17:54:34.217Z"
   },
   {
    "duration": -1,
    "start_time": "2022-01-25T17:54:34.218Z"
   },
   {
    "duration": -1,
    "start_time": "2022-01-25T17:54:34.220Z"
   },
   {
    "duration": 439,
    "start_time": "2022-01-25T17:55:39.527Z"
   },
   {
    "duration": 396,
    "start_time": "2022-01-25T17:55:53.571Z"
   },
   {
    "duration": 387,
    "start_time": "2022-01-25T17:55:59.619Z"
   },
   {
    "duration": 365,
    "start_time": "2022-01-25T17:56:19.645Z"
   },
   {
    "duration": 378,
    "start_time": "2022-01-25T18:08:36.856Z"
   },
   {
    "duration": 2745,
    "start_time": "2022-01-25T18:17:38.096Z"
   },
   {
    "duration": 2551,
    "start_time": "2022-01-25T18:17:55.329Z"
   },
   {
    "duration": 232,
    "start_time": "2022-01-25T18:18:14.964Z"
   },
   {
    "duration": 734,
    "start_time": "2022-01-25T18:18:22.733Z"
   },
   {
    "duration": 92,
    "start_time": "2022-01-25T18:18:23.470Z"
   },
   {
    "duration": 119,
    "start_time": "2022-01-25T18:18:23.566Z"
   },
   {
    "duration": 272,
    "start_time": "2022-01-25T18:18:23.689Z"
   },
   {
    "duration": 215,
    "start_time": "2022-01-25T18:18:23.964Z"
   },
   {
    "duration": 5,
    "start_time": "2022-01-25T18:18:24.181Z"
   },
   {
    "duration": 7,
    "start_time": "2022-01-25T18:18:24.188Z"
   },
   {
    "duration": 230,
    "start_time": "2022-01-25T18:18:24.198Z"
   },
   {
    "duration": 11,
    "start_time": "2022-01-25T18:18:24.430Z"
   },
   {
    "duration": 3952,
    "start_time": "2022-01-25T18:18:24.459Z"
   },
   {
    "duration": 759,
    "start_time": "2022-01-25T18:18:28.413Z"
   },
   {
    "duration": 866,
    "start_time": "2022-01-25T18:18:29.174Z"
   },
   {
    "duration": 809,
    "start_time": "2022-01-25T18:18:30.043Z"
   },
   {
    "duration": 15,
    "start_time": "2022-01-25T18:18:30.859Z"
   },
   {
    "duration": 14,
    "start_time": "2022-01-25T18:18:30.877Z"
   },
   {
    "duration": 25,
    "start_time": "2022-01-25T18:18:30.894Z"
   },
   {
    "duration": 168,
    "start_time": "2022-01-25T18:23:26.975Z"
   },
   {
    "duration": 794,
    "start_time": "2022-01-25T18:23:30.173Z"
   },
   {
    "duration": 91,
    "start_time": "2022-01-25T18:23:30.970Z"
   },
   {
    "duration": 109,
    "start_time": "2022-01-25T18:23:31.064Z"
   },
   {
    "duration": 263,
    "start_time": "2022-01-25T18:23:31.176Z"
   },
   {
    "duration": 197,
    "start_time": "2022-01-25T18:23:31.441Z"
   },
   {
    "duration": 18,
    "start_time": "2022-01-25T18:23:31.641Z"
   },
   {
    "duration": 8,
    "start_time": "2022-01-25T18:23:31.663Z"
   },
   {
    "duration": 11706,
    "start_time": "2022-01-25T18:23:31.674Z"
   },
   {
    "duration": -73,
    "start_time": "2022-01-25T18:23:43.456Z"
   },
   {
    "duration": -74,
    "start_time": "2022-01-25T18:23:43.458Z"
   },
   {
    "duration": -74,
    "start_time": "2022-01-25T18:23:43.460Z"
   },
   {
    "duration": -74,
    "start_time": "2022-01-25T18:23:43.461Z"
   },
   {
    "duration": -73,
    "start_time": "2022-01-25T18:23:43.462Z"
   },
   {
    "duration": -73,
    "start_time": "2022-01-25T18:23:43.464Z"
   },
   {
    "duration": -73,
    "start_time": "2022-01-25T18:23:43.465Z"
   },
   {
    "duration": -73,
    "start_time": "2022-01-25T18:23:43.466Z"
   },
   {
    "duration": 12380,
    "start_time": "2022-01-25T18:24:18.966Z"
   },
   {
    "duration": 12283,
    "start_time": "2022-01-25T18:32:32.192Z"
   },
   {
    "duration": 728,
    "start_time": "2022-01-25T18:39:22.757Z"
   },
   {
    "duration": 97,
    "start_time": "2022-01-25T18:39:23.489Z"
   },
   {
    "duration": 104,
    "start_time": "2022-01-25T18:39:23.589Z"
   },
   {
    "duration": 285,
    "start_time": "2022-01-25T18:39:23.696Z"
   },
   {
    "duration": 194,
    "start_time": "2022-01-25T18:39:23.983Z"
   },
   {
    "duration": 5,
    "start_time": "2022-01-25T18:39:24.179Z"
   },
   {
    "duration": 6,
    "start_time": "2022-01-25T18:39:24.186Z"
   },
   {
    "duration": 10893,
    "start_time": "2022-01-25T18:39:24.196Z"
   },
   {
    "duration": -76,
    "start_time": "2022-01-25T18:39:35.168Z"
   },
   {
    "duration": -76,
    "start_time": "2022-01-25T18:39:35.169Z"
   },
   {
    "duration": -77,
    "start_time": "2022-01-25T18:39:35.171Z"
   },
   {
    "duration": -77,
    "start_time": "2022-01-25T18:39:35.172Z"
   },
   {
    "duration": -78,
    "start_time": "2022-01-25T18:39:35.175Z"
   },
   {
    "duration": -78,
    "start_time": "2022-01-25T18:39:35.176Z"
   },
   {
    "duration": -79,
    "start_time": "2022-01-25T18:39:35.178Z"
   },
   {
    "duration": -78,
    "start_time": "2022-01-25T18:39:35.179Z"
   },
   {
    "duration": 159,
    "start_time": "2022-01-25T18:41:32.620Z"
   },
   {
    "duration": 719,
    "start_time": "2022-01-25T18:41:39.342Z"
   },
   {
    "duration": 95,
    "start_time": "2022-01-25T18:41:40.064Z"
   },
   {
    "duration": 107,
    "start_time": "2022-01-25T18:41:40.162Z"
   },
   {
    "duration": 253,
    "start_time": "2022-01-25T18:41:40.272Z"
   },
   {
    "duration": 181,
    "start_time": "2022-01-25T18:41:40.527Z"
   },
   {
    "duration": 5,
    "start_time": "2022-01-25T18:41:40.710Z"
   },
   {
    "duration": 8,
    "start_time": "2022-01-25T18:41:40.717Z"
   },
   {
    "duration": 220,
    "start_time": "2022-01-25T18:41:40.727Z"
   },
   {
    "duration": 10,
    "start_time": "2022-01-25T18:41:40.951Z"
   },
   {
    "duration": 4299,
    "start_time": "2022-01-25T18:41:40.963Z"
   },
   {
    "duration": 778,
    "start_time": "2022-01-25T18:41:45.265Z"
   },
   {
    "duration": 795,
    "start_time": "2022-01-25T18:41:46.045Z"
   },
   {
    "duration": 800,
    "start_time": "2022-01-25T18:41:46.843Z"
   },
   {
    "duration": 26,
    "start_time": "2022-01-25T18:41:47.647Z"
   },
   {
    "duration": 106,
    "start_time": "2022-01-25T18:41:47.676Z"
   },
   {
    "duration": 23,
    "start_time": "2022-01-25T18:41:47.785Z"
   },
   {
    "duration": 196,
    "start_time": "2022-01-25T18:42:52.000Z"
   },
   {
    "duration": 10150,
    "start_time": "2022-01-25T18:55:37.223Z"
   },
   {
    "duration": 778,
    "start_time": "2022-01-25T18:56:50.588Z"
   },
   {
    "duration": 93,
    "start_time": "2022-01-25T18:56:51.369Z"
   },
   {
    "duration": 105,
    "start_time": "2022-01-25T18:56:51.466Z"
   },
   {
    "duration": 302,
    "start_time": "2022-01-25T18:56:51.575Z"
   },
   {
    "duration": 189,
    "start_time": "2022-01-25T18:56:51.880Z"
   },
   {
    "duration": 5,
    "start_time": "2022-01-25T18:56:52.072Z"
   },
   {
    "duration": 6,
    "start_time": "2022-01-25T18:56:52.079Z"
   },
   {
    "duration": 11681,
    "start_time": "2022-01-25T18:56:52.090Z"
   },
   {
    "duration": -122,
    "start_time": "2022-01-25T18:57:03.897Z"
   },
   {
    "duration": -123,
    "start_time": "2022-01-25T18:57:03.899Z"
   },
   {
    "duration": -122,
    "start_time": "2022-01-25T18:57:03.900Z"
   },
   {
    "duration": -121,
    "start_time": "2022-01-25T18:57:03.901Z"
   },
   {
    "duration": -121,
    "start_time": "2022-01-25T18:57:03.902Z"
   },
   {
    "duration": -213,
    "start_time": "2022-01-25T18:57:03.996Z"
   },
   {
    "duration": -219,
    "start_time": "2022-01-25T18:57:04.003Z"
   },
   {
    "duration": -219,
    "start_time": "2022-01-25T18:57:04.004Z"
   },
   {
    "duration": 10146,
    "start_time": "2022-01-25T18:58:16.132Z"
   },
   {
    "duration": 247,
    "start_time": "2022-01-25T19:00:38.464Z"
   },
   {
    "duration": 240,
    "start_time": "2022-01-25T19:02:05.470Z"
   },
   {
    "duration": 241,
    "start_time": "2022-01-25T19:03:56.413Z"
   },
   {
    "duration": 250,
    "start_time": "2022-01-25T19:09:34.966Z"
   },
   {
    "duration": 727,
    "start_time": "2022-01-25T19:10:32.887Z"
   },
   {
    "duration": 82,
    "start_time": "2022-01-25T19:10:33.617Z"
   },
   {
    "duration": 102,
    "start_time": "2022-01-25T19:10:33.702Z"
   },
   {
    "duration": 266,
    "start_time": "2022-01-25T19:10:33.806Z"
   },
   {
    "duration": 188,
    "start_time": "2022-01-25T19:10:34.075Z"
   },
   {
    "duration": 6,
    "start_time": "2022-01-25T19:10:34.266Z"
   },
   {
    "duration": 7,
    "start_time": "2022-01-25T19:10:34.275Z"
   },
   {
    "duration": 14674,
    "start_time": "2022-01-25T19:10:34.294Z"
   },
   {
    "duration": -120,
    "start_time": "2022-01-25T19:10:49.091Z"
   },
   {
    "duration": -121,
    "start_time": "2022-01-25T19:10:49.093Z"
   },
   {
    "duration": -121,
    "start_time": "2022-01-25T19:10:49.095Z"
   },
   {
    "duration": -121,
    "start_time": "2022-01-25T19:10:49.096Z"
   },
   {
    "duration": -122,
    "start_time": "2022-01-25T19:10:49.098Z"
   },
   {
    "duration": -180,
    "start_time": "2022-01-25T19:10:49.158Z"
   },
   {
    "duration": -180,
    "start_time": "2022-01-25T19:10:49.159Z"
   },
   {
    "duration": -179,
    "start_time": "2022-01-25T19:10:49.160Z"
   },
   {
    "duration": 239,
    "start_time": "2022-01-25T19:11:10.728Z"
   },
   {
    "duration": 712,
    "start_time": "2022-01-25T19:11:14.609Z"
   },
   {
    "duration": 93,
    "start_time": "2022-01-25T19:11:15.325Z"
   },
   {
    "duration": 106,
    "start_time": "2022-01-25T19:11:15.422Z"
   },
   {
    "duration": 267,
    "start_time": "2022-01-25T19:11:15.531Z"
   },
   {
    "duration": 192,
    "start_time": "2022-01-25T19:11:15.801Z"
   },
   {
    "duration": 6,
    "start_time": "2022-01-25T19:11:15.996Z"
   },
   {
    "duration": 9,
    "start_time": "2022-01-25T19:11:16.005Z"
   },
   {
    "duration": 519,
    "start_time": "2022-01-25T19:11:16.017Z"
   },
   {
    "duration": 22,
    "start_time": "2022-01-25T19:11:16.542Z"
   },
   {
    "duration": 4140,
    "start_time": "2022-01-25T19:11:16.567Z"
   },
   {
    "duration": 759,
    "start_time": "2022-01-25T19:11:20.709Z"
   },
   {
    "duration": 744,
    "start_time": "2022-01-25T19:11:21.470Z"
   },
   {
    "duration": 790,
    "start_time": "2022-01-25T19:11:22.216Z"
   },
   {
    "duration": 14,
    "start_time": "2022-01-25T19:11:23.008Z"
   },
   {
    "duration": 11,
    "start_time": "2022-01-25T19:11:23.024Z"
   },
   {
    "duration": 22,
    "start_time": "2022-01-25T19:11:23.058Z"
   },
   {
    "duration": 249,
    "start_time": "2022-01-25T19:13:18.588Z"
   },
   {
    "duration": 13,
    "start_time": "2022-01-25T19:39:09.467Z"
   },
   {
    "duration": 233,
    "start_time": "2022-01-25T19:39:38.571Z"
   },
   {
    "duration": 455,
    "start_time": "2022-01-25T19:40:07.886Z"
   },
   {
    "duration": 552,
    "start_time": "2022-01-25T19:40:35.937Z"
   },
   {
    "duration": 496,
    "start_time": "2022-01-25T19:40:39.594Z"
   },
   {
    "duration": 344,
    "start_time": "2022-01-25T19:41:45.627Z"
   },
   {
    "duration": 279,
    "start_time": "2022-01-25T19:41:52.428Z"
   },
   {
    "duration": 37,
    "start_time": "2022-01-25T19:48:37.776Z"
   },
   {
    "duration": 445,
    "start_time": "2022-01-25T19:48:57.179Z"
   },
   {
    "duration": 9603,
    "start_time": "2022-01-25T19:49:12.736Z"
   },
   {
    "duration": 622,
    "start_time": "2022-01-25T19:49:29.642Z"
   },
   {
    "duration": 26,
    "start_time": "2022-01-25T19:50:55.484Z"
   },
   {
    "duration": 21,
    "start_time": "2022-01-25T19:51:21.905Z"
   },
   {
    "duration": 393,
    "start_time": "2022-01-25T19:51:52.545Z"
   },
   {
    "duration": 438,
    "start_time": "2022-01-25T19:52:03.881Z"
   },
   {
    "duration": 33,
    "start_time": "2022-01-25T19:52:13.368Z"
   },
   {
    "duration": 9600,
    "start_time": "2022-01-25T19:53:02.184Z"
   },
   {
    "duration": 7,
    "start_time": "2022-01-25T19:53:11.780Z"
   },
   {
    "duration": 13,
    "start_time": "2022-01-25T19:53:24.877Z"
   },
   {
    "duration": 642,
    "start_time": "2022-01-25T19:53:34.311Z"
   },
   {
    "duration": 630,
    "start_time": "2022-01-25T19:53:56.881Z"
   },
   {
    "duration": 42,
    "start_time": "2022-01-25T19:54:11.067Z"
   },
   {
    "duration": 580,
    "start_time": "2022-01-25T19:55:01.973Z"
   },
   {
    "duration": 581,
    "start_time": "2022-01-25T19:55:10.674Z"
   },
   {
    "duration": 51,
    "start_time": "2022-01-25T20:03:15.634Z"
   },
   {
    "duration": 47,
    "start_time": "2022-01-25T20:04:10.177Z"
   },
   {
    "duration": 551,
    "start_time": "2022-01-25T20:04:31.548Z"
   },
   {
    "duration": 643,
    "start_time": "2022-01-25T20:05:06.895Z"
   },
   {
    "duration": 1722,
    "start_time": "2022-01-25T20:06:11.907Z"
   },
   {
    "duration": 522,
    "start_time": "2022-01-25T20:06:45.564Z"
   },
   {
    "duration": 645,
    "start_time": "2022-01-25T20:07:10.461Z"
   },
   {
    "duration": 13,
    "start_time": "2022-01-25T20:07:17.525Z"
   },
   {
    "duration": 646,
    "start_time": "2022-01-25T20:07:29.746Z"
   },
   {
    "duration": 526,
    "start_time": "2022-01-25T20:07:46.177Z"
   },
   {
    "duration": 564,
    "start_time": "2022-01-25T20:07:55.086Z"
   },
   {
    "duration": 380,
    "start_time": "2022-01-25T20:08:37.018Z"
   },
   {
    "duration": 430,
    "start_time": "2022-01-25T20:08:47.700Z"
   },
   {
    "duration": 909,
    "start_time": "2022-01-25T20:09:06.908Z"
   },
   {
    "duration": 4,
    "start_time": "2022-01-25T20:09:20.089Z"
   },
   {
    "duration": 50,
    "start_time": "2022-01-25T20:15:21.626Z"
   },
   {
    "duration": 44,
    "start_time": "2022-01-25T20:15:24.006Z"
   },
   {
    "duration": 682,
    "start_time": "2022-01-25T20:16:45.997Z"
   },
   {
    "duration": 9331,
    "start_time": "2022-01-25T20:17:43.132Z"
   },
   {
    "duration": 9152,
    "start_time": "2022-01-25T20:18:00.790Z"
   },
   {
    "duration": 726,
    "start_time": "2022-01-25T20:18:17.057Z"
   },
   {
    "duration": 88,
    "start_time": "2022-01-25T20:18:17.785Z"
   },
   {
    "duration": 109,
    "start_time": "2022-01-25T20:18:17.876Z"
   },
   {
    "duration": 257,
    "start_time": "2022-01-25T20:18:17.988Z"
   },
   {
    "duration": 202,
    "start_time": "2022-01-25T20:18:18.247Z"
   },
   {
    "duration": 11,
    "start_time": "2022-01-25T20:18:18.460Z"
   },
   {
    "duration": 13,
    "start_time": "2022-01-25T20:18:18.473Z"
   },
   {
    "duration": 270,
    "start_time": "2022-01-25T20:18:18.490Z"
   },
   {
    "duration": 16,
    "start_time": "2022-01-25T20:18:18.763Z"
   },
   {
    "duration": 4191,
    "start_time": "2022-01-25T20:18:18.782Z"
   },
   {
    "duration": 783,
    "start_time": "2022-01-25T20:18:22.976Z"
   },
   {
    "duration": 828,
    "start_time": "2022-01-25T20:18:23.762Z"
   },
   {
    "duration": 874,
    "start_time": "2022-01-25T20:18:24.592Z"
   },
   {
    "duration": 39,
    "start_time": "2022-01-25T20:18:25.479Z"
   },
   {
    "duration": 11098,
    "start_time": "2022-01-25T20:18:25.531Z"
   },
   {
    "duration": 58,
    "start_time": "2022-01-25T20:18:36.573Z"
   },
   {
    "duration": 58,
    "start_time": "2022-01-25T20:18:36.574Z"
   },
   {
    "duration": 46,
    "start_time": "2022-01-25T20:18:51.286Z"
   },
   {
    "duration": 344,
    "start_time": "2022-01-25T20:26:12.677Z"
   },
   {
    "duration": 346,
    "start_time": "2022-01-25T20:26:32.230Z"
   },
   {
    "duration": 29,
    "start_time": "2022-01-25T20:26:45.629Z"
   },
   {
    "duration": 3,
    "start_time": "2022-01-25T20:27:26.783Z"
   },
   {
    "duration": 752,
    "start_time": "2022-01-25T20:27:51.148Z"
   },
   {
    "duration": 84,
    "start_time": "2022-01-25T20:27:51.902Z"
   },
   {
    "duration": 112,
    "start_time": "2022-01-25T20:27:51.989Z"
   },
   {
    "duration": 263,
    "start_time": "2022-01-25T20:27:52.105Z"
   },
   {
    "duration": 178,
    "start_time": "2022-01-25T20:27:52.370Z"
   },
   {
    "duration": 11,
    "start_time": "2022-01-25T20:27:52.550Z"
   },
   {
    "duration": 7,
    "start_time": "2022-01-25T20:27:52.563Z"
   },
   {
    "duration": 262,
    "start_time": "2022-01-25T20:27:52.574Z"
   },
   {
    "duration": 23,
    "start_time": "2022-01-25T20:27:52.838Z"
   },
   {
    "duration": 3882,
    "start_time": "2022-01-25T20:27:52.863Z"
   },
   {
    "duration": 836,
    "start_time": "2022-01-25T20:27:56.747Z"
   },
   {
    "duration": 838,
    "start_time": "2022-01-25T20:27:57.585Z"
   },
   {
    "duration": 781,
    "start_time": "2022-01-25T20:27:58.425Z"
   },
   {
    "duration": 14,
    "start_time": "2022-01-25T20:27:59.208Z"
   },
   {
    "duration": 3,
    "start_time": "2022-01-25T20:27:59.225Z"
   },
   {
    "duration": 40,
    "start_time": "2022-01-25T20:27:59.230Z"
   },
   {
    "duration": 24,
    "start_time": "2022-01-25T20:27:59.272Z"
   },
   {
    "duration": 160,
    "start_time": "2022-01-25T20:29:37.011Z"
   },
   {
    "duration": 453,
    "start_time": "2022-01-25T20:31:24.303Z"
   },
   {
    "duration": 166,
    "start_time": "2022-01-25T20:31:52.605Z"
   },
   {
    "duration": 716,
    "start_time": "2022-01-25T20:32:01.069Z"
   },
   {
    "duration": 91,
    "start_time": "2022-01-25T20:32:01.788Z"
   },
   {
    "duration": 105,
    "start_time": "2022-01-25T20:32:01.881Z"
   },
   {
    "duration": 258,
    "start_time": "2022-01-25T20:32:01.988Z"
   },
   {
    "duration": 171,
    "start_time": "2022-01-25T20:32:02.248Z"
   },
   {
    "duration": 4,
    "start_time": "2022-01-25T20:32:02.422Z"
   },
   {
    "duration": 30,
    "start_time": "2022-01-25T20:32:02.429Z"
   },
   {
    "duration": 376,
    "start_time": "2022-01-25T20:32:02.464Z"
   },
   {
    "duration": 24,
    "start_time": "2022-01-25T20:32:02.844Z"
   },
   {
    "duration": 7869,
    "start_time": "2022-01-25T20:32:02.871Z"
   },
   {
    "duration": 760,
    "start_time": "2022-01-25T20:32:10.743Z"
   },
   {
    "duration": 756,
    "start_time": "2022-01-25T20:32:11.505Z"
   },
   {
    "duration": 797,
    "start_time": "2022-01-25T20:32:12.264Z"
   },
   {
    "duration": 15,
    "start_time": "2022-01-25T20:32:13.064Z"
   },
   {
    "duration": 3,
    "start_time": "2022-01-25T20:32:13.081Z"
   },
   {
    "duration": 122,
    "start_time": "2022-01-25T20:32:13.086Z"
   },
   {
    "duration": 21,
    "start_time": "2022-01-25T20:32:13.211Z"
   },
   {
    "duration": 168,
    "start_time": "2022-01-25T20:33:02.523Z"
   },
   {
    "duration": 165,
    "start_time": "2022-01-25T20:33:32.484Z"
   },
   {
    "duration": 536,
    "start_time": "2022-01-25T20:36:37.883Z"
   },
   {
    "duration": 158,
    "start_time": "2022-01-25T20:37:19.218Z"
   },
   {
    "duration": 157,
    "start_time": "2022-01-25T20:37:27.438Z"
   },
   {
    "duration": 168,
    "start_time": "2022-01-25T20:40:01.145Z"
   },
   {
    "duration": 174,
    "start_time": "2022-01-25T20:40:04.352Z"
   },
   {
    "duration": 768,
    "start_time": "2022-01-25T20:44:44.225Z"
   },
   {
    "duration": 104,
    "start_time": "2022-01-25T20:44:44.996Z"
   },
   {
    "duration": 111,
    "start_time": "2022-01-25T20:44:45.105Z"
   },
   {
    "duration": 278,
    "start_time": "2022-01-25T20:44:45.219Z"
   },
   {
    "duration": 160,
    "start_time": "2022-01-25T20:44:45.499Z"
   },
   {
    "duration": 7,
    "start_time": "2022-01-25T20:44:45.662Z"
   },
   {
    "duration": 12,
    "start_time": "2022-01-25T20:44:45.672Z"
   },
   {
    "duration": 307,
    "start_time": "2022-01-25T20:44:45.687Z"
   },
   {
    "duration": 12,
    "start_time": "2022-01-25T20:44:45.998Z"
   },
   {
    "duration": 4252,
    "start_time": "2022-01-25T20:44:46.013Z"
   },
   {
    "duration": 808,
    "start_time": "2022-01-25T20:44:50.268Z"
   },
   {
    "duration": 861,
    "start_time": "2022-01-25T20:44:51.078Z"
   },
   {
    "duration": 878,
    "start_time": "2022-01-25T20:44:51.942Z"
   },
   {
    "duration": 16,
    "start_time": "2022-01-25T20:44:52.823Z"
   },
   {
    "duration": 7,
    "start_time": "2022-01-25T20:44:52.859Z"
   },
   {
    "duration": 19,
    "start_time": "2022-01-25T20:44:52.869Z"
   },
   {
    "duration": 22,
    "start_time": "2022-01-25T20:44:52.891Z"
   },
   {
    "duration": 794,
    "start_time": "2022-01-25T21:14:26.266Z"
   },
   {
    "duration": 870,
    "start_time": "2022-01-25T21:14:41.610Z"
   },
   {
    "duration": 1117,
    "start_time": "2022-01-25T21:14:54.447Z"
   },
   {
    "duration": 140,
    "start_time": "2022-01-25T21:16:23.098Z"
   },
   {
    "duration": 808,
    "start_time": "2022-01-25T21:16:33.068Z"
   },
   {
    "duration": 903,
    "start_time": "2022-01-25T21:16:46.737Z"
   },
   {
    "duration": 780,
    "start_time": "2022-01-25T21:17:15.533Z"
   },
   {
    "duration": 776,
    "start_time": "2022-01-25T21:17:27.645Z"
   },
   {
    "duration": 844,
    "start_time": "2022-01-25T21:17:37.406Z"
   },
   {
    "duration": 1090,
    "start_time": "2022-01-25T21:19:50.517Z"
   },
   {
    "duration": 811,
    "start_time": "2022-01-25T21:20:01.471Z"
   },
   {
    "duration": 14,
    "start_time": "2022-01-25T21:20:16.897Z"
   },
   {
    "duration": 398,
    "start_time": "2022-01-25T21:37:39.346Z"
   },
   {
    "duration": -621,
    "start_time": "2022-01-25T21:40:09.712Z"
   },
   {
    "duration": -623,
    "start_time": "2022-01-25T21:40:09.715Z"
   },
   {
    "duration": -623,
    "start_time": "2022-01-25T21:40:09.717Z"
   },
   {
    "duration": -622,
    "start_time": "2022-01-25T21:40:09.718Z"
   },
   {
    "duration": -623,
    "start_time": "2022-01-25T21:40:09.720Z"
   },
   {
    "duration": -624,
    "start_time": "2022-01-25T21:40:09.722Z"
   },
   {
    "duration": -625,
    "start_time": "2022-01-25T21:40:09.724Z"
   },
   {
    "duration": -625,
    "start_time": "2022-01-25T21:40:09.726Z"
   },
   {
    "duration": -629,
    "start_time": "2022-01-25T21:40:09.731Z"
   },
   {
    "duration": -628,
    "start_time": "2022-01-25T21:40:09.732Z"
   },
   {
    "duration": -629,
    "start_time": "2022-01-25T21:40:09.734Z"
   },
   {
    "duration": -629,
    "start_time": "2022-01-25T21:40:09.735Z"
   },
   {
    "duration": -629,
    "start_time": "2022-01-25T21:40:09.737Z"
   },
   {
    "duration": -629,
    "start_time": "2022-01-25T21:40:09.738Z"
   },
   {
    "duration": -629,
    "start_time": "2022-01-25T21:40:09.739Z"
   },
   {
    "duration": -628,
    "start_time": "2022-01-25T21:40:09.740Z"
   },
   {
    "duration": -629,
    "start_time": "2022-01-25T21:40:09.742Z"
   },
   {
    "duration": 9404,
    "start_time": "2022-01-25T21:40:22.772Z"
   },
   {
    "duration": 7,
    "start_time": "2022-01-25T21:42:05.936Z"
   },
   {
    "duration": 725,
    "start_time": "2022-01-25T22:06:19.204Z"
   },
   {
    "duration": 91,
    "start_time": "2022-01-25T22:06:19.933Z"
   },
   {
    "duration": 132,
    "start_time": "2022-01-25T22:06:20.027Z"
   },
   {
    "duration": 258,
    "start_time": "2022-01-25T22:06:20.163Z"
   },
   {
    "duration": 155,
    "start_time": "2022-01-25T22:06:20.424Z"
   },
   {
    "duration": 6,
    "start_time": "2022-01-25T22:06:20.582Z"
   },
   {
    "duration": 6,
    "start_time": "2022-01-25T22:06:20.591Z"
   },
   {
    "duration": 322,
    "start_time": "2022-01-25T22:06:20.603Z"
   },
   {
    "duration": 34,
    "start_time": "2022-01-25T22:06:20.929Z"
   },
   {
    "duration": 4098,
    "start_time": "2022-01-25T22:06:20.966Z"
   },
   {
    "duration": 903,
    "start_time": "2022-01-25T22:06:25.067Z"
   },
   {
    "duration": 919,
    "start_time": "2022-01-25T22:06:25.973Z"
   },
   {
    "duration": 977,
    "start_time": "2022-01-25T22:06:26.895Z"
   },
   {
    "duration": 19,
    "start_time": "2022-01-25T22:06:27.875Z"
   },
   {
    "duration": 7,
    "start_time": "2022-01-25T22:06:27.897Z"
   },
   {
    "duration": 14,
    "start_time": "2022-01-25T22:06:27.907Z"
   },
   {
    "duration": 30,
    "start_time": "2022-01-25T22:06:27.963Z"
   },
   {
    "duration": 749,
    "start_time": "2022-01-25T22:13:28.893Z"
   },
   {
    "duration": 85,
    "start_time": "2022-01-25T22:13:29.644Z"
   },
   {
    "duration": 155,
    "start_time": "2022-01-25T22:13:29.732Z"
   },
   {
    "duration": 273,
    "start_time": "2022-01-25T22:13:29.890Z"
   },
   {
    "duration": 171,
    "start_time": "2022-01-25T22:13:30.166Z"
   },
   {
    "duration": 4,
    "start_time": "2022-01-25T22:13:30.340Z"
   },
   {
    "duration": 22,
    "start_time": "2022-01-25T22:13:30.347Z"
   },
   {
    "duration": 304,
    "start_time": "2022-01-25T22:13:30.371Z"
   },
   {
    "duration": 10,
    "start_time": "2022-01-25T22:13:30.679Z"
   },
   {
    "duration": 4144,
    "start_time": "2022-01-25T22:13:30.692Z"
   },
   {
    "duration": 922,
    "start_time": "2022-01-25T22:13:34.839Z"
   },
   {
    "duration": 927,
    "start_time": "2022-01-25T22:13:35.765Z"
   },
   {
    "duration": 853,
    "start_time": "2022-01-25T22:13:36.695Z"
   },
   {
    "duration": 21,
    "start_time": "2022-01-25T22:13:37.559Z"
   },
   {
    "duration": 6,
    "start_time": "2022-01-25T22:13:37.582Z"
   },
   {
    "duration": 13,
    "start_time": "2022-01-25T22:13:37.590Z"
   },
   {
    "duration": 66,
    "start_time": "2022-01-25T22:13:37.605Z"
   },
   {
    "duration": 120,
    "start_time": "2022-01-25T22:17:10.631Z"
   },
   {
    "duration": 10,
    "start_time": "2022-01-25T22:17:24.237Z"
   },
   {
    "duration": 365,
    "start_time": "2022-01-25T22:18:08.272Z"
   },
   {
    "duration": 371,
    "start_time": "2022-01-25T22:18:15.845Z"
   },
   {
    "duration": 9,
    "start_time": "2022-01-25T22:18:20.422Z"
   },
   {
    "duration": 358,
    "start_time": "2022-01-25T22:18:46.695Z"
   },
   {
    "duration": 365,
    "start_time": "2022-01-25T22:19:04.214Z"
   },
   {
    "duration": 381,
    "start_time": "2022-01-25T22:19:15.235Z"
   },
   {
    "duration": 456,
    "start_time": "2022-01-25T22:19:21.651Z"
   },
   {
    "duration": 385,
    "start_time": "2022-01-25T22:19:45.735Z"
   },
   {
    "duration": 426,
    "start_time": "2022-01-25T22:19:51.823Z"
   },
   {
    "duration": 10,
    "start_time": "2022-01-25T22:19:58.610Z"
   },
   {
    "duration": 68,
    "start_time": "2022-01-25T22:20:56.622Z"
   },
   {
    "duration": 390,
    "start_time": "2022-01-25T22:21:40.708Z"
   },
   {
    "duration": 205,
    "start_time": "2022-01-25T22:22:02.131Z"
   },
   {
    "duration": 356,
    "start_time": "2022-01-25T22:22:19.103Z"
   },
   {
    "duration": 77,
    "start_time": "2022-01-25T22:22:29.476Z"
   },
   {
    "duration": 128,
    "start_time": "2022-01-25T22:22:39.070Z"
   },
   {
    "duration": 740,
    "start_time": "2022-01-25T22:22:49.081Z"
   },
   {
    "duration": 91,
    "start_time": "2022-01-25T22:22:49.823Z"
   },
   {
    "duration": 111,
    "start_time": "2022-01-25T22:22:49.917Z"
   },
   {
    "duration": 282,
    "start_time": "2022-01-25T22:22:50.030Z"
   },
   {
    "duration": 167,
    "start_time": "2022-01-25T22:22:50.315Z"
   },
   {
    "duration": 6,
    "start_time": "2022-01-25T22:22:50.484Z"
   },
   {
    "duration": 8,
    "start_time": "2022-01-25T22:22:50.492Z"
   },
   {
    "duration": 328,
    "start_time": "2022-01-25T22:22:50.506Z"
   },
   {
    "duration": 30,
    "start_time": "2022-01-25T22:22:50.838Z"
   },
   {
    "duration": 4076,
    "start_time": "2022-01-25T22:22:50.872Z"
   },
   {
    "duration": 783,
    "start_time": "2022-01-25T22:22:54.950Z"
   },
   {
    "duration": 866,
    "start_time": "2022-01-25T22:22:55.736Z"
   },
   {
    "duration": 969,
    "start_time": "2022-01-25T22:22:56.604Z"
   },
   {
    "duration": 58,
    "start_time": "2022-01-25T22:22:57.576Z"
   },
   {
    "duration": 154,
    "start_time": "2022-01-25T22:22:57.637Z"
   },
   {
    "duration": 13,
    "start_time": "2022-01-25T22:22:57.793Z"
   },
   {
    "duration": 54,
    "start_time": "2022-01-25T22:22:57.808Z"
   },
   {
    "duration": 701,
    "start_time": "2022-01-25T22:40:14.845Z"
   },
   {
    "duration": 67,
    "start_time": "2022-01-25T22:40:15.560Z"
   },
   {
    "duration": 133,
    "start_time": "2022-01-25T22:40:15.632Z"
   },
   {
    "duration": 253,
    "start_time": "2022-01-25T22:40:15.768Z"
   },
   {
    "duration": 153,
    "start_time": "2022-01-25T22:40:16.024Z"
   },
   {
    "duration": 6,
    "start_time": "2022-01-25T22:40:16.180Z"
   },
   {
    "duration": 7,
    "start_time": "2022-01-25T22:40:16.189Z"
   },
   {
    "duration": 321,
    "start_time": "2022-01-25T22:40:16.203Z"
   },
   {
    "duration": 10,
    "start_time": "2022-01-25T22:40:16.528Z"
   },
   {
    "duration": 3902,
    "start_time": "2022-01-25T22:40:16.540Z"
   },
   {
    "duration": 975,
    "start_time": "2022-01-25T22:40:20.444Z"
   },
   {
    "duration": 772,
    "start_time": "2022-01-25T22:40:21.421Z"
   },
   {
    "duration": 911,
    "start_time": "2022-01-25T22:40:22.195Z"
   },
   {
    "duration": 72,
    "start_time": "2022-01-25T22:40:23.109Z"
   },
   {
    "duration": 123,
    "start_time": "2022-01-25T22:40:23.184Z"
   },
   {
    "duration": 12,
    "start_time": "2022-01-25T22:40:23.309Z"
   },
   {
    "duration": 43,
    "start_time": "2022-01-25T22:40:23.323Z"
   },
   {
    "duration": 9,
    "start_time": "2022-01-25T22:40:33.439Z"
   },
   {
    "duration": 116,
    "start_time": "2022-01-25T22:40:46.811Z"
   },
   {
    "duration": 9,
    "start_time": "2022-01-25T22:41:23.532Z"
   },
   {
    "duration": 8545,
    "start_time": "2022-01-25T22:42:35.867Z"
   },
   {
    "duration": 9,
    "start_time": "2022-01-25T22:42:50.380Z"
   },
   {
    "duration": 12,
    "start_time": "2022-01-25T22:53:01.711Z"
   },
   {
    "duration": 12,
    "start_time": "2022-01-25T22:53:06.479Z"
   },
   {
    "duration": 25,
    "start_time": "2022-01-25T22:53:47.071Z"
   },
   {
    "duration": 32,
    "start_time": "2022-01-25T22:53:56.279Z"
   },
   {
    "duration": 23,
    "start_time": "2022-01-25T22:53:59.622Z"
   },
   {
    "duration": 24,
    "start_time": "2022-01-25T22:54:38.781Z"
   },
   {
    "duration": 31,
    "start_time": "2022-01-25T22:56:27.789Z"
   },
   {
    "duration": 22,
    "start_time": "2022-01-25T22:57:53.519Z"
   },
   {
    "duration": 119,
    "start_time": "2022-01-25T23:21:11.092Z"
   },
   {
    "duration": 1507,
    "start_time": "2022-01-26T06:18:08.894Z"
   },
   {
    "duration": 45,
    "start_time": "2022-01-26T06:18:10.403Z"
   },
   {
    "duration": 72,
    "start_time": "2022-01-26T06:18:10.450Z"
   },
   {
    "duration": 177,
    "start_time": "2022-01-26T06:18:10.523Z"
   },
   {
    "duration": 92,
    "start_time": "2022-01-26T06:18:10.701Z"
   },
   {
    "duration": 3,
    "start_time": "2022-01-26T06:18:10.795Z"
   },
   {
    "duration": 6,
    "start_time": "2022-01-26T06:18:10.799Z"
   },
   {
    "duration": 172,
    "start_time": "2022-01-26T06:18:10.807Z"
   },
   {
    "duration": 7,
    "start_time": "2022-01-26T06:18:10.981Z"
   },
   {
    "duration": 1867,
    "start_time": "2022-01-26T06:18:10.990Z"
   },
   {
    "duration": 436,
    "start_time": "2022-01-26T06:18:12.859Z"
   },
   {
    "duration": 595,
    "start_time": "2022-01-26T06:18:13.297Z"
   },
   {
    "duration": 461,
    "start_time": "2022-01-26T06:18:13.894Z"
   },
   {
    "duration": 40,
    "start_time": "2022-01-26T06:18:14.356Z"
   },
   {
    "duration": 5,
    "start_time": "2022-01-26T06:18:14.397Z"
   },
   {
    "duration": 7,
    "start_time": "2022-01-26T06:18:14.403Z"
   },
   {
    "duration": 14,
    "start_time": "2022-01-26T06:18:14.411Z"
   },
   {
    "duration": 398,
    "start_time": "2022-01-26T06:22:58.497Z"
   },
   {
    "duration": 335,
    "start_time": "2022-01-26T06:24:54.492Z"
   },
   {
    "duration": 6,
    "start_time": "2022-01-26T06:25:12.536Z"
   },
   {
    "duration": 20,
    "start_time": "2022-01-26T06:28:38.079Z"
   },
   {
    "duration": 8023,
    "start_time": "2022-01-26T06:31:22.160Z"
   },
   {
    "duration": 6,
    "start_time": "2022-01-26T06:31:55.586Z"
   },
   {
    "duration": 19,
    "start_time": "2022-01-26T06:32:51.181Z"
   },
   {
    "duration": 7,
    "start_time": "2022-01-26T06:35:14.251Z"
   },
   {
    "duration": 8,
    "start_time": "2022-01-26T06:35:25.983Z"
   },
   {
    "duration": 17,
    "start_time": "2022-01-26T06:36:35.402Z"
   },
   {
    "duration": 7,
    "start_time": "2022-01-26T06:41:20.596Z"
   },
   {
    "duration": 7,
    "start_time": "2022-01-26T06:41:43.418Z"
   },
   {
    "duration": 7,
    "start_time": "2022-01-26T06:42:14.498Z"
   },
   {
    "duration": 13,
    "start_time": "2022-01-26T06:42:16.221Z"
   },
   {
    "duration": 15,
    "start_time": "2022-01-26T06:44:47.369Z"
   },
   {
    "duration": 10,
    "start_time": "2022-01-26T06:45:01.916Z"
   },
   {
    "duration": 7,
    "start_time": "2022-01-26T06:45:56.452Z"
   },
   {
    "duration": 7,
    "start_time": "2022-01-26T06:46:11.758Z"
   },
   {
    "duration": 8,
    "start_time": "2022-01-26T06:46:27.817Z"
   },
   {
    "duration": 6,
    "start_time": "2022-01-26T06:46:38.298Z"
   },
   {
    "duration": 5,
    "start_time": "2022-01-26T06:46:55.309Z"
   },
   {
    "duration": 9,
    "start_time": "2022-01-26T06:49:27.834Z"
   },
   {
    "duration": 12,
    "start_time": "2022-01-26T06:50:31.784Z"
   },
   {
    "duration": 10,
    "start_time": "2022-01-26T06:50:43.221Z"
   },
   {
    "duration": 7,
    "start_time": "2022-01-26T06:52:10.555Z"
   },
   {
    "duration": 499,
    "start_time": "2022-01-26T06:57:05.928Z"
   },
   {
    "duration": 63,
    "start_time": "2022-01-26T06:57:06.429Z"
   },
   {
    "duration": 50,
    "start_time": "2022-01-26T06:57:06.494Z"
   },
   {
    "duration": 188,
    "start_time": "2022-01-26T06:57:06.546Z"
   },
   {
    "duration": 98,
    "start_time": "2022-01-26T06:57:06.736Z"
   },
   {
    "duration": 3,
    "start_time": "2022-01-26T06:57:06.836Z"
   },
   {
    "duration": 5,
    "start_time": "2022-01-26T06:57:06.840Z"
   },
   {
    "duration": 228,
    "start_time": "2022-01-26T06:57:06.846Z"
   },
   {
    "duration": 8,
    "start_time": "2022-01-26T06:57:07.077Z"
   },
   {
    "duration": 2022,
    "start_time": "2022-01-26T06:57:07.087Z"
   },
   {
    "duration": 467,
    "start_time": "2022-01-26T06:57:09.111Z"
   },
   {
    "duration": 640,
    "start_time": "2022-01-26T06:57:09.580Z"
   },
   {
    "duration": 484,
    "start_time": "2022-01-26T06:57:10.222Z"
   },
   {
    "duration": 9,
    "start_time": "2022-01-26T06:57:10.707Z"
   },
   {
    "duration": 4,
    "start_time": "2022-01-26T06:57:10.717Z"
   },
   {
    "duration": 8,
    "start_time": "2022-01-26T06:57:10.723Z"
   },
   {
    "duration": 47,
    "start_time": "2022-01-26T06:57:10.732Z"
   },
   {
    "duration": 9,
    "start_time": "2022-01-26T06:57:10.782Z"
   },
   {
    "duration": 489,
    "start_time": "2022-01-26T07:01:22.504Z"
   },
   {
    "duration": 5,
    "start_time": "2022-01-26T07:01:38.395Z"
   },
   {
    "duration": 2142,
    "start_time": "2022-02-23T14:22:12.626Z"
   },
   {
    "duration": 93,
    "start_time": "2022-02-23T14:22:14.771Z"
   },
   {
    "duration": 111,
    "start_time": "2022-02-23T14:22:14.866Z"
   },
   {
    "duration": 283,
    "start_time": "2022-02-23T14:22:14.980Z"
   },
   {
    "duration": 171,
    "start_time": "2022-02-23T14:22:15.266Z"
   },
   {
    "duration": 5,
    "start_time": "2022-02-23T14:22:15.439Z"
   },
   {
    "duration": 18,
    "start_time": "2022-02-23T14:22:15.446Z"
   },
   {
    "duration": 309,
    "start_time": "2022-02-23T14:22:15.468Z"
   },
   {
    "duration": 13,
    "start_time": "2022-02-23T14:22:15.780Z"
   },
   {
    "duration": 4194,
    "start_time": "2022-02-23T14:22:15.795Z"
   },
   {
    "duration": 863,
    "start_time": "2022-02-23T14:22:19.991Z"
   },
   {
    "duration": 872,
    "start_time": "2022-02-23T14:22:20.857Z"
   },
   {
    "duration": 859,
    "start_time": "2022-02-23T14:22:21.732Z"
   },
   {
    "duration": 34,
    "start_time": "2022-02-23T14:22:22.593Z"
   },
   {
    "duration": 9,
    "start_time": "2022-02-23T14:22:22.630Z"
   },
   {
    "duration": 14,
    "start_time": "2022-02-23T14:22:22.641Z"
   },
   {
    "duration": 22,
    "start_time": "2022-02-23T14:22:22.658Z"
   },
   {
    "duration": 52,
    "start_time": "2022-02-23T14:22:22.682Z"
   },
   {
    "duration": 2318,
    "start_time": "2022-06-13T17:00:15.874Z"
   },
   {
    "duration": 69,
    "start_time": "2022-06-13T17:00:18.194Z"
   },
   {
    "duration": 106,
    "start_time": "2022-06-13T17:00:18.266Z"
   },
   {
    "duration": 188,
    "start_time": "2022-06-13T17:00:18.374Z"
   },
   {
    "duration": 105,
    "start_time": "2022-06-13T17:00:18.564Z"
   },
   {
    "duration": 4,
    "start_time": "2022-06-13T17:00:18.671Z"
   },
   {
    "duration": 9,
    "start_time": "2022-06-13T17:00:18.676Z"
   },
   {
    "duration": 116,
    "start_time": "2022-06-13T17:00:18.686Z"
   },
   {
    "duration": 8,
    "start_time": "2022-06-13T17:00:18.804Z"
   },
   {
    "duration": 2294,
    "start_time": "2022-06-13T17:00:18.813Z"
   },
   {
    "duration": 408,
    "start_time": "2022-06-13T17:00:21.109Z"
   },
   {
    "duration": 405,
    "start_time": "2022-06-13T17:00:21.520Z"
   },
   {
    "duration": 456,
    "start_time": "2022-06-13T17:00:21.927Z"
   },
   {
    "duration": 9,
    "start_time": "2022-06-13T17:00:22.386Z"
   },
   {
    "duration": 12,
    "start_time": "2022-06-13T17:00:22.396Z"
   },
   {
    "duration": 13,
    "start_time": "2022-06-13T17:00:22.410Z"
   },
   {
    "duration": 27,
    "start_time": "2022-06-13T17:00:22.425Z"
   },
   {
    "duration": 16,
    "start_time": "2022-06-13T17:00:22.454Z"
   }
  ],
  "kernelspec": {
   "display_name": "Python 3",
   "language": "python",
   "name": "python3"
  },
  "language_info": {
   "codemirror_mode": {
    "name": "ipython",
    "version": 3
   },
   "file_extension": ".py",
   "mimetype": "text/x-python",
   "name": "python",
   "nbconvert_exporter": "python",
   "pygments_lexer": "ipython3",
   "version": "3.7.12"
  },
  "toc": {
   "base_numbering": 1,
   "nav_menu": {},
   "number_sections": true,
   "sideBar": true,
   "skip_h1_title": true,
   "title_cell": "Table of Contents",
   "title_sidebar": "Contents",
   "toc_cell": false,
   "toc_position": {
    "height": "calc(100% - 180px)",
    "left": "10px",
    "top": "150px",
    "width": "165px"
   },
   "toc_section_display": true,
   "toc_window_display": false
  }
 },
 "nbformat": 4,
 "nbformat_minor": 2
}
